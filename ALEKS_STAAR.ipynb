{
 "cells": [
  {
   "cell_type": "markdown",
   "id": "8b88e3a9",
   "metadata": {},
   "source": [
    "# The Effect of ALEKS (Math Software) on Mathematics Achivements on STAAR (Texas State Test)"
   ]
  },
  {
   "cell_type": "markdown",
   "id": "05db226c",
   "metadata": {},
   "source": [
    "## What is ALEKS?\n",
    "ALEKS is an artificially intelligent, research-based, online learning and assessment system that offers course products for Math and being used by over 25 million students. ALEKS helps students master course topics through a continuous cycle of mastery, knowledge retention, and positive feedback. Each student begins a new course with a unique set of knowledge and prerequisite gaps to fill. By determining the student's baseline of knowledge, ALEKS creates an individual and dynamic path to success where students learn and then master topics.\n",
    "\n",
    "## What is STAAR?\n",
    "STAAR is the state of Texas' testing program and is based on state curriculum standards in core subjects including reading, writing, mathematics, science, and social studies. STAAR tests are designed to measure what students are learning in each grade and whether or not they are ready for the next grade. The goal is to ensure that all students receive what they need to be academically successful. For STAAR, the labels for the performance categories are\n",
    "\n",
    "- Masters Grade Level\n",
    "- Meets Grade Level\n",
    "- Approaches Grade Level\n",
    "- Did Not Meet Grade Level (Fails)\n",
    "\n",
    "Students receive one of the above ratings based on their test performance. Schools and districts are rated based on how students score on the State of Texas Assessments of Academic Readiness (STAAR).\n",
    "\n",
    "## What is the Data Science Problem?\n",
    "Our 3rd-9th grade students have blended learning time in which students work on completing their ALEKS topic goals. We believe ALEKS helps students improve their math skills and retain their math knowledge. One metric that measure math progress is STAAR test.\n",
    "\n",
    "Our problem is to be able to project our students STAAR test performances (pass or fail) based on their ALEKS progress.\n",
    "\n",
    "Our hypothesis is that students who reach certain amount of mastery on ALEKS will likely to pass the STAAR test (receive Approaches grade level or above rating).\n",
    "\n",
    "## How was Data Collected?\n",
    "We gathered data by generating ALEKS reports and combining with STAAR test results. During the data cleaning process, some data has been removed due to not missing fileds and duplicates. We also removed confidential columns like student and teacher names, and ID numbers as well as some irrelevant colums. \n",
    "\n",
    "### Loading Libraries"
   ]
  },
  {
   "cell_type": "code",
   "execution_count": 510,
   "id": "3da45681",
   "metadata": {},
   "outputs": [],
   "source": [
    "import numpy as np\n",
    "import pandas as pd\n",
    "from pandas import read_csv\n",
    "import seaborn as sns\n",
    "import matplotlib as mpl\n",
    "import matplotlib.pyplot as plt\n",
    "import plotly.express as px\n",
    "import plotly.graph_objects as go\n",
    "\n",
    "from pandas.plotting import scatter_matrix\n",
    "from sklearn.preprocessing import StandardScaler, MinMaxScaler\n",
    "from sklearn.model_selection import train_test_split, cross_val_score, StratifiedKFold, GridSearchCV, RepeatedStratifiedKFold\n",
    "from sklearn.metrics import classification_report, confusion_matrix, accuracy_score, plot_confusion_matrix, \\\n",
    "roc_auc_score, roc_curve, auc, SCORERS\n",
    "\n",
    "from sklearn import linear_model\n",
    "from sklearn.linear_model import LogisticRegression, SGDClassifier\n",
    "from sklearn.tree import DecisionTreeClassifier\n",
    "from sklearn.ensemble import RandomForestClassifier, GradientBoostingClassifier, AdaBoostClassifier\n",
    "from sklearn.neighbors import KNeighborsClassifier\n",
    "from sklearn.discriminant_analysis import LinearDiscriminantAnalysis\n",
    "from sklearn.naive_bayes import GaussianNB\n",
    "from sklearn import svm \n",
    "from sklearn.svm import SVC\n",
    "from sklearn.svm import LinearSVC\n",
    "from sklearn.pipeline import make_pipeline\n",
    "from sklearn.decomposition import PCA, KernelPCA\n",
    "from sklearn.utils import resample\n",
    "\n",
    "from catboost import CatBoostClassifier\n",
    "from lightgbm import LGBMClassifier\n",
    "from xgboost import XGBClassifier\n",
    "\n",
    "from sklearn.exceptions import ConvergenceWarning\n",
    "ConvergenceWarning('ignore')\n",
    "\n",
    "\n",
    "pd.set_option('display.max_columns', None)\n",
    "\n",
    "%matplotlib inline\n",
    "\n",
    "random_seed = 42"
   ]
  },
  {
   "cell_type": "code",
   "execution_count": 34,
   "id": "e42fb969",
   "metadata": {},
   "outputs": [],
   "source": [
    "#location of the dataset.\n",
    "path = \"./dataset/ALEKS_2021-22_EOY.xlsx\""
   ]
  },
  {
   "cell_type": "code",
   "execution_count": 35,
   "id": "0e04cb7a",
   "metadata": {},
   "outputs": [],
   "source": [
    "# Load dataset\n",
    "df_original = pd.read_excel(path)"
   ]
  },
  {
   "cell_type": "code",
   "execution_count": 36,
   "id": "2ac65e34",
   "metadata": {},
   "outputs": [],
   "source": [
    "# Make a copy so that we keep the original just in case.\n",
    "df = df_original.copy()"
   ]
  },
  {
   "cell_type": "code",
   "execution_count": 37,
   "id": "a4dbe2f0",
   "metadata": {},
   "outputs": [
    {
     "data": {
      "text/html": [
       "<div>\n",
       "<style scoped>\n",
       "    .dataframe tbody tr th:only-of-type {\n",
       "        vertical-align: middle;\n",
       "    }\n",
       "\n",
       "    .dataframe tbody tr th {\n",
       "        vertical-align: top;\n",
       "    }\n",
       "\n",
       "    .dataframe thead th {\n",
       "        text-align: right;\n",
       "    }\n",
       "</style>\n",
       "<table border=\"1\" class=\"dataframe\">\n",
       "  <thead>\n",
       "    <tr style=\"text-align: right;\">\n",
       "      <th></th>\n",
       "      <th>School Grade</th>\n",
       "      <th>ALEKS Grade</th>\n",
       "      <th>Campus</th>\n",
       "      <th>BOY Mastery</th>\n",
       "      <th>BOY Mastered Topics</th>\n",
       "      <th>EOY Mastery</th>\n",
       "      <th>EOY Mastered Topics</th>\n",
       "      <th>Total Number of Topics</th>\n",
       "      <th>Progress</th>\n",
       "      <th>Learned</th>\n",
       "      <th>Total Time Spent</th>\n",
       "      <th>STAAR Performance</th>\n",
       "    </tr>\n",
       "  </thead>\n",
       "  <tbody>\n",
       "    <tr>\n",
       "      <th>0</th>\n",
       "      <td>7</td>\n",
       "      <td>7</td>\n",
       "      <td>Harmony School of Innovation-Waco</td>\n",
       "      <td>0.125506</td>\n",
       "      <td>31</td>\n",
       "      <td>0.125506</td>\n",
       "      <td>31</td>\n",
       "      <td>247</td>\n",
       "      <td>0.010000</td>\n",
       "      <td>16</td>\n",
       "      <td>897.600000</td>\n",
       "      <td>Meets</td>\n",
       "    </tr>\n",
       "    <tr>\n",
       "      <th>1</th>\n",
       "      <td>9</td>\n",
       "      <td>9</td>\n",
       "      <td>Harmony Science Academy-El Paso</td>\n",
       "      <td>0.073654</td>\n",
       "      <td>26</td>\n",
       "      <td>0.073654</td>\n",
       "      <td>26</td>\n",
       "      <td>353</td>\n",
       "      <td>0.010000</td>\n",
       "      <td>20</td>\n",
       "      <td>513.183333</td>\n",
       "      <td>Approaches</td>\n",
       "    </tr>\n",
       "    <tr>\n",
       "      <th>2</th>\n",
       "      <td>8</td>\n",
       "      <td>8</td>\n",
       "      <td>Harmony School of Innovation-Garland</td>\n",
       "      <td>0.111570</td>\n",
       "      <td>27</td>\n",
       "      <td>0.111570</td>\n",
       "      <td>27</td>\n",
       "      <td>242</td>\n",
       "      <td>0.010000</td>\n",
       "      <td>35</td>\n",
       "      <td>1375.300000</td>\n",
       "      <td>Approaches</td>\n",
       "    </tr>\n",
       "    <tr>\n",
       "      <th>3</th>\n",
       "      <td>6</td>\n",
       "      <td>6</td>\n",
       "      <td>Harmony Science Academy-Garland</td>\n",
       "      <td>0.366013</td>\n",
       "      <td>112</td>\n",
       "      <td>0.366013</td>\n",
       "      <td>112</td>\n",
       "      <td>306</td>\n",
       "      <td>0.010000</td>\n",
       "      <td>74</td>\n",
       "      <td>1886.050000</td>\n",
       "      <td>Approaches</td>\n",
       "    </tr>\n",
       "    <tr>\n",
       "      <th>4</th>\n",
       "      <td>5</td>\n",
       "      <td>5</td>\n",
       "      <td>Harmony School of Excellence-San Antonio</td>\n",
       "      <td>0.051587</td>\n",
       "      <td>13</td>\n",
       "      <td>0.055556</td>\n",
       "      <td>14</td>\n",
       "      <td>252</td>\n",
       "      <td>0.010000</td>\n",
       "      <td>13</td>\n",
       "      <td>842.016667</td>\n",
       "      <td>Fails</td>\n",
       "    </tr>\n",
       "    <tr>\n",
       "      <th>...</th>\n",
       "      <td>...</td>\n",
       "      <td>...</td>\n",
       "      <td>...</td>\n",
       "      <td>...</td>\n",
       "      <td>...</td>\n",
       "      <td>...</td>\n",
       "      <td>...</td>\n",
       "      <td>...</td>\n",
       "      <td>...</td>\n",
       "      <td>...</td>\n",
       "      <td>...</td>\n",
       "      <td>...</td>\n",
       "    </tr>\n",
       "    <tr>\n",
       "      <th>11714</th>\n",
       "      <td>6</td>\n",
       "      <td>9</td>\n",
       "      <td>Harmony School of Discovery-Houston</td>\n",
       "      <td>0.249292</td>\n",
       "      <td>88</td>\n",
       "      <td>2.000000</td>\n",
       "      <td>353</td>\n",
       "      <td>353</td>\n",
       "      <td>1.750708</td>\n",
       "      <td>324</td>\n",
       "      <td>5221.383333</td>\n",
       "      <td>Masters</td>\n",
       "    </tr>\n",
       "    <tr>\n",
       "      <th>11715</th>\n",
       "      <td>6</td>\n",
       "      <td>7</td>\n",
       "      <td>Harmony School of Technology-Houston</td>\n",
       "      <td>0.234818</td>\n",
       "      <td>58</td>\n",
       "      <td>2.000000</td>\n",
       "      <td>247</td>\n",
       "      <td>247</td>\n",
       "      <td>1.765182</td>\n",
       "      <td>179</td>\n",
       "      <td>5617.866667</td>\n",
       "      <td>Masters</td>\n",
       "    </tr>\n",
       "    <tr>\n",
       "      <th>11716</th>\n",
       "      <td>3</td>\n",
       "      <td>6</td>\n",
       "      <td>Harmony Science Academy-Cedar Park</td>\n",
       "      <td>0.233696</td>\n",
       "      <td>43</td>\n",
       "      <td>2.000000</td>\n",
       "      <td>184</td>\n",
       "      <td>184</td>\n",
       "      <td>1.766304</td>\n",
       "      <td>144</td>\n",
       "      <td>1174.400000</td>\n",
       "      <td>Meets</td>\n",
       "    </tr>\n",
       "    <tr>\n",
       "      <th>11717</th>\n",
       "      <td>4</td>\n",
       "      <td>5</td>\n",
       "      <td>Harmony School of Innovation-Carrollton</td>\n",
       "      <td>0.181818</td>\n",
       "      <td>30</td>\n",
       "      <td>1.957576</td>\n",
       "      <td>158</td>\n",
       "      <td>165</td>\n",
       "      <td>1.775758</td>\n",
       "      <td>133</td>\n",
       "      <td>1528.883333</td>\n",
       "      <td>Masters</td>\n",
       "    </tr>\n",
       "    <tr>\n",
       "      <th>11718</th>\n",
       "      <td>3</td>\n",
       "      <td>5</td>\n",
       "      <td>Harmony School of Science-Austin</td>\n",
       "      <td>0.000000</td>\n",
       "      <td>0</td>\n",
       "      <td>1.830303</td>\n",
       "      <td>137</td>\n",
       "      <td>165</td>\n",
       "      <td>1.830303</td>\n",
       "      <td>143</td>\n",
       "      <td>770.250000</td>\n",
       "      <td>Masters</td>\n",
       "    </tr>\n",
       "  </tbody>\n",
       "</table>\n",
       "<p>11719 rows × 12 columns</p>\n",
       "</div>"
      ],
      "text/plain": [
       "       School Grade  ALEKS Grade                                    Campus  \\\n",
       "0                 7            7         Harmony School of Innovation-Waco   \n",
       "1                 9            9           Harmony Science Academy-El Paso   \n",
       "2                 8            8      Harmony School of Innovation-Garland   \n",
       "3                 6            6           Harmony Science Academy-Garland   \n",
       "4                 5            5  Harmony School of Excellence-San Antonio   \n",
       "...             ...          ...                                       ...   \n",
       "11714             6            9       Harmony School of Discovery-Houston   \n",
       "11715             6            7      Harmony School of Technology-Houston   \n",
       "11716             3            6        Harmony Science Academy-Cedar Park   \n",
       "11717             4            5   Harmony School of Innovation-Carrollton   \n",
       "11718             3            5          Harmony School of Science-Austin   \n",
       "\n",
       "       BOY Mastery  BOY Mastered Topics  EOY Mastery  EOY Mastered Topics  \\\n",
       "0         0.125506                   31     0.125506                   31   \n",
       "1         0.073654                   26     0.073654                   26   \n",
       "2         0.111570                   27     0.111570                   27   \n",
       "3         0.366013                  112     0.366013                  112   \n",
       "4         0.051587                   13     0.055556                   14   \n",
       "...            ...                  ...          ...                  ...   \n",
       "11714     0.249292                   88     2.000000                  353   \n",
       "11715     0.234818                   58     2.000000                  247   \n",
       "11716     0.233696                   43     2.000000                  184   \n",
       "11717     0.181818                   30     1.957576                  158   \n",
       "11718     0.000000                    0     1.830303                  137   \n",
       "\n",
       "       Total Number of Topics  Progress  Learned  Total Time Spent  \\\n",
       "0                         247  0.010000       16        897.600000   \n",
       "1                         353  0.010000       20        513.183333   \n",
       "2                         242  0.010000       35       1375.300000   \n",
       "3                         306  0.010000       74       1886.050000   \n",
       "4                         252  0.010000       13        842.016667   \n",
       "...                       ...       ...      ...               ...   \n",
       "11714                     353  1.750708      324       5221.383333   \n",
       "11715                     247  1.765182      179       5617.866667   \n",
       "11716                     184  1.766304      144       1174.400000   \n",
       "11717                     165  1.775758      133       1528.883333   \n",
       "11718                     165  1.830303      143        770.250000   \n",
       "\n",
       "      STAAR Performance  \n",
       "0                 Meets  \n",
       "1            Approaches  \n",
       "2            Approaches  \n",
       "3            Approaches  \n",
       "4                 Fails  \n",
       "...                 ...  \n",
       "11714           Masters  \n",
       "11715           Masters  \n",
       "11716             Meets  \n",
       "11717           Masters  \n",
       "11718           Masters  \n",
       "\n",
       "[11719 rows x 12 columns]"
      ]
     },
     "execution_count": 37,
     "metadata": {},
     "output_type": "execute_result"
    }
   ],
   "source": [
    "#Take a look at the data.\n",
    "df"
   ]
  },
  {
   "cell_type": "markdown",
   "id": "4f80c8c4",
   "metadata": {},
   "source": [
    "## Explanation of Features\n",
    "- <b>School Grade:</b> Students current math grade\n",
    "- <b>ALEKS Grade:</b> Some students can be placed in lower or higher than their school grade in ALEKS depending on their needs.\n",
    "- <b>Campus:</b> School name\n",
    "- <b>BOY Mastery:</b> What percentage of total topics a student mastered at the begining of the school year during the initial knowledge check.\n",
    "- <b>BOY Mastered Topics:</b> How many topics a student mastered at the begining of the school year during the initial knowledge check. \n",
    "- <b>EOY Mastery:</b> What percentage of total topics a student mastered by the end of the school year.\n",
    "- <b>EOY Mastered Topics:</b> How many topics a student mastered by the end of the school year.\n",
    "- <b>Total Number of Topics:</b> Total number of topics available in student's ALEKS course.\n",
    "- <b>Progress:</b> The difference between EOY and BOY Mastery.\n",
    "- <b>Learned:</b> How many topics a student learn during the coursework.\n",
    "- <b>Attempted:</b> How many topics a student attempted to learn during the coursework.\n",
    "- <b>Total Time Spent:</b> How much time in minutes a student spent on ALEKS during the entire coursework.\n",
    "- <b>STAAR Performance:</b> Performance category of a student based on STAAR test result."
   ]
  },
  {
   "cell_type": "code",
   "execution_count": 6,
   "id": "b77b48b3",
   "metadata": {},
   "outputs": [
    {
     "data": {
      "text/plain": [
       "School Grade                int64\n",
       "ALEKS Grade                 int64\n",
       "Campus                     object\n",
       "BOY Mastery               float64\n",
       "BOY Mastered Topics         int64\n",
       "EOY Mastery               float64\n",
       "EOY Mastered Topics         int64\n",
       "Total Number of Topics      int64\n",
       "Progress                  float64\n",
       "Learned                     int64\n",
       "Total Time Spent          float64\n",
       "STAAR Performance          object\n",
       "dtype: object"
      ]
     },
     "execution_count": 6,
     "metadata": {},
     "output_type": "execute_result"
    }
   ],
   "source": [
    "#Data Types\n",
    "df.dtypes"
   ]
  },
  {
   "cell_type": "code",
   "execution_count": 38,
   "id": "0a542253",
   "metadata": {},
   "outputs": [
    {
     "data": {
      "text/html": [
       "<div>\n",
       "<style scoped>\n",
       "    .dataframe tbody tr th:only-of-type {\n",
       "        vertical-align: middle;\n",
       "    }\n",
       "\n",
       "    .dataframe tbody tr th {\n",
       "        vertical-align: top;\n",
       "    }\n",
       "\n",
       "    .dataframe thead th {\n",
       "        text-align: right;\n",
       "    }\n",
       "</style>\n",
       "<table border=\"1\" class=\"dataframe\">\n",
       "  <thead>\n",
       "    <tr style=\"text-align: right;\">\n",
       "      <th></th>\n",
       "      <th>School Grade</th>\n",
       "      <th>ALEKS Grade</th>\n",
       "      <th>Campus</th>\n",
       "      <th>BOY Mastery</th>\n",
       "      <th>BOY Mastered Topics</th>\n",
       "      <th>EOY Mastery</th>\n",
       "      <th>EOY Mastered Topics</th>\n",
       "      <th>Total Number of Topics</th>\n",
       "      <th>Progress</th>\n",
       "      <th>Learned</th>\n",
       "      <th>Total Time Spent</th>\n",
       "      <th>STAAR Performance</th>\n",
       "      <th>Target</th>\n",
       "    </tr>\n",
       "  </thead>\n",
       "  <tbody>\n",
       "    <tr>\n",
       "      <th>0</th>\n",
       "      <td>7</td>\n",
       "      <td>7</td>\n",
       "      <td>Harmony School of Innovation-Waco</td>\n",
       "      <td>0.125506</td>\n",
       "      <td>31</td>\n",
       "      <td>0.125506</td>\n",
       "      <td>31</td>\n",
       "      <td>247</td>\n",
       "      <td>0.010000</td>\n",
       "      <td>16</td>\n",
       "      <td>897.600000</td>\n",
       "      <td>Meets</td>\n",
       "      <td>1</td>\n",
       "    </tr>\n",
       "    <tr>\n",
       "      <th>1</th>\n",
       "      <td>9</td>\n",
       "      <td>9</td>\n",
       "      <td>Harmony Science Academy-El Paso</td>\n",
       "      <td>0.073654</td>\n",
       "      <td>26</td>\n",
       "      <td>0.073654</td>\n",
       "      <td>26</td>\n",
       "      <td>353</td>\n",
       "      <td>0.010000</td>\n",
       "      <td>20</td>\n",
       "      <td>513.183333</td>\n",
       "      <td>Approaches</td>\n",
       "      <td>1</td>\n",
       "    </tr>\n",
       "    <tr>\n",
       "      <th>2</th>\n",
       "      <td>8</td>\n",
       "      <td>8</td>\n",
       "      <td>Harmony School of Innovation-Garland</td>\n",
       "      <td>0.111570</td>\n",
       "      <td>27</td>\n",
       "      <td>0.111570</td>\n",
       "      <td>27</td>\n",
       "      <td>242</td>\n",
       "      <td>0.010000</td>\n",
       "      <td>35</td>\n",
       "      <td>1375.300000</td>\n",
       "      <td>Approaches</td>\n",
       "      <td>1</td>\n",
       "    </tr>\n",
       "    <tr>\n",
       "      <th>3</th>\n",
       "      <td>6</td>\n",
       "      <td>6</td>\n",
       "      <td>Harmony Science Academy-Garland</td>\n",
       "      <td>0.366013</td>\n",
       "      <td>112</td>\n",
       "      <td>0.366013</td>\n",
       "      <td>112</td>\n",
       "      <td>306</td>\n",
       "      <td>0.010000</td>\n",
       "      <td>74</td>\n",
       "      <td>1886.050000</td>\n",
       "      <td>Approaches</td>\n",
       "      <td>1</td>\n",
       "    </tr>\n",
       "    <tr>\n",
       "      <th>4</th>\n",
       "      <td>5</td>\n",
       "      <td>5</td>\n",
       "      <td>Harmony School of Excellence-San Antonio</td>\n",
       "      <td>0.051587</td>\n",
       "      <td>13</td>\n",
       "      <td>0.055556</td>\n",
       "      <td>14</td>\n",
       "      <td>252</td>\n",
       "      <td>0.010000</td>\n",
       "      <td>13</td>\n",
       "      <td>842.016667</td>\n",
       "      <td>Fails</td>\n",
       "      <td>0</td>\n",
       "    </tr>\n",
       "    <tr>\n",
       "      <th>...</th>\n",
       "      <td>...</td>\n",
       "      <td>...</td>\n",
       "      <td>...</td>\n",
       "      <td>...</td>\n",
       "      <td>...</td>\n",
       "      <td>...</td>\n",
       "      <td>...</td>\n",
       "      <td>...</td>\n",
       "      <td>...</td>\n",
       "      <td>...</td>\n",
       "      <td>...</td>\n",
       "      <td>...</td>\n",
       "      <td>...</td>\n",
       "    </tr>\n",
       "    <tr>\n",
       "      <th>11714</th>\n",
       "      <td>6</td>\n",
       "      <td>9</td>\n",
       "      <td>Harmony School of Discovery-Houston</td>\n",
       "      <td>0.249292</td>\n",
       "      <td>88</td>\n",
       "      <td>2.000000</td>\n",
       "      <td>353</td>\n",
       "      <td>353</td>\n",
       "      <td>1.750708</td>\n",
       "      <td>324</td>\n",
       "      <td>5221.383333</td>\n",
       "      <td>Masters</td>\n",
       "      <td>1</td>\n",
       "    </tr>\n",
       "    <tr>\n",
       "      <th>11715</th>\n",
       "      <td>6</td>\n",
       "      <td>7</td>\n",
       "      <td>Harmony School of Technology-Houston</td>\n",
       "      <td>0.234818</td>\n",
       "      <td>58</td>\n",
       "      <td>2.000000</td>\n",
       "      <td>247</td>\n",
       "      <td>247</td>\n",
       "      <td>1.765182</td>\n",
       "      <td>179</td>\n",
       "      <td>5617.866667</td>\n",
       "      <td>Masters</td>\n",
       "      <td>1</td>\n",
       "    </tr>\n",
       "    <tr>\n",
       "      <th>11716</th>\n",
       "      <td>3</td>\n",
       "      <td>6</td>\n",
       "      <td>Harmony Science Academy-Cedar Park</td>\n",
       "      <td>0.233696</td>\n",
       "      <td>43</td>\n",
       "      <td>2.000000</td>\n",
       "      <td>184</td>\n",
       "      <td>184</td>\n",
       "      <td>1.766304</td>\n",
       "      <td>144</td>\n",
       "      <td>1174.400000</td>\n",
       "      <td>Meets</td>\n",
       "      <td>1</td>\n",
       "    </tr>\n",
       "    <tr>\n",
       "      <th>11717</th>\n",
       "      <td>4</td>\n",
       "      <td>5</td>\n",
       "      <td>Harmony School of Innovation-Carrollton</td>\n",
       "      <td>0.181818</td>\n",
       "      <td>30</td>\n",
       "      <td>1.957576</td>\n",
       "      <td>158</td>\n",
       "      <td>165</td>\n",
       "      <td>1.775758</td>\n",
       "      <td>133</td>\n",
       "      <td>1528.883333</td>\n",
       "      <td>Masters</td>\n",
       "      <td>1</td>\n",
       "    </tr>\n",
       "    <tr>\n",
       "      <th>11718</th>\n",
       "      <td>3</td>\n",
       "      <td>5</td>\n",
       "      <td>Harmony School of Science-Austin</td>\n",
       "      <td>0.000000</td>\n",
       "      <td>0</td>\n",
       "      <td>1.830303</td>\n",
       "      <td>137</td>\n",
       "      <td>165</td>\n",
       "      <td>1.830303</td>\n",
       "      <td>143</td>\n",
       "      <td>770.250000</td>\n",
       "      <td>Masters</td>\n",
       "      <td>1</td>\n",
       "    </tr>\n",
       "  </tbody>\n",
       "</table>\n",
       "<p>11719 rows × 13 columns</p>\n",
       "</div>"
      ],
      "text/plain": [
       "       School Grade  ALEKS Grade                                    Campus  \\\n",
       "0                 7            7         Harmony School of Innovation-Waco   \n",
       "1                 9            9           Harmony Science Academy-El Paso   \n",
       "2                 8            8      Harmony School of Innovation-Garland   \n",
       "3                 6            6           Harmony Science Academy-Garland   \n",
       "4                 5            5  Harmony School of Excellence-San Antonio   \n",
       "...             ...          ...                                       ...   \n",
       "11714             6            9       Harmony School of Discovery-Houston   \n",
       "11715             6            7      Harmony School of Technology-Houston   \n",
       "11716             3            6        Harmony Science Academy-Cedar Park   \n",
       "11717             4            5   Harmony School of Innovation-Carrollton   \n",
       "11718             3            5          Harmony School of Science-Austin   \n",
       "\n",
       "       BOY Mastery  BOY Mastered Topics  EOY Mastery  EOY Mastered Topics  \\\n",
       "0         0.125506                   31     0.125506                   31   \n",
       "1         0.073654                   26     0.073654                   26   \n",
       "2         0.111570                   27     0.111570                   27   \n",
       "3         0.366013                  112     0.366013                  112   \n",
       "4         0.051587                   13     0.055556                   14   \n",
       "...            ...                  ...          ...                  ...   \n",
       "11714     0.249292                   88     2.000000                  353   \n",
       "11715     0.234818                   58     2.000000                  247   \n",
       "11716     0.233696                   43     2.000000                  184   \n",
       "11717     0.181818                   30     1.957576                  158   \n",
       "11718     0.000000                    0     1.830303                  137   \n",
       "\n",
       "       Total Number of Topics  Progress  Learned  Total Time Spent  \\\n",
       "0                         247  0.010000       16        897.600000   \n",
       "1                         353  0.010000       20        513.183333   \n",
       "2                         242  0.010000       35       1375.300000   \n",
       "3                         306  0.010000       74       1886.050000   \n",
       "4                         252  0.010000       13        842.016667   \n",
       "...                       ...       ...      ...               ...   \n",
       "11714                     353  1.750708      324       5221.383333   \n",
       "11715                     247  1.765182      179       5617.866667   \n",
       "11716                     184  1.766304      144       1174.400000   \n",
       "11717                     165  1.775758      133       1528.883333   \n",
       "11718                     165  1.830303      143        770.250000   \n",
       "\n",
       "      STAAR Performance  Target  \n",
       "0                 Meets       1  \n",
       "1            Approaches       1  \n",
       "2            Approaches       1  \n",
       "3            Approaches       1  \n",
       "4                 Fails       0  \n",
       "...                 ...     ...  \n",
       "11714           Masters       1  \n",
       "11715           Masters       1  \n",
       "11716             Meets       1  \n",
       "11717           Masters       1  \n",
       "11718           Masters       1  \n",
       "\n",
       "[11719 rows x 13 columns]"
      ]
     },
     "execution_count": 38,
     "metadata": {},
     "output_type": "execute_result"
    }
   ],
   "source": [
    "#We need to encode target values. We are only interested in pass/fail status.\n",
    "df[\"Target\"] = df[\"STAAR Performance\"].map({\"Fails\":0, \"Approaches\":1, \"Meets\":1, \"Masters\":1})\n",
    "df"
   ]
  },
  {
   "cell_type": "markdown",
   "id": "729b4338",
   "metadata": {},
   "source": [
    "## Do we have a balanced or imbalanced dataset?"
   ]
  },
  {
   "cell_type": "code",
   "execution_count": 311,
   "id": "005778c1",
   "metadata": {},
   "outputs": [
    {
     "name": "stdout",
     "output_type": "stream",
     "text": [
      "The percentage of \"0\" cases is 25.8%\n"
     ]
    }
   ],
   "source": [
    "print('The percentage of \"0\" cases is {:.1f}%'.format((df.Target.value_counts()[0]/df.shape[0])*100))"
   ]
  },
  {
   "cell_type": "markdown",
   "id": "d7a80b6e",
   "metadata": {},
   "source": [
    "Only 26% of the data belongs to class 0 and 74% belongs to class 1. So, we have an imbalanced dataset."
   ]
  },
  {
   "cell_type": "markdown",
   "id": "f3529ff2",
   "metadata": {},
   "source": [
    "## Train and Test Data Split\n",
    "\n",
    "It is very important to split the test data before data preprocessing steps to avoid data leakage!\n",
    "\n",
    "We will set aside our test data and only use training data first. Then we will take similar preprocessing steps for test data."
   ]
  },
  {
   "cell_type": "code",
   "execution_count": 39,
   "id": "fd6b75fe",
   "metadata": {},
   "outputs": [
    {
     "data": {
      "text/html": [
       "<div>\n",
       "<style scoped>\n",
       "    .dataframe tbody tr th:only-of-type {\n",
       "        vertical-align: middle;\n",
       "    }\n",
       "\n",
       "    .dataframe tbody tr th {\n",
       "        vertical-align: top;\n",
       "    }\n",
       "\n",
       "    .dataframe thead th {\n",
       "        text-align: right;\n",
       "    }\n",
       "</style>\n",
       "<table border=\"1\" class=\"dataframe\">\n",
       "  <thead>\n",
       "    <tr style=\"text-align: right;\">\n",
       "      <th></th>\n",
       "      <th>School Grade</th>\n",
       "      <th>ALEKS Grade</th>\n",
       "      <th>BOY Mastery</th>\n",
       "      <th>BOY Mastered Topics</th>\n",
       "      <th>EOY Mastery</th>\n",
       "      <th>EOY Mastered Topics</th>\n",
       "      <th>Total Number of Topics</th>\n",
       "      <th>Progress</th>\n",
       "      <th>Learned</th>\n",
       "      <th>Total Time Spent</th>\n",
       "    </tr>\n",
       "  </thead>\n",
       "  <tbody>\n",
       "    <tr>\n",
       "      <th>0</th>\n",
       "      <td>7</td>\n",
       "      <td>7</td>\n",
       "      <td>0.125506</td>\n",
       "      <td>31</td>\n",
       "      <td>0.125506</td>\n",
       "      <td>31</td>\n",
       "      <td>247</td>\n",
       "      <td>0.010000</td>\n",
       "      <td>16</td>\n",
       "      <td>897.600000</td>\n",
       "    </tr>\n",
       "    <tr>\n",
       "      <th>1</th>\n",
       "      <td>9</td>\n",
       "      <td>9</td>\n",
       "      <td>0.073654</td>\n",
       "      <td>26</td>\n",
       "      <td>0.073654</td>\n",
       "      <td>26</td>\n",
       "      <td>353</td>\n",
       "      <td>0.010000</td>\n",
       "      <td>20</td>\n",
       "      <td>513.183333</td>\n",
       "    </tr>\n",
       "    <tr>\n",
       "      <th>2</th>\n",
       "      <td>8</td>\n",
       "      <td>8</td>\n",
       "      <td>0.111570</td>\n",
       "      <td>27</td>\n",
       "      <td>0.111570</td>\n",
       "      <td>27</td>\n",
       "      <td>242</td>\n",
       "      <td>0.010000</td>\n",
       "      <td>35</td>\n",
       "      <td>1375.300000</td>\n",
       "    </tr>\n",
       "    <tr>\n",
       "      <th>3</th>\n",
       "      <td>6</td>\n",
       "      <td>6</td>\n",
       "      <td>0.366013</td>\n",
       "      <td>112</td>\n",
       "      <td>0.366013</td>\n",
       "      <td>112</td>\n",
       "      <td>306</td>\n",
       "      <td>0.010000</td>\n",
       "      <td>74</td>\n",
       "      <td>1886.050000</td>\n",
       "    </tr>\n",
       "    <tr>\n",
       "      <th>4</th>\n",
       "      <td>5</td>\n",
       "      <td>5</td>\n",
       "      <td>0.051587</td>\n",
       "      <td>13</td>\n",
       "      <td>0.055556</td>\n",
       "      <td>14</td>\n",
       "      <td>252</td>\n",
       "      <td>0.010000</td>\n",
       "      <td>13</td>\n",
       "      <td>842.016667</td>\n",
       "    </tr>\n",
       "    <tr>\n",
       "      <th>...</th>\n",
       "      <td>...</td>\n",
       "      <td>...</td>\n",
       "      <td>...</td>\n",
       "      <td>...</td>\n",
       "      <td>...</td>\n",
       "      <td>...</td>\n",
       "      <td>...</td>\n",
       "      <td>...</td>\n",
       "      <td>...</td>\n",
       "      <td>...</td>\n",
       "    </tr>\n",
       "    <tr>\n",
       "      <th>11714</th>\n",
       "      <td>6</td>\n",
       "      <td>9</td>\n",
       "      <td>0.249292</td>\n",
       "      <td>88</td>\n",
       "      <td>2.000000</td>\n",
       "      <td>353</td>\n",
       "      <td>353</td>\n",
       "      <td>1.750708</td>\n",
       "      <td>324</td>\n",
       "      <td>5221.383333</td>\n",
       "    </tr>\n",
       "    <tr>\n",
       "      <th>11715</th>\n",
       "      <td>6</td>\n",
       "      <td>7</td>\n",
       "      <td>0.234818</td>\n",
       "      <td>58</td>\n",
       "      <td>2.000000</td>\n",
       "      <td>247</td>\n",
       "      <td>247</td>\n",
       "      <td>1.765182</td>\n",
       "      <td>179</td>\n",
       "      <td>5617.866667</td>\n",
       "    </tr>\n",
       "    <tr>\n",
       "      <th>11716</th>\n",
       "      <td>3</td>\n",
       "      <td>6</td>\n",
       "      <td>0.233696</td>\n",
       "      <td>43</td>\n",
       "      <td>2.000000</td>\n",
       "      <td>184</td>\n",
       "      <td>184</td>\n",
       "      <td>1.766304</td>\n",
       "      <td>144</td>\n",
       "      <td>1174.400000</td>\n",
       "    </tr>\n",
       "    <tr>\n",
       "      <th>11717</th>\n",
       "      <td>4</td>\n",
       "      <td>5</td>\n",
       "      <td>0.181818</td>\n",
       "      <td>30</td>\n",
       "      <td>1.957576</td>\n",
       "      <td>158</td>\n",
       "      <td>165</td>\n",
       "      <td>1.775758</td>\n",
       "      <td>133</td>\n",
       "      <td>1528.883333</td>\n",
       "    </tr>\n",
       "    <tr>\n",
       "      <th>11718</th>\n",
       "      <td>3</td>\n",
       "      <td>5</td>\n",
       "      <td>0.000000</td>\n",
       "      <td>0</td>\n",
       "      <td>1.830303</td>\n",
       "      <td>137</td>\n",
       "      <td>165</td>\n",
       "      <td>1.830303</td>\n",
       "      <td>143</td>\n",
       "      <td>770.250000</td>\n",
       "    </tr>\n",
       "  </tbody>\n",
       "</table>\n",
       "<p>11719 rows × 10 columns</p>\n",
       "</div>"
      ],
      "text/plain": [
       "       School Grade  ALEKS Grade  BOY Mastery  BOY Mastered Topics  \\\n",
       "0                 7            7     0.125506                   31   \n",
       "1                 9            9     0.073654                   26   \n",
       "2                 8            8     0.111570                   27   \n",
       "3                 6            6     0.366013                  112   \n",
       "4                 5            5     0.051587                   13   \n",
       "...             ...          ...          ...                  ...   \n",
       "11714             6            9     0.249292                   88   \n",
       "11715             6            7     0.234818                   58   \n",
       "11716             3            6     0.233696                   43   \n",
       "11717             4            5     0.181818                   30   \n",
       "11718             3            5     0.000000                    0   \n",
       "\n",
       "       EOY Mastery  EOY Mastered Topics  Total Number of Topics  Progress  \\\n",
       "0         0.125506                   31                     247  0.010000   \n",
       "1         0.073654                   26                     353  0.010000   \n",
       "2         0.111570                   27                     242  0.010000   \n",
       "3         0.366013                  112                     306  0.010000   \n",
       "4         0.055556                   14                     252  0.010000   \n",
       "...            ...                  ...                     ...       ...   \n",
       "11714     2.000000                  353                     353  1.750708   \n",
       "11715     2.000000                  247                     247  1.765182   \n",
       "11716     2.000000                  184                     184  1.766304   \n",
       "11717     1.957576                  158                     165  1.775758   \n",
       "11718     1.830303                  137                     165  1.830303   \n",
       "\n",
       "       Learned  Total Time Spent  \n",
       "0           16        897.600000  \n",
       "1           20        513.183333  \n",
       "2           35       1375.300000  \n",
       "3           74       1886.050000  \n",
       "4           13        842.016667  \n",
       "...        ...               ...  \n",
       "11714      324       5221.383333  \n",
       "11715      179       5617.866667  \n",
       "11716      144       1174.400000  \n",
       "11717      133       1528.883333  \n",
       "11718      143        770.250000  \n",
       "\n",
       "[11719 rows x 10 columns]"
      ]
     },
     "execution_count": 39,
     "metadata": {},
     "output_type": "execute_result"
    }
   ],
   "source": [
    "#X values\n",
    "X = df.drop(columns=[\"Campus\",\"STAAR Performance\",\"Target\"])\n",
    "X"
   ]
  },
  {
   "cell_type": "code",
   "execution_count": 40,
   "id": "366f26ab",
   "metadata": {},
   "outputs": [
    {
     "data": {
      "text/plain": [
       "0        1\n",
       "1        1\n",
       "2        1\n",
       "3        1\n",
       "4        0\n",
       "        ..\n",
       "11714    1\n",
       "11715    1\n",
       "11716    1\n",
       "11717    1\n",
       "11718    1\n",
       "Name: Target, Length: 11719, dtype: int64"
      ]
     },
     "execution_count": 40,
     "metadata": {},
     "output_type": "execute_result"
    }
   ],
   "source": [
    "#y values\n",
    "y = df[\"Target\"]\n",
    "y"
   ]
  },
  {
   "cell_type": "markdown",
   "id": "f79d6652",
   "metadata": {},
   "source": [
    "Let's see if we have a balanced dataset."
   ]
  },
  {
   "cell_type": "code",
   "execution_count": 41,
   "id": "36881c52",
   "metadata": {},
   "outputs": [],
   "source": [
    "#Train and test data split\n",
    "X_train, X_test, Y_train, Y_test = train_test_split(X, y, train_size=0.8, random_state=random_seed)"
   ]
  },
  {
   "cell_type": "code",
   "execution_count": 42,
   "id": "f95041f7",
   "metadata": {},
   "outputs": [
    {
     "data": {
      "text/plain": [
       "((9375, 10), (2344, 10))"
      ]
     },
     "execution_count": 42,
     "metadata": {},
     "output_type": "execute_result"
    }
   ],
   "source": [
    "#Let's take a look at the shape\n",
    "(X_train.shape, X_test.shape)"
   ]
  },
  {
   "cell_type": "code",
   "execution_count": 43,
   "id": "13ebd688",
   "metadata": {},
   "outputs": [],
   "source": [
    "#create a dataframe of trainging data including the target values for EDA and visualization\n",
    "df_train = X_train.copy()\n",
    "df_train[\"Target\"] = Y_train"
   ]
  },
  {
   "cell_type": "code",
   "execution_count": 44,
   "id": "67375e1f",
   "metadata": {},
   "outputs": [
    {
     "data": {
      "text/html": [
       "<div>\n",
       "<style scoped>\n",
       "    .dataframe tbody tr th:only-of-type {\n",
       "        vertical-align: middle;\n",
       "    }\n",
       "\n",
       "    .dataframe tbody tr th {\n",
       "        vertical-align: top;\n",
       "    }\n",
       "\n",
       "    .dataframe thead th {\n",
       "        text-align: right;\n",
       "    }\n",
       "</style>\n",
       "<table border=\"1\" class=\"dataframe\">\n",
       "  <thead>\n",
       "    <tr style=\"text-align: right;\">\n",
       "      <th></th>\n",
       "      <th>School Grade</th>\n",
       "      <th>ALEKS Grade</th>\n",
       "      <th>BOY Mastery</th>\n",
       "      <th>BOY Mastered Topics</th>\n",
       "      <th>EOY Mastery</th>\n",
       "      <th>EOY Mastered Topics</th>\n",
       "      <th>Total Number of Topics</th>\n",
       "      <th>Progress</th>\n",
       "      <th>Learned</th>\n",
       "      <th>Total Time Spent</th>\n",
       "      <th>Target</th>\n",
       "    </tr>\n",
       "  </thead>\n",
       "  <tbody>\n",
       "    <tr>\n",
       "      <th>0</th>\n",
       "      <td>9</td>\n",
       "      <td>9</td>\n",
       "      <td>0.099150</td>\n",
       "      <td>35</td>\n",
       "      <td>0.750708</td>\n",
       "      <td>265</td>\n",
       "      <td>353</td>\n",
       "      <td>0.651558</td>\n",
       "      <td>218</td>\n",
       "      <td>2750.700000</td>\n",
       "      <td>1</td>\n",
       "    </tr>\n",
       "    <tr>\n",
       "      <th>1</th>\n",
       "      <td>5</td>\n",
       "      <td>5</td>\n",
       "      <td>0.095238</td>\n",
       "      <td>24</td>\n",
       "      <td>0.253968</td>\n",
       "      <td>64</td>\n",
       "      <td>252</td>\n",
       "      <td>0.158730</td>\n",
       "      <td>56</td>\n",
       "      <td>1676.616667</td>\n",
       "      <td>0</td>\n",
       "    </tr>\n",
       "    <tr>\n",
       "      <th>2</th>\n",
       "      <td>3</td>\n",
       "      <td>3</td>\n",
       "      <td>0.445652</td>\n",
       "      <td>41</td>\n",
       "      <td>0.967391</td>\n",
       "      <td>89</td>\n",
       "      <td>92</td>\n",
       "      <td>0.521739</td>\n",
       "      <td>59</td>\n",
       "      <td>840.216667</td>\n",
       "      <td>1</td>\n",
       "    </tr>\n",
       "    <tr>\n",
       "      <th>3</th>\n",
       "      <td>4</td>\n",
       "      <td>4</td>\n",
       "      <td>0.000000</td>\n",
       "      <td>0</td>\n",
       "      <td>0.178571</td>\n",
       "      <td>45</td>\n",
       "      <td>252</td>\n",
       "      <td>0.178571</td>\n",
       "      <td>70</td>\n",
       "      <td>1569.933333</td>\n",
       "      <td>0</td>\n",
       "    </tr>\n",
       "    <tr>\n",
       "      <th>4</th>\n",
       "      <td>5</td>\n",
       "      <td>5</td>\n",
       "      <td>0.253968</td>\n",
       "      <td>64</td>\n",
       "      <td>0.611111</td>\n",
       "      <td>154</td>\n",
       "      <td>252</td>\n",
       "      <td>0.357143</td>\n",
       "      <td>110</td>\n",
       "      <td>1579.483333</td>\n",
       "      <td>1</td>\n",
       "    </tr>\n",
       "    <tr>\n",
       "      <th>...</th>\n",
       "      <td>...</td>\n",
       "      <td>...</td>\n",
       "      <td>...</td>\n",
       "      <td>...</td>\n",
       "      <td>...</td>\n",
       "      <td>...</td>\n",
       "      <td>...</td>\n",
       "      <td>...</td>\n",
       "      <td>...</td>\n",
       "      <td>...</td>\n",
       "      <td>...</td>\n",
       "    </tr>\n",
       "    <tr>\n",
       "      <th>9370</th>\n",
       "      <td>3</td>\n",
       "      <td>5</td>\n",
       "      <td>0.609195</td>\n",
       "      <td>159</td>\n",
       "      <td>1.896552</td>\n",
       "      <td>234</td>\n",
       "      <td>261</td>\n",
       "      <td>1.287356</td>\n",
       "      <td>85</td>\n",
       "      <td>1575.483333</td>\n",
       "      <td>1</td>\n",
       "    </tr>\n",
       "    <tr>\n",
       "      <th>9371</th>\n",
       "      <td>6</td>\n",
       "      <td>6</td>\n",
       "      <td>0.009804</td>\n",
       "      <td>3</td>\n",
       "      <td>0.297386</td>\n",
       "      <td>91</td>\n",
       "      <td>306</td>\n",
       "      <td>0.287582</td>\n",
       "      <td>125</td>\n",
       "      <td>2030.900000</td>\n",
       "      <td>0</td>\n",
       "    </tr>\n",
       "    <tr>\n",
       "      <th>9372</th>\n",
       "      <td>3</td>\n",
       "      <td>3</td>\n",
       "      <td>0.000000</td>\n",
       "      <td>0</td>\n",
       "      <td>0.301136</td>\n",
       "      <td>53</td>\n",
       "      <td>176</td>\n",
       "      <td>0.301136</td>\n",
       "      <td>62</td>\n",
       "      <td>1072.866667</td>\n",
       "      <td>0</td>\n",
       "    </tr>\n",
       "    <tr>\n",
       "      <th>9373</th>\n",
       "      <td>6</td>\n",
       "      <td>6</td>\n",
       "      <td>0.035948</td>\n",
       "      <td>11</td>\n",
       "      <td>0.114379</td>\n",
       "      <td>35</td>\n",
       "      <td>306</td>\n",
       "      <td>0.078431</td>\n",
       "      <td>24</td>\n",
       "      <td>777.800000</td>\n",
       "      <td>0</td>\n",
       "    </tr>\n",
       "    <tr>\n",
       "      <th>9374</th>\n",
       "      <td>7</td>\n",
       "      <td>7</td>\n",
       "      <td>0.538874</td>\n",
       "      <td>201</td>\n",
       "      <td>0.970509</td>\n",
       "      <td>362</td>\n",
       "      <td>373</td>\n",
       "      <td>0.431635</td>\n",
       "      <td>230</td>\n",
       "      <td>9005.350000</td>\n",
       "      <td>1</td>\n",
       "    </tr>\n",
       "  </tbody>\n",
       "</table>\n",
       "<p>9375 rows × 11 columns</p>\n",
       "</div>"
      ],
      "text/plain": [
       "      School Grade  ALEKS Grade  BOY Mastery  BOY Mastered Topics  \\\n",
       "0                9            9     0.099150                   35   \n",
       "1                5            5     0.095238                   24   \n",
       "2                3            3     0.445652                   41   \n",
       "3                4            4     0.000000                    0   \n",
       "4                5            5     0.253968                   64   \n",
       "...            ...          ...          ...                  ...   \n",
       "9370             3            5     0.609195                  159   \n",
       "9371             6            6     0.009804                    3   \n",
       "9372             3            3     0.000000                    0   \n",
       "9373             6            6     0.035948                   11   \n",
       "9374             7            7     0.538874                  201   \n",
       "\n",
       "      EOY Mastery  EOY Mastered Topics  Total Number of Topics  Progress  \\\n",
       "0        0.750708                  265                     353  0.651558   \n",
       "1        0.253968                   64                     252  0.158730   \n",
       "2        0.967391                   89                      92  0.521739   \n",
       "3        0.178571                   45                     252  0.178571   \n",
       "4        0.611111                  154                     252  0.357143   \n",
       "...           ...                  ...                     ...       ...   \n",
       "9370     1.896552                  234                     261  1.287356   \n",
       "9371     0.297386                   91                     306  0.287582   \n",
       "9372     0.301136                   53                     176  0.301136   \n",
       "9373     0.114379                   35                     306  0.078431   \n",
       "9374     0.970509                  362                     373  0.431635   \n",
       "\n",
       "      Learned  Total Time Spent  Target  \n",
       "0         218       2750.700000       1  \n",
       "1          56       1676.616667       0  \n",
       "2          59        840.216667       1  \n",
       "3          70       1569.933333       0  \n",
       "4         110       1579.483333       1  \n",
       "...       ...               ...     ...  \n",
       "9370       85       1575.483333       1  \n",
       "9371      125       2030.900000       0  \n",
       "9372       62       1072.866667       0  \n",
       "9373       24        777.800000       0  \n",
       "9374      230       9005.350000       1  \n",
       "\n",
       "[9375 rows x 11 columns]"
      ]
     },
     "execution_count": 44,
     "metadata": {},
     "output_type": "execute_result"
    }
   ],
   "source": [
    "#reseting index values\n",
    "df_train.reset_index(drop=True, inplace=True)\n",
    "df_train"
   ]
  },
  {
   "cell_type": "code",
   "execution_count": 45,
   "id": "34c05d1c",
   "metadata": {},
   "outputs": [
    {
     "data": {
      "text/plain": [
       "School Grade              0\n",
       "ALEKS Grade               0\n",
       "BOY Mastery               0\n",
       "BOY Mastered Topics       0\n",
       "EOY Mastery               0\n",
       "EOY Mastered Topics       0\n",
       "Total Number of Topics    0\n",
       "Progress                  0\n",
       "Learned                   0\n",
       "Total Time Spent          0\n",
       "Target                    0\n",
       "dtype: int64"
      ]
     },
     "execution_count": 45,
     "metadata": {},
     "output_type": "execute_result"
    }
   ],
   "source": [
    "#checking missing values\n",
    "df_train.isna().sum()"
   ]
  },
  {
   "cell_type": "code",
   "execution_count": 46,
   "id": "6ce3eb8d",
   "metadata": {},
   "outputs": [
    {
     "data": {
      "text/html": [
       "<div>\n",
       "<style scoped>\n",
       "    .dataframe tbody tr th:only-of-type {\n",
       "        vertical-align: middle;\n",
       "    }\n",
       "\n",
       "    .dataframe tbody tr th {\n",
       "        vertical-align: top;\n",
       "    }\n",
       "\n",
       "    .dataframe thead th {\n",
       "        text-align: right;\n",
       "    }\n",
       "</style>\n",
       "<table border=\"1\" class=\"dataframe\">\n",
       "  <thead>\n",
       "    <tr style=\"text-align: right;\">\n",
       "      <th></th>\n",
       "      <th>School Grade</th>\n",
       "      <th>ALEKS Grade</th>\n",
       "      <th>BOY Mastery</th>\n",
       "      <th>BOY Mastered Topics</th>\n",
       "      <th>EOY Mastery</th>\n",
       "      <th>EOY Mastered Topics</th>\n",
       "      <th>Total Number of Topics</th>\n",
       "      <th>Progress</th>\n",
       "      <th>Learned</th>\n",
       "      <th>Total Time Spent</th>\n",
       "      <th>Target</th>\n",
       "    </tr>\n",
       "  </thead>\n",
       "  <tbody>\n",
       "    <tr>\n",
       "      <th>101</th>\n",
       "      <td>6</td>\n",
       "      <td>6</td>\n",
       "      <td>0.022876</td>\n",
       "      <td>7</td>\n",
       "      <td>0.049020</td>\n",
       "      <td>15</td>\n",
       "      <td>306</td>\n",
       "      <td>0.026144</td>\n",
       "      <td>12</td>\n",
       "      <td>339.966667</td>\n",
       "      <td>0</td>\n",
       "    </tr>\n",
       "    <tr>\n",
       "      <th>5271</th>\n",
       "      <td>6</td>\n",
       "      <td>6</td>\n",
       "      <td>0.042484</td>\n",
       "      <td>13</td>\n",
       "      <td>0.336601</td>\n",
       "      <td>103</td>\n",
       "      <td>306</td>\n",
       "      <td>0.294118</td>\n",
       "      <td>92</td>\n",
       "      <td>1760.516667</td>\n",
       "      <td>1</td>\n",
       "    </tr>\n",
       "    <tr>\n",
       "      <th>5146</th>\n",
       "      <td>4</td>\n",
       "      <td>4</td>\n",
       "      <td>0.190202</td>\n",
       "      <td>66</td>\n",
       "      <td>0.475504</td>\n",
       "      <td>165</td>\n",
       "      <td>347</td>\n",
       "      <td>0.285303</td>\n",
       "      <td>112</td>\n",
       "      <td>1748.416667</td>\n",
       "      <td>1</td>\n",
       "    </tr>\n",
       "    <tr>\n",
       "      <th>9219</th>\n",
       "      <td>3</td>\n",
       "      <td>3</td>\n",
       "      <td>0.358696</td>\n",
       "      <td>33</td>\n",
       "      <td>0.989130</td>\n",
       "      <td>91</td>\n",
       "      <td>92</td>\n",
       "      <td>0.630435</td>\n",
       "      <td>72</td>\n",
       "      <td>1069.366667</td>\n",
       "      <td>1</td>\n",
       "    </tr>\n",
       "    <tr>\n",
       "      <th>1845</th>\n",
       "      <td>7</td>\n",
       "      <td>7</td>\n",
       "      <td>0.072874</td>\n",
       "      <td>18</td>\n",
       "      <td>0.198381</td>\n",
       "      <td>49</td>\n",
       "      <td>247</td>\n",
       "      <td>0.125506</td>\n",
       "      <td>37</td>\n",
       "      <td>489.800000</td>\n",
       "      <td>1</td>\n",
       "    </tr>\n",
       "    <tr>\n",
       "      <th>...</th>\n",
       "      <td>...</td>\n",
       "      <td>...</td>\n",
       "      <td>...</td>\n",
       "      <td>...</td>\n",
       "      <td>...</td>\n",
       "      <td>...</td>\n",
       "      <td>...</td>\n",
       "      <td>...</td>\n",
       "      <td>...</td>\n",
       "      <td>...</td>\n",
       "      <td>...</td>\n",
       "    </tr>\n",
       "    <tr>\n",
       "      <th>3116</th>\n",
       "      <td>9</td>\n",
       "      <td>9</td>\n",
       "      <td>0.110701</td>\n",
       "      <td>60</td>\n",
       "      <td>0.293358</td>\n",
       "      <td>159</td>\n",
       "      <td>542</td>\n",
       "      <td>0.182657</td>\n",
       "      <td>89</td>\n",
       "      <td>4016.683333</td>\n",
       "      <td>0</td>\n",
       "    </tr>\n",
       "    <tr>\n",
       "      <th>2199</th>\n",
       "      <td>7</td>\n",
       "      <td>7</td>\n",
       "      <td>0.085020</td>\n",
       "      <td>21</td>\n",
       "      <td>0.226721</td>\n",
       "      <td>56</td>\n",
       "      <td>247</td>\n",
       "      <td>0.141700</td>\n",
       "      <td>72</td>\n",
       "      <td>1070.950000</td>\n",
       "      <td>0</td>\n",
       "    </tr>\n",
       "    <tr>\n",
       "      <th>2503</th>\n",
       "      <td>4</td>\n",
       "      <td>4</td>\n",
       "      <td>0.422680</td>\n",
       "      <td>82</td>\n",
       "      <td>0.577320</td>\n",
       "      <td>112</td>\n",
       "      <td>194</td>\n",
       "      <td>0.154639</td>\n",
       "      <td>29</td>\n",
       "      <td>1268.850000</td>\n",
       "      <td>0</td>\n",
       "    </tr>\n",
       "    <tr>\n",
       "      <th>4194</th>\n",
       "      <td>6</td>\n",
       "      <td>6</td>\n",
       "      <td>0.477124</td>\n",
       "      <td>146</td>\n",
       "      <td>0.712418</td>\n",
       "      <td>218</td>\n",
       "      <td>306</td>\n",
       "      <td>0.235294</td>\n",
       "      <td>71</td>\n",
       "      <td>857.133333</td>\n",
       "      <td>1</td>\n",
       "    </tr>\n",
       "    <tr>\n",
       "      <th>10183</th>\n",
       "      <td>9</td>\n",
       "      <td>9</td>\n",
       "      <td>0.039660</td>\n",
       "      <td>14</td>\n",
       "      <td>0.889518</td>\n",
       "      <td>314</td>\n",
       "      <td>353</td>\n",
       "      <td>0.849858</td>\n",
       "      <td>345</td>\n",
       "      <td>7239.133333</td>\n",
       "      <td>1</td>\n",
       "    </tr>\n",
       "  </tbody>\n",
       "</table>\n",
       "<p>2344 rows × 11 columns</p>\n",
       "</div>"
      ],
      "text/plain": [
       "       School Grade  ALEKS Grade  BOY Mastery  BOY Mastered Topics  \\\n",
       "101               6            6     0.022876                    7   \n",
       "5271              6            6     0.042484                   13   \n",
       "5146              4            4     0.190202                   66   \n",
       "9219              3            3     0.358696                   33   \n",
       "1845              7            7     0.072874                   18   \n",
       "...             ...          ...          ...                  ...   \n",
       "3116              9            9     0.110701                   60   \n",
       "2199              7            7     0.085020                   21   \n",
       "2503              4            4     0.422680                   82   \n",
       "4194              6            6     0.477124                  146   \n",
       "10183             9            9     0.039660                   14   \n",
       "\n",
       "       EOY Mastery  EOY Mastered Topics  Total Number of Topics  Progress  \\\n",
       "101       0.049020                   15                     306  0.026144   \n",
       "5271      0.336601                  103                     306  0.294118   \n",
       "5146      0.475504                  165                     347  0.285303   \n",
       "9219      0.989130                   91                      92  0.630435   \n",
       "1845      0.198381                   49                     247  0.125506   \n",
       "...            ...                  ...                     ...       ...   \n",
       "3116      0.293358                  159                     542  0.182657   \n",
       "2199      0.226721                   56                     247  0.141700   \n",
       "2503      0.577320                  112                     194  0.154639   \n",
       "4194      0.712418                  218                     306  0.235294   \n",
       "10183     0.889518                  314                     353  0.849858   \n",
       "\n",
       "       Learned  Total Time Spent  Target  \n",
       "101         12        339.966667       0  \n",
       "5271        92       1760.516667       1  \n",
       "5146       112       1748.416667       1  \n",
       "9219        72       1069.366667       1  \n",
       "1845        37        489.800000       1  \n",
       "...        ...               ...     ...  \n",
       "3116        89       4016.683333       0  \n",
       "2199        72       1070.950000       0  \n",
       "2503        29       1268.850000       0  \n",
       "4194        71        857.133333       1  \n",
       "10183      345       7239.133333       1  \n",
       "\n",
       "[2344 rows x 11 columns]"
      ]
     },
     "execution_count": 46,
     "metadata": {},
     "output_type": "execute_result"
    }
   ],
   "source": [
    "#create a dataframe of testing data including the target values for EDA and visualization\n",
    "df_test = X_test.copy()\n",
    "df_test[\"Target\"] = Y_test\n",
    "df_test"
   ]
  },
  {
   "cell_type": "markdown",
   "id": "665a8aa3",
   "metadata": {},
   "source": [
    "## EDA and Visualization"
   ]
  },
  {
   "cell_type": "code",
   "execution_count": 47,
   "id": "78a16199",
   "metadata": {},
   "outputs": [
    {
     "data": {
      "text/html": [
       "<div>\n",
       "<style scoped>\n",
       "    .dataframe tbody tr th:only-of-type {\n",
       "        vertical-align: middle;\n",
       "    }\n",
       "\n",
       "    .dataframe tbody tr th {\n",
       "        vertical-align: top;\n",
       "    }\n",
       "\n",
       "    .dataframe thead th {\n",
       "        text-align: right;\n",
       "    }\n",
       "</style>\n",
       "<table border=\"1\" class=\"dataframe\">\n",
       "  <thead>\n",
       "    <tr style=\"text-align: right;\">\n",
       "      <th></th>\n",
       "      <th>School Grade</th>\n",
       "      <th>ALEKS Grade</th>\n",
       "      <th>BOY Mastery</th>\n",
       "      <th>BOY Mastered Topics</th>\n",
       "      <th>EOY Mastery</th>\n",
       "      <th>EOY Mastered Topics</th>\n",
       "      <th>Total Number of Topics</th>\n",
       "      <th>Progress</th>\n",
       "      <th>Learned</th>\n",
       "      <th>Total Time Spent</th>\n",
       "      <th>Target</th>\n",
       "    </tr>\n",
       "  </thead>\n",
       "  <tbody>\n",
       "    <tr>\n",
       "      <th>count</th>\n",
       "      <td>9375.000000</td>\n",
       "      <td>9375.000000</td>\n",
       "      <td>9375.000000</td>\n",
       "      <td>9375.000000</td>\n",
       "      <td>9375.000000</td>\n",
       "      <td>9375.000000</td>\n",
       "      <td>9375.000000</td>\n",
       "      <td>9375.000000</td>\n",
       "      <td>9375.000000</td>\n",
       "      <td>9375.000000</td>\n",
       "      <td>9375.000000</td>\n",
       "    </tr>\n",
       "    <tr>\n",
       "      <th>mean</th>\n",
       "      <td>6.131093</td>\n",
       "      <td>6.276053</td>\n",
       "      <td>0.182286</td>\n",
       "      <td>57.014187</td>\n",
       "      <td>0.620316</td>\n",
       "      <td>145.900373</td>\n",
       "      <td>296.035200</td>\n",
       "      <td>0.438037</td>\n",
       "      <td>104.352427</td>\n",
       "      <td>1871.136590</td>\n",
       "      <td>0.740800</td>\n",
       "    </tr>\n",
       "    <tr>\n",
       "      <th>std</th>\n",
       "      <td>1.991230</td>\n",
       "      <td>1.999989</td>\n",
       "      <td>0.170929</td>\n",
       "      <td>66.894774</td>\n",
       "      <td>0.455455</td>\n",
       "      <td>97.389451</td>\n",
       "      <td>111.528648</td>\n",
       "      <td>0.356982</td>\n",
       "      <td>81.565921</td>\n",
       "      <td>1352.090297</td>\n",
       "      <td>0.438219</td>\n",
       "    </tr>\n",
       "    <tr>\n",
       "      <th>min</th>\n",
       "      <td>3.000000</td>\n",
       "      <td>3.000000</td>\n",
       "      <td>0.000000</td>\n",
       "      <td>0.000000</td>\n",
       "      <td>0.005666</td>\n",
       "      <td>2.000000</td>\n",
       "      <td>46.000000</td>\n",
       "      <td>0.005666</td>\n",
       "      <td>1.000000</td>\n",
       "      <td>300.000000</td>\n",
       "      <td>0.000000</td>\n",
       "    </tr>\n",
       "    <tr>\n",
       "      <th>25%</th>\n",
       "      <td>4.000000</td>\n",
       "      <td>5.000000</td>\n",
       "      <td>0.049020</td>\n",
       "      <td>13.000000</td>\n",
       "      <td>0.289256</td>\n",
       "      <td>71.000000</td>\n",
       "      <td>242.000000</td>\n",
       "      <td>0.175637</td>\n",
       "      <td>43.000000</td>\n",
       "      <td>866.091667</td>\n",
       "      <td>0.000000</td>\n",
       "    </tr>\n",
       "    <tr>\n",
       "      <th>50%</th>\n",
       "      <td>6.000000</td>\n",
       "      <td>6.000000</td>\n",
       "      <td>0.127451</td>\n",
       "      <td>34.000000</td>\n",
       "      <td>0.515581</td>\n",
       "      <td>125.000000</td>\n",
       "      <td>254.000000</td>\n",
       "      <td>0.330065</td>\n",
       "      <td>82.000000</td>\n",
       "      <td>1565.683333</td>\n",
       "      <td>1.000000</td>\n",
       "    </tr>\n",
       "    <tr>\n",
       "      <th>75%</th>\n",
       "      <td>8.000000</td>\n",
       "      <td>8.000000</td>\n",
       "      <td>0.269841</td>\n",
       "      <td>74.000000</td>\n",
       "      <td>0.794595</td>\n",
       "      <td>203.000000</td>\n",
       "      <td>353.000000</td>\n",
       "      <td>0.578696</td>\n",
       "      <td>145.000000</td>\n",
       "      <td>2510.691667</td>\n",
       "      <td>1.000000</td>\n",
       "    </tr>\n",
       "    <tr>\n",
       "      <th>max</th>\n",
       "      <td>9.000000</td>\n",
       "      <td>11.000000</td>\n",
       "      <td>0.979381</td>\n",
       "      <td>543.000000</td>\n",
       "      <td>2.000000</td>\n",
       "      <td>909.000000</td>\n",
       "      <td>920.000000</td>\n",
       "      <td>1.766304</td>\n",
       "      <td>587.000000</td>\n",
       "      <td>13411.483333</td>\n",
       "      <td>1.000000</td>\n",
       "    </tr>\n",
       "  </tbody>\n",
       "</table>\n",
       "</div>"
      ],
      "text/plain": [
       "       School Grade  ALEKS Grade  BOY Mastery  BOY Mastered Topics  \\\n",
       "count   9375.000000  9375.000000  9375.000000          9375.000000   \n",
       "mean       6.131093     6.276053     0.182286            57.014187   \n",
       "std        1.991230     1.999989     0.170929            66.894774   \n",
       "min        3.000000     3.000000     0.000000             0.000000   \n",
       "25%        4.000000     5.000000     0.049020            13.000000   \n",
       "50%        6.000000     6.000000     0.127451            34.000000   \n",
       "75%        8.000000     8.000000     0.269841            74.000000   \n",
       "max        9.000000    11.000000     0.979381           543.000000   \n",
       "\n",
       "       EOY Mastery  EOY Mastered Topics  Total Number of Topics     Progress  \\\n",
       "count  9375.000000          9375.000000             9375.000000  9375.000000   \n",
       "mean      0.620316           145.900373              296.035200     0.438037   \n",
       "std       0.455455            97.389451              111.528648     0.356982   \n",
       "min       0.005666             2.000000               46.000000     0.005666   \n",
       "25%       0.289256            71.000000              242.000000     0.175637   \n",
       "50%       0.515581           125.000000              254.000000     0.330065   \n",
       "75%       0.794595           203.000000              353.000000     0.578696   \n",
       "max       2.000000           909.000000              920.000000     1.766304   \n",
       "\n",
       "           Learned  Total Time Spent       Target  \n",
       "count  9375.000000       9375.000000  9375.000000  \n",
       "mean    104.352427       1871.136590     0.740800  \n",
       "std      81.565921       1352.090297     0.438219  \n",
       "min       1.000000        300.000000     0.000000  \n",
       "25%      43.000000        866.091667     0.000000  \n",
       "50%      82.000000       1565.683333     1.000000  \n",
       "75%     145.000000       2510.691667     1.000000  \n",
       "max     587.000000      13411.483333     1.000000  "
      ]
     },
     "execution_count": 47,
     "metadata": {},
     "output_type": "execute_result"
    }
   ],
   "source": [
    "df_train.describe()"
   ]
  },
  {
   "cell_type": "code",
   "execution_count": 48,
   "id": "6a6cedb2",
   "metadata": {},
   "outputs": [
    {
     "data": {
      "text/html": [
       "<div>\n",
       "<style scoped>\n",
       "    .dataframe tbody tr th:only-of-type {\n",
       "        vertical-align: middle;\n",
       "    }\n",
       "\n",
       "    .dataframe tbody tr th {\n",
       "        vertical-align: top;\n",
       "    }\n",
       "\n",
       "    .dataframe thead th {\n",
       "        text-align: right;\n",
       "    }\n",
       "</style>\n",
       "<table border=\"1\" class=\"dataframe\">\n",
       "  <thead>\n",
       "    <tr style=\"text-align: right;\">\n",
       "      <th></th>\n",
       "      <th>School Grade</th>\n",
       "      <th>ALEKS Grade</th>\n",
       "      <th>BOY Mastery</th>\n",
       "      <th>BOY Mastered Topics</th>\n",
       "      <th>EOY Mastery</th>\n",
       "      <th>EOY Mastered Topics</th>\n",
       "      <th>Total Number of Topics</th>\n",
       "      <th>Progress</th>\n",
       "      <th>Learned</th>\n",
       "      <th>Total Time Spent</th>\n",
       "      <th>Target</th>\n",
       "    </tr>\n",
       "  </thead>\n",
       "  <tbody>\n",
       "    <tr>\n",
       "      <th>School Grade</th>\n",
       "      <td>1.000000</td>\n",
       "      <td>0.973330</td>\n",
       "      <td>-0.208268</td>\n",
       "      <td>0.041657</td>\n",
       "      <td>-0.217535</td>\n",
       "      <td>0.153210</td>\n",
       "      <td>0.574057</td>\n",
       "      <td>-0.177796</td>\n",
       "      <td>0.147183</td>\n",
       "      <td>0.214281</td>\n",
       "      <td>0.186505</td>\n",
       "    </tr>\n",
       "    <tr>\n",
       "      <th>ALEKS Grade</th>\n",
       "      <td>0.973330</td>\n",
       "      <td>1.000000</td>\n",
       "      <td>-0.108516</td>\n",
       "      <td>0.149140</td>\n",
       "      <td>-0.048929</td>\n",
       "      <td>0.216933</td>\n",
       "      <td>0.629998</td>\n",
       "      <td>-0.010444</td>\n",
       "      <td>0.128143</td>\n",
       "      <td>0.167515</td>\n",
       "      <td>0.234163</td>\n",
       "    </tr>\n",
       "    <tr>\n",
       "      <th>BOY Mastery</th>\n",
       "      <td>-0.208268</td>\n",
       "      <td>-0.108516</td>\n",
       "      <td>1.000000</td>\n",
       "      <td>0.850134</td>\n",
       "      <td>0.701424</td>\n",
       "      <td>0.570563</td>\n",
       "      <td>0.160060</td>\n",
       "      <td>0.416090</td>\n",
       "      <td>0.011513</td>\n",
       "      <td>-0.115815</td>\n",
       "      <td>0.286687</td>\n",
       "    </tr>\n",
       "    <tr>\n",
       "      <th>BOY Mastered Topics</th>\n",
       "      <td>0.041657</td>\n",
       "      <td>0.149140</td>\n",
       "      <td>0.850134</td>\n",
       "      <td>1.000000</td>\n",
       "      <td>0.640949</td>\n",
       "      <td>0.748768</td>\n",
       "      <td>0.561648</td>\n",
       "      <td>0.410693</td>\n",
       "      <td>0.113443</td>\n",
       "      <td>-0.041645</td>\n",
       "      <td>0.272336</td>\n",
       "    </tr>\n",
       "    <tr>\n",
       "      <th>EOY Mastery</th>\n",
       "      <td>-0.217535</td>\n",
       "      <td>-0.048929</td>\n",
       "      <td>0.701424</td>\n",
       "      <td>0.640949</td>\n",
       "      <td>1.000000</td>\n",
       "      <td>0.644223</td>\n",
       "      <td>0.177805</td>\n",
       "      <td>0.939971</td>\n",
       "      <td>0.262756</td>\n",
       "      <td>0.037418</td>\n",
       "      <td>0.354977</td>\n",
       "    </tr>\n",
       "    <tr>\n",
       "      <th>EOY Mastered Topics</th>\n",
       "      <td>0.153210</td>\n",
       "      <td>0.216933</td>\n",
       "      <td>0.570563</td>\n",
       "      <td>0.748768</td>\n",
       "      <td>0.644223</td>\n",
       "      <td>1.000000</td>\n",
       "      <td>0.598129</td>\n",
       "      <td>0.548713</td>\n",
       "      <td>0.659344</td>\n",
       "      <td>0.381417</td>\n",
       "      <td>0.368535</td>\n",
       "    </tr>\n",
       "    <tr>\n",
       "      <th>Total Number of Topics</th>\n",
       "      <td>0.574057</td>\n",
       "      <td>0.629998</td>\n",
       "      <td>0.160060</td>\n",
       "      <td>0.561648</td>\n",
       "      <td>0.177805</td>\n",
       "      <td>0.598129</td>\n",
       "      <td>1.000000</td>\n",
       "      <td>0.150217</td>\n",
       "      <td>0.282669</td>\n",
       "      <td>0.122344</td>\n",
       "      <td>0.221571</td>\n",
       "    </tr>\n",
       "    <tr>\n",
       "      <th>Progress</th>\n",
       "      <td>-0.177796</td>\n",
       "      <td>-0.010444</td>\n",
       "      <td>0.416090</td>\n",
       "      <td>0.410693</td>\n",
       "      <td>0.939971</td>\n",
       "      <td>0.548713</td>\n",
       "      <td>0.150217</td>\n",
       "      <td>1.000000</td>\n",
       "      <td>0.329706</td>\n",
       "      <td>0.103181</td>\n",
       "      <td>0.315626</td>\n",
       "    </tr>\n",
       "    <tr>\n",
       "      <th>Learned</th>\n",
       "      <td>0.147183</td>\n",
       "      <td>0.128143</td>\n",
       "      <td>0.011513</td>\n",
       "      <td>0.113443</td>\n",
       "      <td>0.262756</td>\n",
       "      <td>0.659344</td>\n",
       "      <td>0.282669</td>\n",
       "      <td>0.329706</td>\n",
       "      <td>1.000000</td>\n",
       "      <td>0.670765</td>\n",
       "      <td>0.210404</td>\n",
       "    </tr>\n",
       "    <tr>\n",
       "      <th>Total Time Spent</th>\n",
       "      <td>0.214281</td>\n",
       "      <td>0.167515</td>\n",
       "      <td>-0.115815</td>\n",
       "      <td>-0.041645</td>\n",
       "      <td>0.037418</td>\n",
       "      <td>0.381417</td>\n",
       "      <td>0.122344</td>\n",
       "      <td>0.103181</td>\n",
       "      <td>0.670765</td>\n",
       "      <td>1.000000</td>\n",
       "      <td>0.057438</td>\n",
       "    </tr>\n",
       "    <tr>\n",
       "      <th>Target</th>\n",
       "      <td>0.186505</td>\n",
       "      <td>0.234163</td>\n",
       "      <td>0.286687</td>\n",
       "      <td>0.272336</td>\n",
       "      <td>0.354977</td>\n",
       "      <td>0.368535</td>\n",
       "      <td>0.221571</td>\n",
       "      <td>0.315626</td>\n",
       "      <td>0.210404</td>\n",
       "      <td>0.057438</td>\n",
       "      <td>1.000000</td>\n",
       "    </tr>\n",
       "  </tbody>\n",
       "</table>\n",
       "</div>"
      ],
      "text/plain": [
       "                        School Grade  ALEKS Grade  BOY Mastery  \\\n",
       "School Grade                1.000000     0.973330    -0.208268   \n",
       "ALEKS Grade                 0.973330     1.000000    -0.108516   \n",
       "BOY Mastery                -0.208268    -0.108516     1.000000   \n",
       "BOY Mastered Topics         0.041657     0.149140     0.850134   \n",
       "EOY Mastery                -0.217535    -0.048929     0.701424   \n",
       "EOY Mastered Topics         0.153210     0.216933     0.570563   \n",
       "Total Number of Topics      0.574057     0.629998     0.160060   \n",
       "Progress                   -0.177796    -0.010444     0.416090   \n",
       "Learned                     0.147183     0.128143     0.011513   \n",
       "Total Time Spent            0.214281     0.167515    -0.115815   \n",
       "Target                      0.186505     0.234163     0.286687   \n",
       "\n",
       "                        BOY Mastered Topics  EOY Mastery  EOY Mastered Topics  \\\n",
       "School Grade                       0.041657    -0.217535             0.153210   \n",
       "ALEKS Grade                        0.149140    -0.048929             0.216933   \n",
       "BOY Mastery                        0.850134     0.701424             0.570563   \n",
       "BOY Mastered Topics                1.000000     0.640949             0.748768   \n",
       "EOY Mastery                        0.640949     1.000000             0.644223   \n",
       "EOY Mastered Topics                0.748768     0.644223             1.000000   \n",
       "Total Number of Topics             0.561648     0.177805             0.598129   \n",
       "Progress                           0.410693     0.939971             0.548713   \n",
       "Learned                            0.113443     0.262756             0.659344   \n",
       "Total Time Spent                  -0.041645     0.037418             0.381417   \n",
       "Target                             0.272336     0.354977             0.368535   \n",
       "\n",
       "                        Total Number of Topics  Progress   Learned  \\\n",
       "School Grade                          0.574057 -0.177796  0.147183   \n",
       "ALEKS Grade                           0.629998 -0.010444  0.128143   \n",
       "BOY Mastery                           0.160060  0.416090  0.011513   \n",
       "BOY Mastered Topics                   0.561648  0.410693  0.113443   \n",
       "EOY Mastery                           0.177805  0.939971  0.262756   \n",
       "EOY Mastered Topics                   0.598129  0.548713  0.659344   \n",
       "Total Number of Topics                1.000000  0.150217  0.282669   \n",
       "Progress                              0.150217  1.000000  0.329706   \n",
       "Learned                               0.282669  0.329706  1.000000   \n",
       "Total Time Spent                      0.122344  0.103181  0.670765   \n",
       "Target                                0.221571  0.315626  0.210404   \n",
       "\n",
       "                        Total Time Spent    Target  \n",
       "School Grade                    0.214281  0.186505  \n",
       "ALEKS Grade                     0.167515  0.234163  \n",
       "BOY Mastery                    -0.115815  0.286687  \n",
       "BOY Mastered Topics            -0.041645  0.272336  \n",
       "EOY Mastery                     0.037418  0.354977  \n",
       "EOY Mastered Topics             0.381417  0.368535  \n",
       "Total Number of Topics          0.122344  0.221571  \n",
       "Progress                        0.103181  0.315626  \n",
       "Learned                         0.670765  0.210404  \n",
       "Total Time Spent                1.000000  0.057438  \n",
       "Target                          0.057438  1.000000  "
      ]
     },
     "execution_count": 48,
     "metadata": {},
     "output_type": "execute_result"
    }
   ],
   "source": [
    "#correlation matrix\n",
    "df_train.corr()"
   ]
  },
  {
   "cell_type": "code",
   "execution_count": 69,
   "id": "e36f1907",
   "metadata": {},
   "outputs": [
    {
     "data": {
      "application/vnd.plotly.v1+json": {
       "config": {
        "plotlyServerURL": "https://plot.ly"
       },
       "data": [
        {
         "coloraxis": "coloraxis",
         "hovertemplate": "x: %{x}<br>y: %{y}<br>color: %{z}<extra></extra>",
         "name": "0",
         "texttemplate": "%{z}",
         "type": "heatmap",
         "x": [
          "School Grade",
          "ALEKS Grade",
          "BOY Mastery",
          "BOY Mastered Topics",
          "EOY Mastery",
          "EOY Mastered Topics",
          "Total Number of Topics",
          "Progress",
          "Learned",
          "Total Time Spent",
          "Target"
         ],
         "xaxis": "x",
         "y": [
          "School Grade",
          "ALEKS Grade",
          "BOY Mastery",
          "BOY Mastered Topics",
          "EOY Mastery",
          "EOY Mastered Topics",
          "Total Number of Topics",
          "Progress",
          "Learned",
          "Total Time Spent",
          "Target"
         ],
         "yaxis": "y",
         "z": [
          [
           1,
           0.97,
           -0.21,
           0.04,
           -0.22,
           0.15,
           0.57,
           -0.18,
           0.15,
           0.21,
           0.19
          ],
          [
           0.97,
           1,
           -0.11,
           0.15,
           -0.05,
           0.22,
           0.63,
           -0.01,
           0.13,
           0.17,
           0.23
          ],
          [
           -0.21,
           -0.11,
           1,
           0.85,
           0.7,
           0.57,
           0.16,
           0.42,
           0.01,
           -0.12,
           0.29
          ],
          [
           0.04,
           0.15,
           0.85,
           1,
           0.64,
           0.75,
           0.56,
           0.41,
           0.11,
           -0.04,
           0.27
          ],
          [
           -0.22,
           -0.05,
           0.7,
           0.64,
           1,
           0.64,
           0.18,
           0.94,
           0.26,
           0.04,
           0.35
          ],
          [
           0.15,
           0.22,
           0.57,
           0.75,
           0.64,
           1,
           0.6,
           0.55,
           0.66,
           0.38,
           0.37
          ],
          [
           0.57,
           0.63,
           0.16,
           0.56,
           0.18,
           0.6,
           1,
           0.15,
           0.28,
           0.12,
           0.22
          ],
          [
           -0.18,
           -0.01,
           0.42,
           0.41,
           0.94,
           0.55,
           0.15,
           1,
           0.33,
           0.1,
           0.32
          ],
          [
           0.15,
           0.13,
           0.01,
           0.11,
           0.26,
           0.66,
           0.28,
           0.33,
           1,
           0.67,
           0.21
          ],
          [
           0.21,
           0.17,
           -0.12,
           -0.04,
           0.04,
           0.38,
           0.12,
           0.1,
           0.67,
           1,
           0.06
          ],
          [
           0.19,
           0.23,
           0.29,
           0.27,
           0.35,
           0.37,
           0.22,
           0.32,
           0.21,
           0.06,
           1
          ]
         ]
        }
       ],
       "layout": {
        "autosize": false,
        "coloraxis": {
         "colorscale": [
          [
           0,
           "#0d0887"
          ],
          [
           0.1111111111111111,
           "#46039f"
          ],
          [
           0.2222222222222222,
           "#7201a8"
          ],
          [
           0.3333333333333333,
           "#9c179e"
          ],
          [
           0.4444444444444444,
           "#bd3786"
          ],
          [
           0.5555555555555556,
           "#d8576b"
          ],
          [
           0.6666666666666666,
           "#ed7953"
          ],
          [
           0.7777777777777778,
           "#fb9f3a"
          ],
          [
           0.8888888888888888,
           "#fdca26"
          ],
          [
           1,
           "#f0f921"
          ]
         ]
        },
        "height": 800,
        "margin": {
         "t": 60
        },
        "template": {
         "data": {
          "bar": [
           {
            "error_x": {
             "color": "#2a3f5f"
            },
            "error_y": {
             "color": "#2a3f5f"
            },
            "marker": {
             "line": {
              "color": "#E5ECF6",
              "width": 0.5
             },
             "pattern": {
              "fillmode": "overlay",
              "size": 10,
              "solidity": 0.2
             }
            },
            "type": "bar"
           }
          ],
          "barpolar": [
           {
            "marker": {
             "line": {
              "color": "#E5ECF6",
              "width": 0.5
             },
             "pattern": {
              "fillmode": "overlay",
              "size": 10,
              "solidity": 0.2
             }
            },
            "type": "barpolar"
           }
          ],
          "carpet": [
           {
            "aaxis": {
             "endlinecolor": "#2a3f5f",
             "gridcolor": "white",
             "linecolor": "white",
             "minorgridcolor": "white",
             "startlinecolor": "#2a3f5f"
            },
            "baxis": {
             "endlinecolor": "#2a3f5f",
             "gridcolor": "white",
             "linecolor": "white",
             "minorgridcolor": "white",
             "startlinecolor": "#2a3f5f"
            },
            "type": "carpet"
           }
          ],
          "choropleth": [
           {
            "colorbar": {
             "outlinewidth": 0,
             "ticks": ""
            },
            "type": "choropleth"
           }
          ],
          "contour": [
           {
            "colorbar": {
             "outlinewidth": 0,
             "ticks": ""
            },
            "colorscale": [
             [
              0,
              "#0d0887"
             ],
             [
              0.1111111111111111,
              "#46039f"
             ],
             [
              0.2222222222222222,
              "#7201a8"
             ],
             [
              0.3333333333333333,
              "#9c179e"
             ],
             [
              0.4444444444444444,
              "#bd3786"
             ],
             [
              0.5555555555555556,
              "#d8576b"
             ],
             [
              0.6666666666666666,
              "#ed7953"
             ],
             [
              0.7777777777777778,
              "#fb9f3a"
             ],
             [
              0.8888888888888888,
              "#fdca26"
             ],
             [
              1,
              "#f0f921"
             ]
            ],
            "type": "contour"
           }
          ],
          "contourcarpet": [
           {
            "colorbar": {
             "outlinewidth": 0,
             "ticks": ""
            },
            "type": "contourcarpet"
           }
          ],
          "heatmap": [
           {
            "colorbar": {
             "outlinewidth": 0,
             "ticks": ""
            },
            "colorscale": [
             [
              0,
              "#0d0887"
             ],
             [
              0.1111111111111111,
              "#46039f"
             ],
             [
              0.2222222222222222,
              "#7201a8"
             ],
             [
              0.3333333333333333,
              "#9c179e"
             ],
             [
              0.4444444444444444,
              "#bd3786"
             ],
             [
              0.5555555555555556,
              "#d8576b"
             ],
             [
              0.6666666666666666,
              "#ed7953"
             ],
             [
              0.7777777777777778,
              "#fb9f3a"
             ],
             [
              0.8888888888888888,
              "#fdca26"
             ],
             [
              1,
              "#f0f921"
             ]
            ],
            "type": "heatmap"
           }
          ],
          "heatmapgl": [
           {
            "colorbar": {
             "outlinewidth": 0,
             "ticks": ""
            },
            "colorscale": [
             [
              0,
              "#0d0887"
             ],
             [
              0.1111111111111111,
              "#46039f"
             ],
             [
              0.2222222222222222,
              "#7201a8"
             ],
             [
              0.3333333333333333,
              "#9c179e"
             ],
             [
              0.4444444444444444,
              "#bd3786"
             ],
             [
              0.5555555555555556,
              "#d8576b"
             ],
             [
              0.6666666666666666,
              "#ed7953"
             ],
             [
              0.7777777777777778,
              "#fb9f3a"
             ],
             [
              0.8888888888888888,
              "#fdca26"
             ],
             [
              1,
              "#f0f921"
             ]
            ],
            "type": "heatmapgl"
           }
          ],
          "histogram": [
           {
            "marker": {
             "pattern": {
              "fillmode": "overlay",
              "size": 10,
              "solidity": 0.2
             }
            },
            "type": "histogram"
           }
          ],
          "histogram2d": [
           {
            "colorbar": {
             "outlinewidth": 0,
             "ticks": ""
            },
            "colorscale": [
             [
              0,
              "#0d0887"
             ],
             [
              0.1111111111111111,
              "#46039f"
             ],
             [
              0.2222222222222222,
              "#7201a8"
             ],
             [
              0.3333333333333333,
              "#9c179e"
             ],
             [
              0.4444444444444444,
              "#bd3786"
             ],
             [
              0.5555555555555556,
              "#d8576b"
             ],
             [
              0.6666666666666666,
              "#ed7953"
             ],
             [
              0.7777777777777778,
              "#fb9f3a"
             ],
             [
              0.8888888888888888,
              "#fdca26"
             ],
             [
              1,
              "#f0f921"
             ]
            ],
            "type": "histogram2d"
           }
          ],
          "histogram2dcontour": [
           {
            "colorbar": {
             "outlinewidth": 0,
             "ticks": ""
            },
            "colorscale": [
             [
              0,
              "#0d0887"
             ],
             [
              0.1111111111111111,
              "#46039f"
             ],
             [
              0.2222222222222222,
              "#7201a8"
             ],
             [
              0.3333333333333333,
              "#9c179e"
             ],
             [
              0.4444444444444444,
              "#bd3786"
             ],
             [
              0.5555555555555556,
              "#d8576b"
             ],
             [
              0.6666666666666666,
              "#ed7953"
             ],
             [
              0.7777777777777778,
              "#fb9f3a"
             ],
             [
              0.8888888888888888,
              "#fdca26"
             ],
             [
              1,
              "#f0f921"
             ]
            ],
            "type": "histogram2dcontour"
           }
          ],
          "mesh3d": [
           {
            "colorbar": {
             "outlinewidth": 0,
             "ticks": ""
            },
            "type": "mesh3d"
           }
          ],
          "parcoords": [
           {
            "line": {
             "colorbar": {
              "outlinewidth": 0,
              "ticks": ""
             }
            },
            "type": "parcoords"
           }
          ],
          "pie": [
           {
            "automargin": true,
            "type": "pie"
           }
          ],
          "scatter": [
           {
            "fillpattern": {
             "fillmode": "overlay",
             "size": 10,
             "solidity": 0.2
            },
            "type": "scatter"
           }
          ],
          "scatter3d": [
           {
            "line": {
             "colorbar": {
              "outlinewidth": 0,
              "ticks": ""
             }
            },
            "marker": {
             "colorbar": {
              "outlinewidth": 0,
              "ticks": ""
             }
            },
            "type": "scatter3d"
           }
          ],
          "scattercarpet": [
           {
            "marker": {
             "colorbar": {
              "outlinewidth": 0,
              "ticks": ""
             }
            },
            "type": "scattercarpet"
           }
          ],
          "scattergeo": [
           {
            "marker": {
             "colorbar": {
              "outlinewidth": 0,
              "ticks": ""
             }
            },
            "type": "scattergeo"
           }
          ],
          "scattergl": [
           {
            "marker": {
             "colorbar": {
              "outlinewidth": 0,
              "ticks": ""
             }
            },
            "type": "scattergl"
           }
          ],
          "scattermapbox": [
           {
            "marker": {
             "colorbar": {
              "outlinewidth": 0,
              "ticks": ""
             }
            },
            "type": "scattermapbox"
           }
          ],
          "scatterpolar": [
           {
            "marker": {
             "colorbar": {
              "outlinewidth": 0,
              "ticks": ""
             }
            },
            "type": "scatterpolar"
           }
          ],
          "scatterpolargl": [
           {
            "marker": {
             "colorbar": {
              "outlinewidth": 0,
              "ticks": ""
             }
            },
            "type": "scatterpolargl"
           }
          ],
          "scatterternary": [
           {
            "marker": {
             "colorbar": {
              "outlinewidth": 0,
              "ticks": ""
             }
            },
            "type": "scatterternary"
           }
          ],
          "surface": [
           {
            "colorbar": {
             "outlinewidth": 0,
             "ticks": ""
            },
            "colorscale": [
             [
              0,
              "#0d0887"
             ],
             [
              0.1111111111111111,
              "#46039f"
             ],
             [
              0.2222222222222222,
              "#7201a8"
             ],
             [
              0.3333333333333333,
              "#9c179e"
             ],
             [
              0.4444444444444444,
              "#bd3786"
             ],
             [
              0.5555555555555556,
              "#d8576b"
             ],
             [
              0.6666666666666666,
              "#ed7953"
             ],
             [
              0.7777777777777778,
              "#fb9f3a"
             ],
             [
              0.8888888888888888,
              "#fdca26"
             ],
             [
              1,
              "#f0f921"
             ]
            ],
            "type": "surface"
           }
          ],
          "table": [
           {
            "cells": {
             "fill": {
              "color": "#EBF0F8"
             },
             "line": {
              "color": "white"
             }
            },
            "header": {
             "fill": {
              "color": "#C8D4E3"
             },
             "line": {
              "color": "white"
             }
            },
            "type": "table"
           }
          ]
         },
         "layout": {
          "annotationdefaults": {
           "arrowcolor": "#2a3f5f",
           "arrowhead": 0,
           "arrowwidth": 1
          },
          "autotypenumbers": "strict",
          "coloraxis": {
           "colorbar": {
            "outlinewidth": 0,
            "ticks": ""
           }
          },
          "colorscale": {
           "diverging": [
            [
             0,
             "#8e0152"
            ],
            [
             0.1,
             "#c51b7d"
            ],
            [
             0.2,
             "#de77ae"
            ],
            [
             0.3,
             "#f1b6da"
            ],
            [
             0.4,
             "#fde0ef"
            ],
            [
             0.5,
             "#f7f7f7"
            ],
            [
             0.6,
             "#e6f5d0"
            ],
            [
             0.7,
             "#b8e186"
            ],
            [
             0.8,
             "#7fbc41"
            ],
            [
             0.9,
             "#4d9221"
            ],
            [
             1,
             "#276419"
            ]
           ],
           "sequential": [
            [
             0,
             "#0d0887"
            ],
            [
             0.1111111111111111,
             "#46039f"
            ],
            [
             0.2222222222222222,
             "#7201a8"
            ],
            [
             0.3333333333333333,
             "#9c179e"
            ],
            [
             0.4444444444444444,
             "#bd3786"
            ],
            [
             0.5555555555555556,
             "#d8576b"
            ],
            [
             0.6666666666666666,
             "#ed7953"
            ],
            [
             0.7777777777777778,
             "#fb9f3a"
            ],
            [
             0.8888888888888888,
             "#fdca26"
            ],
            [
             1,
             "#f0f921"
            ]
           ],
           "sequentialminus": [
            [
             0,
             "#0d0887"
            ],
            [
             0.1111111111111111,
             "#46039f"
            ],
            [
             0.2222222222222222,
             "#7201a8"
            ],
            [
             0.3333333333333333,
             "#9c179e"
            ],
            [
             0.4444444444444444,
             "#bd3786"
            ],
            [
             0.5555555555555556,
             "#d8576b"
            ],
            [
             0.6666666666666666,
             "#ed7953"
            ],
            [
             0.7777777777777778,
             "#fb9f3a"
            ],
            [
             0.8888888888888888,
             "#fdca26"
            ],
            [
             1,
             "#f0f921"
            ]
           ]
          },
          "colorway": [
           "#636efa",
           "#EF553B",
           "#00cc96",
           "#ab63fa",
           "#FFA15A",
           "#19d3f3",
           "#FF6692",
           "#B6E880",
           "#FF97FF",
           "#FECB52"
          ],
          "font": {
           "color": "#2a3f5f"
          },
          "geo": {
           "bgcolor": "white",
           "lakecolor": "white",
           "landcolor": "#E5ECF6",
           "showlakes": true,
           "showland": true,
           "subunitcolor": "white"
          },
          "hoverlabel": {
           "align": "left"
          },
          "hovermode": "closest",
          "mapbox": {
           "style": "light"
          },
          "paper_bgcolor": "white",
          "plot_bgcolor": "#E5ECF6",
          "polar": {
           "angularaxis": {
            "gridcolor": "white",
            "linecolor": "white",
            "ticks": ""
           },
           "bgcolor": "#E5ECF6",
           "radialaxis": {
            "gridcolor": "white",
            "linecolor": "white",
            "ticks": ""
           }
          },
          "scene": {
           "xaxis": {
            "backgroundcolor": "#E5ECF6",
            "gridcolor": "white",
            "gridwidth": 2,
            "linecolor": "white",
            "showbackground": true,
            "ticks": "",
            "zerolinecolor": "white"
           },
           "yaxis": {
            "backgroundcolor": "#E5ECF6",
            "gridcolor": "white",
            "gridwidth": 2,
            "linecolor": "white",
            "showbackground": true,
            "ticks": "",
            "zerolinecolor": "white"
           },
           "zaxis": {
            "backgroundcolor": "#E5ECF6",
            "gridcolor": "white",
            "gridwidth": 2,
            "linecolor": "white",
            "showbackground": true,
            "ticks": "",
            "zerolinecolor": "white"
           }
          },
          "shapedefaults": {
           "line": {
            "color": "#2a3f5f"
           }
          },
          "ternary": {
           "aaxis": {
            "gridcolor": "white",
            "linecolor": "white",
            "ticks": ""
           },
           "baxis": {
            "gridcolor": "white",
            "linecolor": "white",
            "ticks": ""
           },
           "bgcolor": "#E5ECF6",
           "caxis": {
            "gridcolor": "white",
            "linecolor": "white",
            "ticks": ""
           }
          },
          "title": {
           "x": 0.05
          },
          "xaxis": {
           "automargin": true,
           "gridcolor": "white",
           "linecolor": "white",
           "ticks": "",
           "title": {
            "standoff": 15
           },
           "zerolinecolor": "white",
           "zerolinewidth": 2
          },
          "yaxis": {
           "automargin": true,
           "gridcolor": "white",
           "linecolor": "white",
           "ticks": "",
           "title": {
            "standoff": 15
           },
           "zerolinecolor": "white",
           "zerolinewidth": 2
          }
         }
        },
        "width": 800,
        "xaxis": {
         "anchor": "y",
         "constrain": "domain",
         "domain": [
          0,
          1
         ],
         "scaleanchor": "y"
        },
        "yaxis": {
         "anchor": "x",
         "autorange": "reversed",
         "constrain": "domain",
         "domain": [
          0,
          1
         ]
        }
       }
      },
      "text/html": [
       "<div>                            <div id=\"6ec33d60-9927-4c54-bc3d-e93b5ae0bf96\" class=\"plotly-graph-div\" style=\"height:800px; width:800px;\"></div>            <script type=\"text/javascript\">                require([\"plotly\"], function(Plotly) {                    window.PLOTLYENV=window.PLOTLYENV || {};                                    if (document.getElementById(\"6ec33d60-9927-4c54-bc3d-e93b5ae0bf96\")) {                    Plotly.newPlot(                        \"6ec33d60-9927-4c54-bc3d-e93b5ae0bf96\",                        [{\"coloraxis\":\"coloraxis\",\"name\":\"0\",\"texttemplate\":\"%{z}\",\"x\":[\"School Grade\",\"ALEKS Grade\",\"BOY Mastery\",\"BOY Mastered Topics\",\"EOY Mastery\",\"EOY Mastered Topics\",\"Total Number of Topics\",\"Progress\",\"Learned\",\"Total Time Spent\",\"Target\"],\"y\":[\"School Grade\",\"ALEKS Grade\",\"BOY Mastery\",\"BOY Mastered Topics\",\"EOY Mastery\",\"EOY Mastered Topics\",\"Total Number of Topics\",\"Progress\",\"Learned\",\"Total Time Spent\",\"Target\"],\"z\":[[1.0,0.97,-0.21,0.04,-0.22,0.15,0.57,-0.18,0.15,0.21,0.19],[0.97,1.0,-0.11,0.15,-0.05,0.22,0.63,-0.01,0.13,0.17,0.23],[-0.21,-0.11,1.0,0.85,0.7,0.57,0.16,0.42,0.01,-0.12,0.29],[0.04,0.15,0.85,1.0,0.64,0.75,0.56,0.41,0.11,-0.04,0.27],[-0.22,-0.05,0.7,0.64,1.0,0.64,0.18,0.94,0.26,0.04,0.35],[0.15,0.22,0.57,0.75,0.64,1.0,0.6,0.55,0.66,0.38,0.37],[0.57,0.63,0.16,0.56,0.18,0.6,1.0,0.15,0.28,0.12,0.22],[-0.18,-0.01,0.42,0.41,0.94,0.55,0.15,1.0,0.33,0.1,0.32],[0.15,0.13,0.01,0.11,0.26,0.66,0.28,0.33,1.0,0.67,0.21],[0.21,0.17,-0.12,-0.04,0.04,0.38,0.12,0.1,0.67,1.0,0.06],[0.19,0.23,0.29,0.27,0.35,0.37,0.22,0.32,0.21,0.06,1.0]],\"type\":\"heatmap\",\"xaxis\":\"x\",\"yaxis\":\"y\",\"hovertemplate\":\"x: %{x}<br>y: %{y}<br>color: %{z}<extra></extra>\"}],                        {\"template\":{\"data\":{\"histogram2dcontour\":[{\"type\":\"histogram2dcontour\",\"colorbar\":{\"outlinewidth\":0,\"ticks\":\"\"},\"colorscale\":[[0.0,\"#0d0887\"],[0.1111111111111111,\"#46039f\"],[0.2222222222222222,\"#7201a8\"],[0.3333333333333333,\"#9c179e\"],[0.4444444444444444,\"#bd3786\"],[0.5555555555555556,\"#d8576b\"],[0.6666666666666666,\"#ed7953\"],[0.7777777777777778,\"#fb9f3a\"],[0.8888888888888888,\"#fdca26\"],[1.0,\"#f0f921\"]]}],\"choropleth\":[{\"type\":\"choropleth\",\"colorbar\":{\"outlinewidth\":0,\"ticks\":\"\"}}],\"histogram2d\":[{\"type\":\"histogram2d\",\"colorbar\":{\"outlinewidth\":0,\"ticks\":\"\"},\"colorscale\":[[0.0,\"#0d0887\"],[0.1111111111111111,\"#46039f\"],[0.2222222222222222,\"#7201a8\"],[0.3333333333333333,\"#9c179e\"],[0.4444444444444444,\"#bd3786\"],[0.5555555555555556,\"#d8576b\"],[0.6666666666666666,\"#ed7953\"],[0.7777777777777778,\"#fb9f3a\"],[0.8888888888888888,\"#fdca26\"],[1.0,\"#f0f921\"]]}],\"heatmap\":[{\"type\":\"heatmap\",\"colorbar\":{\"outlinewidth\":0,\"ticks\":\"\"},\"colorscale\":[[0.0,\"#0d0887\"],[0.1111111111111111,\"#46039f\"],[0.2222222222222222,\"#7201a8\"],[0.3333333333333333,\"#9c179e\"],[0.4444444444444444,\"#bd3786\"],[0.5555555555555556,\"#d8576b\"],[0.6666666666666666,\"#ed7953\"],[0.7777777777777778,\"#fb9f3a\"],[0.8888888888888888,\"#fdca26\"],[1.0,\"#f0f921\"]]}],\"heatmapgl\":[{\"type\":\"heatmapgl\",\"colorbar\":{\"outlinewidth\":0,\"ticks\":\"\"},\"colorscale\":[[0.0,\"#0d0887\"],[0.1111111111111111,\"#46039f\"],[0.2222222222222222,\"#7201a8\"],[0.3333333333333333,\"#9c179e\"],[0.4444444444444444,\"#bd3786\"],[0.5555555555555556,\"#d8576b\"],[0.6666666666666666,\"#ed7953\"],[0.7777777777777778,\"#fb9f3a\"],[0.8888888888888888,\"#fdca26\"],[1.0,\"#f0f921\"]]}],\"contourcarpet\":[{\"type\":\"contourcarpet\",\"colorbar\":{\"outlinewidth\":0,\"ticks\":\"\"}}],\"contour\":[{\"type\":\"contour\",\"colorbar\":{\"outlinewidth\":0,\"ticks\":\"\"},\"colorscale\":[[0.0,\"#0d0887\"],[0.1111111111111111,\"#46039f\"],[0.2222222222222222,\"#7201a8\"],[0.3333333333333333,\"#9c179e\"],[0.4444444444444444,\"#bd3786\"],[0.5555555555555556,\"#d8576b\"],[0.6666666666666666,\"#ed7953\"],[0.7777777777777778,\"#fb9f3a\"],[0.8888888888888888,\"#fdca26\"],[1.0,\"#f0f921\"]]}],\"surface\":[{\"type\":\"surface\",\"colorbar\":{\"outlinewidth\":0,\"ticks\":\"\"},\"colorscale\":[[0.0,\"#0d0887\"],[0.1111111111111111,\"#46039f\"],[0.2222222222222222,\"#7201a8\"],[0.3333333333333333,\"#9c179e\"],[0.4444444444444444,\"#bd3786\"],[0.5555555555555556,\"#d8576b\"],[0.6666666666666666,\"#ed7953\"],[0.7777777777777778,\"#fb9f3a\"],[0.8888888888888888,\"#fdca26\"],[1.0,\"#f0f921\"]]}],\"mesh3d\":[{\"type\":\"mesh3d\",\"colorbar\":{\"outlinewidth\":0,\"ticks\":\"\"}}],\"scatter\":[{\"fillpattern\":{\"fillmode\":\"overlay\",\"size\":10,\"solidity\":0.2},\"type\":\"scatter\"}],\"parcoords\":[{\"type\":\"parcoords\",\"line\":{\"colorbar\":{\"outlinewidth\":0,\"ticks\":\"\"}}}],\"scatterpolargl\":[{\"type\":\"scatterpolargl\",\"marker\":{\"colorbar\":{\"outlinewidth\":0,\"ticks\":\"\"}}}],\"bar\":[{\"error_x\":{\"color\":\"#2a3f5f\"},\"error_y\":{\"color\":\"#2a3f5f\"},\"marker\":{\"line\":{\"color\":\"#E5ECF6\",\"width\":0.5},\"pattern\":{\"fillmode\":\"overlay\",\"size\":10,\"solidity\":0.2}},\"type\":\"bar\"}],\"scattergeo\":[{\"type\":\"scattergeo\",\"marker\":{\"colorbar\":{\"outlinewidth\":0,\"ticks\":\"\"}}}],\"scatterpolar\":[{\"type\":\"scatterpolar\",\"marker\":{\"colorbar\":{\"outlinewidth\":0,\"ticks\":\"\"}}}],\"histogram\":[{\"marker\":{\"pattern\":{\"fillmode\":\"overlay\",\"size\":10,\"solidity\":0.2}},\"type\":\"histogram\"}],\"scattergl\":[{\"type\":\"scattergl\",\"marker\":{\"colorbar\":{\"outlinewidth\":0,\"ticks\":\"\"}}}],\"scatter3d\":[{\"type\":\"scatter3d\",\"line\":{\"colorbar\":{\"outlinewidth\":0,\"ticks\":\"\"}},\"marker\":{\"colorbar\":{\"outlinewidth\":0,\"ticks\":\"\"}}}],\"scattermapbox\":[{\"type\":\"scattermapbox\",\"marker\":{\"colorbar\":{\"outlinewidth\":0,\"ticks\":\"\"}}}],\"scatterternary\":[{\"type\":\"scatterternary\",\"marker\":{\"colorbar\":{\"outlinewidth\":0,\"ticks\":\"\"}}}],\"scattercarpet\":[{\"type\":\"scattercarpet\",\"marker\":{\"colorbar\":{\"outlinewidth\":0,\"ticks\":\"\"}}}],\"carpet\":[{\"aaxis\":{\"endlinecolor\":\"#2a3f5f\",\"gridcolor\":\"white\",\"linecolor\":\"white\",\"minorgridcolor\":\"white\",\"startlinecolor\":\"#2a3f5f\"},\"baxis\":{\"endlinecolor\":\"#2a3f5f\",\"gridcolor\":\"white\",\"linecolor\":\"white\",\"minorgridcolor\":\"white\",\"startlinecolor\":\"#2a3f5f\"},\"type\":\"carpet\"}],\"table\":[{\"cells\":{\"fill\":{\"color\":\"#EBF0F8\"},\"line\":{\"color\":\"white\"}},\"header\":{\"fill\":{\"color\":\"#C8D4E3\"},\"line\":{\"color\":\"white\"}},\"type\":\"table\"}],\"barpolar\":[{\"marker\":{\"line\":{\"color\":\"#E5ECF6\",\"width\":0.5},\"pattern\":{\"fillmode\":\"overlay\",\"size\":10,\"solidity\":0.2}},\"type\":\"barpolar\"}],\"pie\":[{\"automargin\":true,\"type\":\"pie\"}]},\"layout\":{\"autotypenumbers\":\"strict\",\"colorway\":[\"#636efa\",\"#EF553B\",\"#00cc96\",\"#ab63fa\",\"#FFA15A\",\"#19d3f3\",\"#FF6692\",\"#B6E880\",\"#FF97FF\",\"#FECB52\"],\"font\":{\"color\":\"#2a3f5f\"},\"hovermode\":\"closest\",\"hoverlabel\":{\"align\":\"left\"},\"paper_bgcolor\":\"white\",\"plot_bgcolor\":\"#E5ECF6\",\"polar\":{\"bgcolor\":\"#E5ECF6\",\"angularaxis\":{\"gridcolor\":\"white\",\"linecolor\":\"white\",\"ticks\":\"\"},\"radialaxis\":{\"gridcolor\":\"white\",\"linecolor\":\"white\",\"ticks\":\"\"}},\"ternary\":{\"bgcolor\":\"#E5ECF6\",\"aaxis\":{\"gridcolor\":\"white\",\"linecolor\":\"white\",\"ticks\":\"\"},\"baxis\":{\"gridcolor\":\"white\",\"linecolor\":\"white\",\"ticks\":\"\"},\"caxis\":{\"gridcolor\":\"white\",\"linecolor\":\"white\",\"ticks\":\"\"}},\"coloraxis\":{\"colorbar\":{\"outlinewidth\":0,\"ticks\":\"\"}},\"colorscale\":{\"sequential\":[[0.0,\"#0d0887\"],[0.1111111111111111,\"#46039f\"],[0.2222222222222222,\"#7201a8\"],[0.3333333333333333,\"#9c179e\"],[0.4444444444444444,\"#bd3786\"],[0.5555555555555556,\"#d8576b\"],[0.6666666666666666,\"#ed7953\"],[0.7777777777777778,\"#fb9f3a\"],[0.8888888888888888,\"#fdca26\"],[1.0,\"#f0f921\"]],\"sequentialminus\":[[0.0,\"#0d0887\"],[0.1111111111111111,\"#46039f\"],[0.2222222222222222,\"#7201a8\"],[0.3333333333333333,\"#9c179e\"],[0.4444444444444444,\"#bd3786\"],[0.5555555555555556,\"#d8576b\"],[0.6666666666666666,\"#ed7953\"],[0.7777777777777778,\"#fb9f3a\"],[0.8888888888888888,\"#fdca26\"],[1.0,\"#f0f921\"]],\"diverging\":[[0,\"#8e0152\"],[0.1,\"#c51b7d\"],[0.2,\"#de77ae\"],[0.3,\"#f1b6da\"],[0.4,\"#fde0ef\"],[0.5,\"#f7f7f7\"],[0.6,\"#e6f5d0\"],[0.7,\"#b8e186\"],[0.8,\"#7fbc41\"],[0.9,\"#4d9221\"],[1,\"#276419\"]]},\"xaxis\":{\"gridcolor\":\"white\",\"linecolor\":\"white\",\"ticks\":\"\",\"title\":{\"standoff\":15},\"zerolinecolor\":\"white\",\"automargin\":true,\"zerolinewidth\":2},\"yaxis\":{\"gridcolor\":\"white\",\"linecolor\":\"white\",\"ticks\":\"\",\"title\":{\"standoff\":15},\"zerolinecolor\":\"white\",\"automargin\":true,\"zerolinewidth\":2},\"scene\":{\"xaxis\":{\"backgroundcolor\":\"#E5ECF6\",\"gridcolor\":\"white\",\"linecolor\":\"white\",\"showbackground\":true,\"ticks\":\"\",\"zerolinecolor\":\"white\",\"gridwidth\":2},\"yaxis\":{\"backgroundcolor\":\"#E5ECF6\",\"gridcolor\":\"white\",\"linecolor\":\"white\",\"showbackground\":true,\"ticks\":\"\",\"zerolinecolor\":\"white\",\"gridwidth\":2},\"zaxis\":{\"backgroundcolor\":\"#E5ECF6\",\"gridcolor\":\"white\",\"linecolor\":\"white\",\"showbackground\":true,\"ticks\":\"\",\"zerolinecolor\":\"white\",\"gridwidth\":2}},\"shapedefaults\":{\"line\":{\"color\":\"#2a3f5f\"}},\"annotationdefaults\":{\"arrowcolor\":\"#2a3f5f\",\"arrowhead\":0,\"arrowwidth\":1},\"geo\":{\"bgcolor\":\"white\",\"landcolor\":\"#E5ECF6\",\"subunitcolor\":\"white\",\"showland\":true,\"showlakes\":true,\"lakecolor\":\"white\"},\"title\":{\"x\":0.05},\"mapbox\":{\"style\":\"light\"}}},\"xaxis\":{\"anchor\":\"y\",\"domain\":[0.0,1.0],\"scaleanchor\":\"y\",\"constrain\":\"domain\"},\"yaxis\":{\"anchor\":\"x\",\"domain\":[0.0,1.0],\"autorange\":\"reversed\",\"constrain\":\"domain\"},\"coloraxis\":{\"colorscale\":[[0.0,\"#0d0887\"],[0.1111111111111111,\"#46039f\"],[0.2222222222222222,\"#7201a8\"],[0.3333333333333333,\"#9c179e\"],[0.4444444444444444,\"#bd3786\"],[0.5555555555555556,\"#d8576b\"],[0.6666666666666666,\"#ed7953\"],[0.7777777777777778,\"#fb9f3a\"],[0.8888888888888888,\"#fdca26\"],[1.0,\"#f0f921\"]]},\"margin\":{\"t\":60},\"autosize\":false,\"width\":800,\"height\":800},                        {\"responsive\": true}                    ).then(function(){\n",
       "                            \n",
       "var gd = document.getElementById('6ec33d60-9927-4c54-bc3d-e93b5ae0bf96');\n",
       "var x = new MutationObserver(function (mutations, observer) {{\n",
       "        var display = window.getComputedStyle(gd).display;\n",
       "        if (!display || display === 'none') {{\n",
       "            console.log([gd, 'removed!']);\n",
       "            Plotly.purge(gd);\n",
       "            observer.disconnect();\n",
       "        }}\n",
       "}});\n",
       "\n",
       "// Listen for the removal of the full notebook cells\n",
       "var notebookContainer = gd.closest('#notebook-container');\n",
       "if (notebookContainer) {{\n",
       "    x.observe(notebookContainer, {childList: true});\n",
       "}}\n",
       "\n",
       "// Listen for the clearing of the current output cell\n",
       "var outputEl = gd.closest('.output');\n",
       "if (outputEl) {{\n",
       "    x.observe(outputEl, {childList: true});\n",
       "}}\n",
       "\n",
       "                        })                };                });            </script>        </div>"
      ]
     },
     "metadata": {},
     "output_type": "display_data"
    }
   ],
   "source": [
    "#let's round the numbers up to 2 decimal places\n",
    "fig = px.imshow(df_train.corr().round(2), text_auto=True)\n",
    "fig.update_layout(\n",
    "    autosize=False,\n",
    "    width=800,\n",
    "    height=800)\n",
    "fig.show()"
   ]
  },
  {
   "cell_type": "markdown",
   "id": "ba5ffeb0",
   "metadata": {},
   "source": [
    "It seems that there is some type of correlation between Target values and EOY Mastered Topics, EOY Mastery, and Progress.\n",
    "\n",
    "### ALEKS Performace by STAAR Ratings"
   ]
  },
  {
   "cell_type": "code",
   "execution_count": 54,
   "id": "080840d6",
   "metadata": {},
   "outputs": [
    {
     "data": {
      "text/html": [
       "<div>\n",
       "<style scoped>\n",
       "    .dataframe tbody tr th:only-of-type {\n",
       "        vertical-align: middle;\n",
       "    }\n",
       "\n",
       "    .dataframe tbody tr th {\n",
       "        vertical-align: top;\n",
       "    }\n",
       "\n",
       "    .dataframe thead th {\n",
       "        text-align: right;\n",
       "    }\n",
       "</style>\n",
       "<table border=\"1\" class=\"dataframe\">\n",
       "  <thead>\n",
       "    <tr style=\"text-align: right;\">\n",
       "      <th></th>\n",
       "      <th>STAAR Performance</th>\n",
       "      <th>School Grade</th>\n",
       "      <th>ALEKS Grade</th>\n",
       "      <th>BOY Mastery</th>\n",
       "      <th>BOY Mastered Topics</th>\n",
       "      <th>EOY Mastery</th>\n",
       "      <th>EOY Mastered Topics</th>\n",
       "      <th>Total Number of Topics</th>\n",
       "      <th>Progress</th>\n",
       "      <th>Learned</th>\n",
       "      <th>Total Time Spent</th>\n",
       "      <th>Target</th>\n",
       "    </tr>\n",
       "  </thead>\n",
       "  <tbody>\n",
       "    <tr>\n",
       "      <th>0</th>\n",
       "      <td>Fails</td>\n",
       "      <td>5.499175</td>\n",
       "      <td>5.481677</td>\n",
       "      <td>0.098385</td>\n",
       "      <td>25.760977</td>\n",
       "      <td>0.345371</td>\n",
       "      <td>84.550017</td>\n",
       "      <td>254.091779</td>\n",
       "      <td>0.246993</td>\n",
       "      <td>75.027402</td>\n",
       "      <td>1726.626896</td>\n",
       "      <td>0.0</td>\n",
       "    </tr>\n",
       "    <tr>\n",
       "      <th>1</th>\n",
       "      <td>Approaches</td>\n",
       "      <td>6.087448</td>\n",
       "      <td>6.083284</td>\n",
       "      <td>0.144783</td>\n",
       "      <td>40.482748</td>\n",
       "      <td>0.463920</td>\n",
       "      <td>126.024093</td>\n",
       "      <td>281.182629</td>\n",
       "      <td>0.319150</td>\n",
       "      <td>103.671921</td>\n",
       "      <td>1984.748939</td>\n",
       "      <td>1.0</td>\n",
       "    </tr>\n",
       "    <tr>\n",
       "      <th>2</th>\n",
       "      <td>Meets</td>\n",
       "      <td>6.233803</td>\n",
       "      <td>6.414085</td>\n",
       "      <td>0.219267</td>\n",
       "      <td>68.414085</td>\n",
       "      <td>0.738133</td>\n",
       "      <td>169.247887</td>\n",
       "      <td>304.512676</td>\n",
       "      <td>0.518870</td>\n",
       "      <td>117.207243</td>\n",
       "      <td>1943.140966</td>\n",
       "      <td>1.0</td>\n",
       "    </tr>\n",
       "    <tr>\n",
       "      <th>3</th>\n",
       "      <td>Masters</td>\n",
       "      <td>6.729511</td>\n",
       "      <td>7.185719</td>\n",
       "      <td>0.283454</td>\n",
       "      <td>99.848048</td>\n",
       "      <td>0.991198</td>\n",
       "      <td>215.672177</td>\n",
       "      <td>350.616954</td>\n",
       "      <td>0.707753</td>\n",
       "      <td>126.559620</td>\n",
       "      <td>1828.738393</td>\n",
       "      <td>1.0</td>\n",
       "    </tr>\n",
       "  </tbody>\n",
       "</table>\n",
       "</div>"
      ],
      "text/plain": [
       "  STAAR Performance  School Grade  ALEKS Grade  BOY Mastery  \\\n",
       "0             Fails      5.499175     5.481677     0.098385   \n",
       "1        Approaches      6.087448     6.083284     0.144783   \n",
       "2             Meets      6.233803     6.414085     0.219267   \n",
       "3           Masters      6.729511     7.185719     0.283454   \n",
       "\n",
       "   BOY Mastered Topics  EOY Mastery  EOY Mastered Topics  \\\n",
       "0            25.760977     0.345371            84.550017   \n",
       "1            40.482748     0.463920           126.024093   \n",
       "2            68.414085     0.738133           169.247887   \n",
       "3            99.848048     0.991198           215.672177   \n",
       "\n",
       "   Total Number of Topics  Progress     Learned  Total Time Spent  Target  \n",
       "0              254.091779  0.246993   75.027402       1726.626896     0.0  \n",
       "1              281.182629  0.319150  103.671921       1984.748939     1.0  \n",
       "2              304.512676  0.518870  117.207243       1943.140966     1.0  \n",
       "3              350.616954  0.707753  126.559620       1828.738393     1.0  "
      ]
     },
     "execution_count": 54,
     "metadata": {},
     "output_type": "execute_result"
    }
   ],
   "source": [
    "#Let's take a look at the avarege ALEKS performances by STAAR ratings.\n",
    "df_new = df.groupby(\"STAAR Performance\", as_index=False).mean()\n",
    "df_new.sort_values(by=[\"Progress\"], inplace=True)\n",
    "df_new.reset_index(drop=True, inplace=True)\n",
    "df_new"
   ]
  },
  {
   "cell_type": "markdown",
   "id": "5e0afb3c",
   "metadata": {},
   "source": [
    "## Number of Topics Completed by STAAR Performance"
   ]
  },
  {
   "cell_type": "code",
   "execution_count": 78,
   "id": "a3808a9a",
   "metadata": {},
   "outputs": [
    {
     "data": {
      "application/vnd.plotly.v1+json": {
       "config": {
        "plotlyServerURL": "https://plot.ly"
       },
       "data": [
        {
         "customdata": [
          [
           "Fails"
          ],
          [
           "Approaches"
          ],
          [
           "Meets"
          ],
          [
           "Masters"
          ]
         ],
         "domain": {
          "x": [
           0,
           1
          ],
          "y": [
           0,
           1
          ]
         },
         "hovertemplate": "STAAR Performance=%{customdata[0]}<br>EOY Mastered Topics=%{value}<extra></extra>",
         "labels": [
          "Fails",
          "Approaches",
          "Meets",
          "Masters"
         ],
         "legendgroup": "",
         "marker": {
          "colors": [
           "#636efa",
           "#EF553B",
           "#00cc96",
           "#ab63fa"
          ]
         },
         "name": "",
         "showlegend": true,
         "textinfo": "percent+label",
         "textposition": "inside",
         "type": "pie",
         "values": [
          84.55001650709805,
          126.02409280190363,
          169.24788732394367,
          215.67217727752373
         ]
        }
       ],
       "layout": {
        "legend": {
         "tracegroupgap": 0
        },
        "template": {
         "data": {
          "bar": [
           {
            "error_x": {
             "color": "#2a3f5f"
            },
            "error_y": {
             "color": "#2a3f5f"
            },
            "marker": {
             "line": {
              "color": "#E5ECF6",
              "width": 0.5
             },
             "pattern": {
              "fillmode": "overlay",
              "size": 10,
              "solidity": 0.2
             }
            },
            "type": "bar"
           }
          ],
          "barpolar": [
           {
            "marker": {
             "line": {
              "color": "#E5ECF6",
              "width": 0.5
             },
             "pattern": {
              "fillmode": "overlay",
              "size": 10,
              "solidity": 0.2
             }
            },
            "type": "barpolar"
           }
          ],
          "carpet": [
           {
            "aaxis": {
             "endlinecolor": "#2a3f5f",
             "gridcolor": "white",
             "linecolor": "white",
             "minorgridcolor": "white",
             "startlinecolor": "#2a3f5f"
            },
            "baxis": {
             "endlinecolor": "#2a3f5f",
             "gridcolor": "white",
             "linecolor": "white",
             "minorgridcolor": "white",
             "startlinecolor": "#2a3f5f"
            },
            "type": "carpet"
           }
          ],
          "choropleth": [
           {
            "colorbar": {
             "outlinewidth": 0,
             "ticks": ""
            },
            "type": "choropleth"
           }
          ],
          "contour": [
           {
            "colorbar": {
             "outlinewidth": 0,
             "ticks": ""
            },
            "colorscale": [
             [
              0,
              "#0d0887"
             ],
             [
              0.1111111111111111,
              "#46039f"
             ],
             [
              0.2222222222222222,
              "#7201a8"
             ],
             [
              0.3333333333333333,
              "#9c179e"
             ],
             [
              0.4444444444444444,
              "#bd3786"
             ],
             [
              0.5555555555555556,
              "#d8576b"
             ],
             [
              0.6666666666666666,
              "#ed7953"
             ],
             [
              0.7777777777777778,
              "#fb9f3a"
             ],
             [
              0.8888888888888888,
              "#fdca26"
             ],
             [
              1,
              "#f0f921"
             ]
            ],
            "type": "contour"
           }
          ],
          "contourcarpet": [
           {
            "colorbar": {
             "outlinewidth": 0,
             "ticks": ""
            },
            "type": "contourcarpet"
           }
          ],
          "heatmap": [
           {
            "colorbar": {
             "outlinewidth": 0,
             "ticks": ""
            },
            "colorscale": [
             [
              0,
              "#0d0887"
             ],
             [
              0.1111111111111111,
              "#46039f"
             ],
             [
              0.2222222222222222,
              "#7201a8"
             ],
             [
              0.3333333333333333,
              "#9c179e"
             ],
             [
              0.4444444444444444,
              "#bd3786"
             ],
             [
              0.5555555555555556,
              "#d8576b"
             ],
             [
              0.6666666666666666,
              "#ed7953"
             ],
             [
              0.7777777777777778,
              "#fb9f3a"
             ],
             [
              0.8888888888888888,
              "#fdca26"
             ],
             [
              1,
              "#f0f921"
             ]
            ],
            "type": "heatmap"
           }
          ],
          "heatmapgl": [
           {
            "colorbar": {
             "outlinewidth": 0,
             "ticks": ""
            },
            "colorscale": [
             [
              0,
              "#0d0887"
             ],
             [
              0.1111111111111111,
              "#46039f"
             ],
             [
              0.2222222222222222,
              "#7201a8"
             ],
             [
              0.3333333333333333,
              "#9c179e"
             ],
             [
              0.4444444444444444,
              "#bd3786"
             ],
             [
              0.5555555555555556,
              "#d8576b"
             ],
             [
              0.6666666666666666,
              "#ed7953"
             ],
             [
              0.7777777777777778,
              "#fb9f3a"
             ],
             [
              0.8888888888888888,
              "#fdca26"
             ],
             [
              1,
              "#f0f921"
             ]
            ],
            "type": "heatmapgl"
           }
          ],
          "histogram": [
           {
            "marker": {
             "pattern": {
              "fillmode": "overlay",
              "size": 10,
              "solidity": 0.2
             }
            },
            "type": "histogram"
           }
          ],
          "histogram2d": [
           {
            "colorbar": {
             "outlinewidth": 0,
             "ticks": ""
            },
            "colorscale": [
             [
              0,
              "#0d0887"
             ],
             [
              0.1111111111111111,
              "#46039f"
             ],
             [
              0.2222222222222222,
              "#7201a8"
             ],
             [
              0.3333333333333333,
              "#9c179e"
             ],
             [
              0.4444444444444444,
              "#bd3786"
             ],
             [
              0.5555555555555556,
              "#d8576b"
             ],
             [
              0.6666666666666666,
              "#ed7953"
             ],
             [
              0.7777777777777778,
              "#fb9f3a"
             ],
             [
              0.8888888888888888,
              "#fdca26"
             ],
             [
              1,
              "#f0f921"
             ]
            ],
            "type": "histogram2d"
           }
          ],
          "histogram2dcontour": [
           {
            "colorbar": {
             "outlinewidth": 0,
             "ticks": ""
            },
            "colorscale": [
             [
              0,
              "#0d0887"
             ],
             [
              0.1111111111111111,
              "#46039f"
             ],
             [
              0.2222222222222222,
              "#7201a8"
             ],
             [
              0.3333333333333333,
              "#9c179e"
             ],
             [
              0.4444444444444444,
              "#bd3786"
             ],
             [
              0.5555555555555556,
              "#d8576b"
             ],
             [
              0.6666666666666666,
              "#ed7953"
             ],
             [
              0.7777777777777778,
              "#fb9f3a"
             ],
             [
              0.8888888888888888,
              "#fdca26"
             ],
             [
              1,
              "#f0f921"
             ]
            ],
            "type": "histogram2dcontour"
           }
          ],
          "mesh3d": [
           {
            "colorbar": {
             "outlinewidth": 0,
             "ticks": ""
            },
            "type": "mesh3d"
           }
          ],
          "parcoords": [
           {
            "line": {
             "colorbar": {
              "outlinewidth": 0,
              "ticks": ""
             }
            },
            "type": "parcoords"
           }
          ],
          "pie": [
           {
            "automargin": true,
            "type": "pie"
           }
          ],
          "scatter": [
           {
            "fillpattern": {
             "fillmode": "overlay",
             "size": 10,
             "solidity": 0.2
            },
            "type": "scatter"
           }
          ],
          "scatter3d": [
           {
            "line": {
             "colorbar": {
              "outlinewidth": 0,
              "ticks": ""
             }
            },
            "marker": {
             "colorbar": {
              "outlinewidth": 0,
              "ticks": ""
             }
            },
            "type": "scatter3d"
           }
          ],
          "scattercarpet": [
           {
            "marker": {
             "colorbar": {
              "outlinewidth": 0,
              "ticks": ""
             }
            },
            "type": "scattercarpet"
           }
          ],
          "scattergeo": [
           {
            "marker": {
             "colorbar": {
              "outlinewidth": 0,
              "ticks": ""
             }
            },
            "type": "scattergeo"
           }
          ],
          "scattergl": [
           {
            "marker": {
             "colorbar": {
              "outlinewidth": 0,
              "ticks": ""
             }
            },
            "type": "scattergl"
           }
          ],
          "scattermapbox": [
           {
            "marker": {
             "colorbar": {
              "outlinewidth": 0,
              "ticks": ""
             }
            },
            "type": "scattermapbox"
           }
          ],
          "scatterpolar": [
           {
            "marker": {
             "colorbar": {
              "outlinewidth": 0,
              "ticks": ""
             }
            },
            "type": "scatterpolar"
           }
          ],
          "scatterpolargl": [
           {
            "marker": {
             "colorbar": {
              "outlinewidth": 0,
              "ticks": ""
             }
            },
            "type": "scatterpolargl"
           }
          ],
          "scatterternary": [
           {
            "marker": {
             "colorbar": {
              "outlinewidth": 0,
              "ticks": ""
             }
            },
            "type": "scatterternary"
           }
          ],
          "surface": [
           {
            "colorbar": {
             "outlinewidth": 0,
             "ticks": ""
            },
            "colorscale": [
             [
              0,
              "#0d0887"
             ],
             [
              0.1111111111111111,
              "#46039f"
             ],
             [
              0.2222222222222222,
              "#7201a8"
             ],
             [
              0.3333333333333333,
              "#9c179e"
             ],
             [
              0.4444444444444444,
              "#bd3786"
             ],
             [
              0.5555555555555556,
              "#d8576b"
             ],
             [
              0.6666666666666666,
              "#ed7953"
             ],
             [
              0.7777777777777778,
              "#fb9f3a"
             ],
             [
              0.8888888888888888,
              "#fdca26"
             ],
             [
              1,
              "#f0f921"
             ]
            ],
            "type": "surface"
           }
          ],
          "table": [
           {
            "cells": {
             "fill": {
              "color": "#EBF0F8"
             },
             "line": {
              "color": "white"
             }
            },
            "header": {
             "fill": {
              "color": "#C8D4E3"
             },
             "line": {
              "color": "white"
             }
            },
            "type": "table"
           }
          ]
         },
         "layout": {
          "annotationdefaults": {
           "arrowcolor": "#2a3f5f",
           "arrowhead": 0,
           "arrowwidth": 1
          },
          "autotypenumbers": "strict",
          "coloraxis": {
           "colorbar": {
            "outlinewidth": 0,
            "ticks": ""
           }
          },
          "colorscale": {
           "diverging": [
            [
             0,
             "#8e0152"
            ],
            [
             0.1,
             "#c51b7d"
            ],
            [
             0.2,
             "#de77ae"
            ],
            [
             0.3,
             "#f1b6da"
            ],
            [
             0.4,
             "#fde0ef"
            ],
            [
             0.5,
             "#f7f7f7"
            ],
            [
             0.6,
             "#e6f5d0"
            ],
            [
             0.7,
             "#b8e186"
            ],
            [
             0.8,
             "#7fbc41"
            ],
            [
             0.9,
             "#4d9221"
            ],
            [
             1,
             "#276419"
            ]
           ],
           "sequential": [
            [
             0,
             "#0d0887"
            ],
            [
             0.1111111111111111,
             "#46039f"
            ],
            [
             0.2222222222222222,
             "#7201a8"
            ],
            [
             0.3333333333333333,
             "#9c179e"
            ],
            [
             0.4444444444444444,
             "#bd3786"
            ],
            [
             0.5555555555555556,
             "#d8576b"
            ],
            [
             0.6666666666666666,
             "#ed7953"
            ],
            [
             0.7777777777777778,
             "#fb9f3a"
            ],
            [
             0.8888888888888888,
             "#fdca26"
            ],
            [
             1,
             "#f0f921"
            ]
           ],
           "sequentialminus": [
            [
             0,
             "#0d0887"
            ],
            [
             0.1111111111111111,
             "#46039f"
            ],
            [
             0.2222222222222222,
             "#7201a8"
            ],
            [
             0.3333333333333333,
             "#9c179e"
            ],
            [
             0.4444444444444444,
             "#bd3786"
            ],
            [
             0.5555555555555556,
             "#d8576b"
            ],
            [
             0.6666666666666666,
             "#ed7953"
            ],
            [
             0.7777777777777778,
             "#fb9f3a"
            ],
            [
             0.8888888888888888,
             "#fdca26"
            ],
            [
             1,
             "#f0f921"
            ]
           ]
          },
          "colorway": [
           "#636efa",
           "#EF553B",
           "#00cc96",
           "#ab63fa",
           "#FFA15A",
           "#19d3f3",
           "#FF6692",
           "#B6E880",
           "#FF97FF",
           "#FECB52"
          ],
          "font": {
           "color": "#2a3f5f"
          },
          "geo": {
           "bgcolor": "white",
           "lakecolor": "white",
           "landcolor": "#E5ECF6",
           "showlakes": true,
           "showland": true,
           "subunitcolor": "white"
          },
          "hoverlabel": {
           "align": "left"
          },
          "hovermode": "closest",
          "mapbox": {
           "style": "light"
          },
          "paper_bgcolor": "white",
          "plot_bgcolor": "#E5ECF6",
          "polar": {
           "angularaxis": {
            "gridcolor": "white",
            "linecolor": "white",
            "ticks": ""
           },
           "bgcolor": "#E5ECF6",
           "radialaxis": {
            "gridcolor": "white",
            "linecolor": "white",
            "ticks": ""
           }
          },
          "scene": {
           "xaxis": {
            "backgroundcolor": "#E5ECF6",
            "gridcolor": "white",
            "gridwidth": 2,
            "linecolor": "white",
            "showbackground": true,
            "ticks": "",
            "zerolinecolor": "white"
           },
           "yaxis": {
            "backgroundcolor": "#E5ECF6",
            "gridcolor": "white",
            "gridwidth": 2,
            "linecolor": "white",
            "showbackground": true,
            "ticks": "",
            "zerolinecolor": "white"
           },
           "zaxis": {
            "backgroundcolor": "#E5ECF6",
            "gridcolor": "white",
            "gridwidth": 2,
            "linecolor": "white",
            "showbackground": true,
            "ticks": "",
            "zerolinecolor": "white"
           }
          },
          "shapedefaults": {
           "line": {
            "color": "#2a3f5f"
           }
          },
          "ternary": {
           "aaxis": {
            "gridcolor": "white",
            "linecolor": "white",
            "ticks": ""
           },
           "baxis": {
            "gridcolor": "white",
            "linecolor": "white",
            "ticks": ""
           },
           "bgcolor": "#E5ECF6",
           "caxis": {
            "gridcolor": "white",
            "linecolor": "white",
            "ticks": ""
           }
          },
          "title": {
           "x": 0.05
          },
          "xaxis": {
           "automargin": true,
           "gridcolor": "white",
           "linecolor": "white",
           "ticks": "",
           "title": {
            "standoff": 15
           },
           "zerolinecolor": "white",
           "zerolinewidth": 2
          },
          "yaxis": {
           "automargin": true,
           "gridcolor": "white",
           "linecolor": "white",
           "ticks": "",
           "title": {
            "standoff": 15
           },
           "zerolinecolor": "white",
           "zerolinewidth": 2
          }
         }
        },
        "title": {
         "text": "Number of Topics Completed by Performance"
        }
       }
      },
      "text/html": [
       "<div>                            <div id=\"022fc524-214d-43f4-b78f-cc7c5e52186f\" class=\"plotly-graph-div\" style=\"height:525px; width:100%;\"></div>            <script type=\"text/javascript\">                require([\"plotly\"], function(Plotly) {                    window.PLOTLYENV=window.PLOTLYENV || {};                                    if (document.getElementById(\"022fc524-214d-43f4-b78f-cc7c5e52186f\")) {                    Plotly.newPlot(                        \"022fc524-214d-43f4-b78f-cc7c5e52186f\",                        [{\"customdata\":[[\"Fails\"],[\"Approaches\"],[\"Meets\"],[\"Masters\"]],\"domain\":{\"x\":[0.0,1.0],\"y\":[0.0,1.0]},\"hovertemplate\":\"STAAR Performance=%{customdata[0]}<br>EOY Mastered Topics=%{value}<extra></extra>\",\"labels\":[\"Fails\",\"Approaches\",\"Meets\",\"Masters\"],\"legendgroup\":\"\",\"marker\":{\"colors\":[\"#636efa\",\"#EF553B\",\"#00cc96\",\"#ab63fa\"]},\"name\":\"\",\"showlegend\":true,\"values\":[84.55001650709805,126.02409280190363,169.24788732394367,215.67217727752373],\"type\":\"pie\",\"textinfo\":\"percent+label\",\"textposition\":\"inside\"}],                        {\"template\":{\"data\":{\"histogram2dcontour\":[{\"type\":\"histogram2dcontour\",\"colorbar\":{\"outlinewidth\":0,\"ticks\":\"\"},\"colorscale\":[[0.0,\"#0d0887\"],[0.1111111111111111,\"#46039f\"],[0.2222222222222222,\"#7201a8\"],[0.3333333333333333,\"#9c179e\"],[0.4444444444444444,\"#bd3786\"],[0.5555555555555556,\"#d8576b\"],[0.6666666666666666,\"#ed7953\"],[0.7777777777777778,\"#fb9f3a\"],[0.8888888888888888,\"#fdca26\"],[1.0,\"#f0f921\"]]}],\"choropleth\":[{\"type\":\"choropleth\",\"colorbar\":{\"outlinewidth\":0,\"ticks\":\"\"}}],\"histogram2d\":[{\"type\":\"histogram2d\",\"colorbar\":{\"outlinewidth\":0,\"ticks\":\"\"},\"colorscale\":[[0.0,\"#0d0887\"],[0.1111111111111111,\"#46039f\"],[0.2222222222222222,\"#7201a8\"],[0.3333333333333333,\"#9c179e\"],[0.4444444444444444,\"#bd3786\"],[0.5555555555555556,\"#d8576b\"],[0.6666666666666666,\"#ed7953\"],[0.7777777777777778,\"#fb9f3a\"],[0.8888888888888888,\"#fdca26\"],[1.0,\"#f0f921\"]]}],\"heatmap\":[{\"type\":\"heatmap\",\"colorbar\":{\"outlinewidth\":0,\"ticks\":\"\"},\"colorscale\":[[0.0,\"#0d0887\"],[0.1111111111111111,\"#46039f\"],[0.2222222222222222,\"#7201a8\"],[0.3333333333333333,\"#9c179e\"],[0.4444444444444444,\"#bd3786\"],[0.5555555555555556,\"#d8576b\"],[0.6666666666666666,\"#ed7953\"],[0.7777777777777778,\"#fb9f3a\"],[0.8888888888888888,\"#fdca26\"],[1.0,\"#f0f921\"]]}],\"heatmapgl\":[{\"type\":\"heatmapgl\",\"colorbar\":{\"outlinewidth\":0,\"ticks\":\"\"},\"colorscale\":[[0.0,\"#0d0887\"],[0.1111111111111111,\"#46039f\"],[0.2222222222222222,\"#7201a8\"],[0.3333333333333333,\"#9c179e\"],[0.4444444444444444,\"#bd3786\"],[0.5555555555555556,\"#d8576b\"],[0.6666666666666666,\"#ed7953\"],[0.7777777777777778,\"#fb9f3a\"],[0.8888888888888888,\"#fdca26\"],[1.0,\"#f0f921\"]]}],\"contourcarpet\":[{\"type\":\"contourcarpet\",\"colorbar\":{\"outlinewidth\":0,\"ticks\":\"\"}}],\"contour\":[{\"type\":\"contour\",\"colorbar\":{\"outlinewidth\":0,\"ticks\":\"\"},\"colorscale\":[[0.0,\"#0d0887\"],[0.1111111111111111,\"#46039f\"],[0.2222222222222222,\"#7201a8\"],[0.3333333333333333,\"#9c179e\"],[0.4444444444444444,\"#bd3786\"],[0.5555555555555556,\"#d8576b\"],[0.6666666666666666,\"#ed7953\"],[0.7777777777777778,\"#fb9f3a\"],[0.8888888888888888,\"#fdca26\"],[1.0,\"#f0f921\"]]}],\"surface\":[{\"type\":\"surface\",\"colorbar\":{\"outlinewidth\":0,\"ticks\":\"\"},\"colorscale\":[[0.0,\"#0d0887\"],[0.1111111111111111,\"#46039f\"],[0.2222222222222222,\"#7201a8\"],[0.3333333333333333,\"#9c179e\"],[0.4444444444444444,\"#bd3786\"],[0.5555555555555556,\"#d8576b\"],[0.6666666666666666,\"#ed7953\"],[0.7777777777777778,\"#fb9f3a\"],[0.8888888888888888,\"#fdca26\"],[1.0,\"#f0f921\"]]}],\"mesh3d\":[{\"type\":\"mesh3d\",\"colorbar\":{\"outlinewidth\":0,\"ticks\":\"\"}}],\"scatter\":[{\"fillpattern\":{\"fillmode\":\"overlay\",\"size\":10,\"solidity\":0.2},\"type\":\"scatter\"}],\"parcoords\":[{\"type\":\"parcoords\",\"line\":{\"colorbar\":{\"outlinewidth\":0,\"ticks\":\"\"}}}],\"scatterpolargl\":[{\"type\":\"scatterpolargl\",\"marker\":{\"colorbar\":{\"outlinewidth\":0,\"ticks\":\"\"}}}],\"bar\":[{\"error_x\":{\"color\":\"#2a3f5f\"},\"error_y\":{\"color\":\"#2a3f5f\"},\"marker\":{\"line\":{\"color\":\"#E5ECF6\",\"width\":0.5},\"pattern\":{\"fillmode\":\"overlay\",\"size\":10,\"solidity\":0.2}},\"type\":\"bar\"}],\"scattergeo\":[{\"type\":\"scattergeo\",\"marker\":{\"colorbar\":{\"outlinewidth\":0,\"ticks\":\"\"}}}],\"scatterpolar\":[{\"type\":\"scatterpolar\",\"marker\":{\"colorbar\":{\"outlinewidth\":0,\"ticks\":\"\"}}}],\"histogram\":[{\"marker\":{\"pattern\":{\"fillmode\":\"overlay\",\"size\":10,\"solidity\":0.2}},\"type\":\"histogram\"}],\"scattergl\":[{\"type\":\"scattergl\",\"marker\":{\"colorbar\":{\"outlinewidth\":0,\"ticks\":\"\"}}}],\"scatter3d\":[{\"type\":\"scatter3d\",\"line\":{\"colorbar\":{\"outlinewidth\":0,\"ticks\":\"\"}},\"marker\":{\"colorbar\":{\"outlinewidth\":0,\"ticks\":\"\"}}}],\"scattermapbox\":[{\"type\":\"scattermapbox\",\"marker\":{\"colorbar\":{\"outlinewidth\":0,\"ticks\":\"\"}}}],\"scatterternary\":[{\"type\":\"scatterternary\",\"marker\":{\"colorbar\":{\"outlinewidth\":0,\"ticks\":\"\"}}}],\"scattercarpet\":[{\"type\":\"scattercarpet\",\"marker\":{\"colorbar\":{\"outlinewidth\":0,\"ticks\":\"\"}}}],\"carpet\":[{\"aaxis\":{\"endlinecolor\":\"#2a3f5f\",\"gridcolor\":\"white\",\"linecolor\":\"white\",\"minorgridcolor\":\"white\",\"startlinecolor\":\"#2a3f5f\"},\"baxis\":{\"endlinecolor\":\"#2a3f5f\",\"gridcolor\":\"white\",\"linecolor\":\"white\",\"minorgridcolor\":\"white\",\"startlinecolor\":\"#2a3f5f\"},\"type\":\"carpet\"}],\"table\":[{\"cells\":{\"fill\":{\"color\":\"#EBF0F8\"},\"line\":{\"color\":\"white\"}},\"header\":{\"fill\":{\"color\":\"#C8D4E3\"},\"line\":{\"color\":\"white\"}},\"type\":\"table\"}],\"barpolar\":[{\"marker\":{\"line\":{\"color\":\"#E5ECF6\",\"width\":0.5},\"pattern\":{\"fillmode\":\"overlay\",\"size\":10,\"solidity\":0.2}},\"type\":\"barpolar\"}],\"pie\":[{\"automargin\":true,\"type\":\"pie\"}]},\"layout\":{\"autotypenumbers\":\"strict\",\"colorway\":[\"#636efa\",\"#EF553B\",\"#00cc96\",\"#ab63fa\",\"#FFA15A\",\"#19d3f3\",\"#FF6692\",\"#B6E880\",\"#FF97FF\",\"#FECB52\"],\"font\":{\"color\":\"#2a3f5f\"},\"hovermode\":\"closest\",\"hoverlabel\":{\"align\":\"left\"},\"paper_bgcolor\":\"white\",\"plot_bgcolor\":\"#E5ECF6\",\"polar\":{\"bgcolor\":\"#E5ECF6\",\"angularaxis\":{\"gridcolor\":\"white\",\"linecolor\":\"white\",\"ticks\":\"\"},\"radialaxis\":{\"gridcolor\":\"white\",\"linecolor\":\"white\",\"ticks\":\"\"}},\"ternary\":{\"bgcolor\":\"#E5ECF6\",\"aaxis\":{\"gridcolor\":\"white\",\"linecolor\":\"white\",\"ticks\":\"\"},\"baxis\":{\"gridcolor\":\"white\",\"linecolor\":\"white\",\"ticks\":\"\"},\"caxis\":{\"gridcolor\":\"white\",\"linecolor\":\"white\",\"ticks\":\"\"}},\"coloraxis\":{\"colorbar\":{\"outlinewidth\":0,\"ticks\":\"\"}},\"colorscale\":{\"sequential\":[[0.0,\"#0d0887\"],[0.1111111111111111,\"#46039f\"],[0.2222222222222222,\"#7201a8\"],[0.3333333333333333,\"#9c179e\"],[0.4444444444444444,\"#bd3786\"],[0.5555555555555556,\"#d8576b\"],[0.6666666666666666,\"#ed7953\"],[0.7777777777777778,\"#fb9f3a\"],[0.8888888888888888,\"#fdca26\"],[1.0,\"#f0f921\"]],\"sequentialminus\":[[0.0,\"#0d0887\"],[0.1111111111111111,\"#46039f\"],[0.2222222222222222,\"#7201a8\"],[0.3333333333333333,\"#9c179e\"],[0.4444444444444444,\"#bd3786\"],[0.5555555555555556,\"#d8576b\"],[0.6666666666666666,\"#ed7953\"],[0.7777777777777778,\"#fb9f3a\"],[0.8888888888888888,\"#fdca26\"],[1.0,\"#f0f921\"]],\"diverging\":[[0,\"#8e0152\"],[0.1,\"#c51b7d\"],[0.2,\"#de77ae\"],[0.3,\"#f1b6da\"],[0.4,\"#fde0ef\"],[0.5,\"#f7f7f7\"],[0.6,\"#e6f5d0\"],[0.7,\"#b8e186\"],[0.8,\"#7fbc41\"],[0.9,\"#4d9221\"],[1,\"#276419\"]]},\"xaxis\":{\"gridcolor\":\"white\",\"linecolor\":\"white\",\"ticks\":\"\",\"title\":{\"standoff\":15},\"zerolinecolor\":\"white\",\"automargin\":true,\"zerolinewidth\":2},\"yaxis\":{\"gridcolor\":\"white\",\"linecolor\":\"white\",\"ticks\":\"\",\"title\":{\"standoff\":15},\"zerolinecolor\":\"white\",\"automargin\":true,\"zerolinewidth\":2},\"scene\":{\"xaxis\":{\"backgroundcolor\":\"#E5ECF6\",\"gridcolor\":\"white\",\"linecolor\":\"white\",\"showbackground\":true,\"ticks\":\"\",\"zerolinecolor\":\"white\",\"gridwidth\":2},\"yaxis\":{\"backgroundcolor\":\"#E5ECF6\",\"gridcolor\":\"white\",\"linecolor\":\"white\",\"showbackground\":true,\"ticks\":\"\",\"zerolinecolor\":\"white\",\"gridwidth\":2},\"zaxis\":{\"backgroundcolor\":\"#E5ECF6\",\"gridcolor\":\"white\",\"linecolor\":\"white\",\"showbackground\":true,\"ticks\":\"\",\"zerolinecolor\":\"white\",\"gridwidth\":2}},\"shapedefaults\":{\"line\":{\"color\":\"#2a3f5f\"}},\"annotationdefaults\":{\"arrowcolor\":\"#2a3f5f\",\"arrowhead\":0,\"arrowwidth\":1},\"geo\":{\"bgcolor\":\"white\",\"landcolor\":\"#E5ECF6\",\"subunitcolor\":\"white\",\"showland\":true,\"showlakes\":true,\"lakecolor\":\"white\"},\"title\":{\"x\":0.05},\"mapbox\":{\"style\":\"light\"}}},\"legend\":{\"tracegroupgap\":0},\"title\":{\"text\":\"Number of Topics Completed by Performance\"}},                        {\"responsive\": true}                    ).then(function(){\n",
       "                            \n",
       "var gd = document.getElementById('022fc524-214d-43f4-b78f-cc7c5e52186f');\n",
       "var x = new MutationObserver(function (mutations, observer) {{\n",
       "        var display = window.getComputedStyle(gd).display;\n",
       "        if (!display || display === 'none') {{\n",
       "            console.log([gd, 'removed!']);\n",
       "            Plotly.purge(gd);\n",
       "            observer.disconnect();\n",
       "        }}\n",
       "}});\n",
       "\n",
       "// Listen for the removal of the full notebook cells\n",
       "var notebookContainer = gd.closest('#notebook-container');\n",
       "if (notebookContainer) {{\n",
       "    x.observe(notebookContainer, {childList: true});\n",
       "}}\n",
       "\n",
       "// Listen for the clearing of the current output cell\n",
       "var outputEl = gd.closest('.output');\n",
       "if (outputEl) {{\n",
       "    x.observe(outputEl, {childList: true});\n",
       "}}\n",
       "\n",
       "                        })                };                });            </script>        </div>"
      ]
     },
     "metadata": {},
     "output_type": "display_data"
    }
   ],
   "source": [
    "fig1 = px.pie(df_new, values='EOY Mastered Topics', names='STAAR Performance', \n",
    "              color='STAAR Performance', title='Number of Topics Completed by Performance')\n",
    "\n",
    "fig1.update_traces(textposition='inside', textinfo='percent+label')\n",
    "fig1.show()"
   ]
  },
  {
   "cell_type": "markdown",
   "id": "9097cbd1",
   "metadata": {},
   "source": [
    "As you see, students who \"Fail\" the STAAR test are accountable for only 14% of topics mastered by all students. On the other hand, students who \"Master\" the STAAR are responsible for the biggest chunk: 36%  of all topics mastered.\n",
    "\n",
    "We can also observe strong relationship between number of topics mastered and STAAR Performances."
   ]
  },
  {
   "cell_type": "markdown",
   "id": "a67f0b61",
   "metadata": {},
   "source": [
    "## ALEKS Progress by STAAR Performance"
   ]
  },
  {
   "cell_type": "code",
   "execution_count": 79,
   "id": "76aad4d0",
   "metadata": {
    "scrolled": false
   },
   "outputs": [
    {
     "data": {
      "application/vnd.plotly.v1+json": {
       "config": {
        "plotlyServerURL": "https://plot.ly"
       },
       "data": [
        {
         "customdata": [
          [
           "Fails"
          ],
          [
           "Approaches"
          ],
          [
           "Meets"
          ],
          [
           "Masters"
          ]
         ],
         "domain": {
          "x": [
           0,
           1
          ],
          "y": [
           0,
           1
          ]
         },
         "hovertemplate": "STAAR Performance=%{customdata[0]}<br>Progress=%{value}<extra></extra>",
         "labels": [
          "Fails",
          "Approaches",
          "Meets",
          "Masters"
         ],
         "legendgroup": "",
         "marker": {
          "colors": [
           "#636efa",
           "#EF553B",
           "#00cc96",
           "#ab63fa"
          ]
         },
         "name": "",
         "showlegend": true,
         "textinfo": "percent+label",
         "textposition": "inside",
         "type": "pie",
         "values": [
          0.2469925574992667,
          0.31915002454868857,
          0.5188702549667097,
          0.7077525989477303
         ]
        }
       ],
       "layout": {
        "legend": {
         "tracegroupgap": 0
        },
        "template": {
         "data": {
          "bar": [
           {
            "error_x": {
             "color": "#2a3f5f"
            },
            "error_y": {
             "color": "#2a3f5f"
            },
            "marker": {
             "line": {
              "color": "#E5ECF6",
              "width": 0.5
             },
             "pattern": {
              "fillmode": "overlay",
              "size": 10,
              "solidity": 0.2
             }
            },
            "type": "bar"
           }
          ],
          "barpolar": [
           {
            "marker": {
             "line": {
              "color": "#E5ECF6",
              "width": 0.5
             },
             "pattern": {
              "fillmode": "overlay",
              "size": 10,
              "solidity": 0.2
             }
            },
            "type": "barpolar"
           }
          ],
          "carpet": [
           {
            "aaxis": {
             "endlinecolor": "#2a3f5f",
             "gridcolor": "white",
             "linecolor": "white",
             "minorgridcolor": "white",
             "startlinecolor": "#2a3f5f"
            },
            "baxis": {
             "endlinecolor": "#2a3f5f",
             "gridcolor": "white",
             "linecolor": "white",
             "minorgridcolor": "white",
             "startlinecolor": "#2a3f5f"
            },
            "type": "carpet"
           }
          ],
          "choropleth": [
           {
            "colorbar": {
             "outlinewidth": 0,
             "ticks": ""
            },
            "type": "choropleth"
           }
          ],
          "contour": [
           {
            "colorbar": {
             "outlinewidth": 0,
             "ticks": ""
            },
            "colorscale": [
             [
              0,
              "#0d0887"
             ],
             [
              0.1111111111111111,
              "#46039f"
             ],
             [
              0.2222222222222222,
              "#7201a8"
             ],
             [
              0.3333333333333333,
              "#9c179e"
             ],
             [
              0.4444444444444444,
              "#bd3786"
             ],
             [
              0.5555555555555556,
              "#d8576b"
             ],
             [
              0.6666666666666666,
              "#ed7953"
             ],
             [
              0.7777777777777778,
              "#fb9f3a"
             ],
             [
              0.8888888888888888,
              "#fdca26"
             ],
             [
              1,
              "#f0f921"
             ]
            ],
            "type": "contour"
           }
          ],
          "contourcarpet": [
           {
            "colorbar": {
             "outlinewidth": 0,
             "ticks": ""
            },
            "type": "contourcarpet"
           }
          ],
          "heatmap": [
           {
            "colorbar": {
             "outlinewidth": 0,
             "ticks": ""
            },
            "colorscale": [
             [
              0,
              "#0d0887"
             ],
             [
              0.1111111111111111,
              "#46039f"
             ],
             [
              0.2222222222222222,
              "#7201a8"
             ],
             [
              0.3333333333333333,
              "#9c179e"
             ],
             [
              0.4444444444444444,
              "#bd3786"
             ],
             [
              0.5555555555555556,
              "#d8576b"
             ],
             [
              0.6666666666666666,
              "#ed7953"
             ],
             [
              0.7777777777777778,
              "#fb9f3a"
             ],
             [
              0.8888888888888888,
              "#fdca26"
             ],
             [
              1,
              "#f0f921"
             ]
            ],
            "type": "heatmap"
           }
          ],
          "heatmapgl": [
           {
            "colorbar": {
             "outlinewidth": 0,
             "ticks": ""
            },
            "colorscale": [
             [
              0,
              "#0d0887"
             ],
             [
              0.1111111111111111,
              "#46039f"
             ],
             [
              0.2222222222222222,
              "#7201a8"
             ],
             [
              0.3333333333333333,
              "#9c179e"
             ],
             [
              0.4444444444444444,
              "#bd3786"
             ],
             [
              0.5555555555555556,
              "#d8576b"
             ],
             [
              0.6666666666666666,
              "#ed7953"
             ],
             [
              0.7777777777777778,
              "#fb9f3a"
             ],
             [
              0.8888888888888888,
              "#fdca26"
             ],
             [
              1,
              "#f0f921"
             ]
            ],
            "type": "heatmapgl"
           }
          ],
          "histogram": [
           {
            "marker": {
             "pattern": {
              "fillmode": "overlay",
              "size": 10,
              "solidity": 0.2
             }
            },
            "type": "histogram"
           }
          ],
          "histogram2d": [
           {
            "colorbar": {
             "outlinewidth": 0,
             "ticks": ""
            },
            "colorscale": [
             [
              0,
              "#0d0887"
             ],
             [
              0.1111111111111111,
              "#46039f"
             ],
             [
              0.2222222222222222,
              "#7201a8"
             ],
             [
              0.3333333333333333,
              "#9c179e"
             ],
             [
              0.4444444444444444,
              "#bd3786"
             ],
             [
              0.5555555555555556,
              "#d8576b"
             ],
             [
              0.6666666666666666,
              "#ed7953"
             ],
             [
              0.7777777777777778,
              "#fb9f3a"
             ],
             [
              0.8888888888888888,
              "#fdca26"
             ],
             [
              1,
              "#f0f921"
             ]
            ],
            "type": "histogram2d"
           }
          ],
          "histogram2dcontour": [
           {
            "colorbar": {
             "outlinewidth": 0,
             "ticks": ""
            },
            "colorscale": [
             [
              0,
              "#0d0887"
             ],
             [
              0.1111111111111111,
              "#46039f"
             ],
             [
              0.2222222222222222,
              "#7201a8"
             ],
             [
              0.3333333333333333,
              "#9c179e"
             ],
             [
              0.4444444444444444,
              "#bd3786"
             ],
             [
              0.5555555555555556,
              "#d8576b"
             ],
             [
              0.6666666666666666,
              "#ed7953"
             ],
             [
              0.7777777777777778,
              "#fb9f3a"
             ],
             [
              0.8888888888888888,
              "#fdca26"
             ],
             [
              1,
              "#f0f921"
             ]
            ],
            "type": "histogram2dcontour"
           }
          ],
          "mesh3d": [
           {
            "colorbar": {
             "outlinewidth": 0,
             "ticks": ""
            },
            "type": "mesh3d"
           }
          ],
          "parcoords": [
           {
            "line": {
             "colorbar": {
              "outlinewidth": 0,
              "ticks": ""
             }
            },
            "type": "parcoords"
           }
          ],
          "pie": [
           {
            "automargin": true,
            "type": "pie"
           }
          ],
          "scatter": [
           {
            "fillpattern": {
             "fillmode": "overlay",
             "size": 10,
             "solidity": 0.2
            },
            "type": "scatter"
           }
          ],
          "scatter3d": [
           {
            "line": {
             "colorbar": {
              "outlinewidth": 0,
              "ticks": ""
             }
            },
            "marker": {
             "colorbar": {
              "outlinewidth": 0,
              "ticks": ""
             }
            },
            "type": "scatter3d"
           }
          ],
          "scattercarpet": [
           {
            "marker": {
             "colorbar": {
              "outlinewidth": 0,
              "ticks": ""
             }
            },
            "type": "scattercarpet"
           }
          ],
          "scattergeo": [
           {
            "marker": {
             "colorbar": {
              "outlinewidth": 0,
              "ticks": ""
             }
            },
            "type": "scattergeo"
           }
          ],
          "scattergl": [
           {
            "marker": {
             "colorbar": {
              "outlinewidth": 0,
              "ticks": ""
             }
            },
            "type": "scattergl"
           }
          ],
          "scattermapbox": [
           {
            "marker": {
             "colorbar": {
              "outlinewidth": 0,
              "ticks": ""
             }
            },
            "type": "scattermapbox"
           }
          ],
          "scatterpolar": [
           {
            "marker": {
             "colorbar": {
              "outlinewidth": 0,
              "ticks": ""
             }
            },
            "type": "scatterpolar"
           }
          ],
          "scatterpolargl": [
           {
            "marker": {
             "colorbar": {
              "outlinewidth": 0,
              "ticks": ""
             }
            },
            "type": "scatterpolargl"
           }
          ],
          "scatterternary": [
           {
            "marker": {
             "colorbar": {
              "outlinewidth": 0,
              "ticks": ""
             }
            },
            "type": "scatterternary"
           }
          ],
          "surface": [
           {
            "colorbar": {
             "outlinewidth": 0,
             "ticks": ""
            },
            "colorscale": [
             [
              0,
              "#0d0887"
             ],
             [
              0.1111111111111111,
              "#46039f"
             ],
             [
              0.2222222222222222,
              "#7201a8"
             ],
             [
              0.3333333333333333,
              "#9c179e"
             ],
             [
              0.4444444444444444,
              "#bd3786"
             ],
             [
              0.5555555555555556,
              "#d8576b"
             ],
             [
              0.6666666666666666,
              "#ed7953"
             ],
             [
              0.7777777777777778,
              "#fb9f3a"
             ],
             [
              0.8888888888888888,
              "#fdca26"
             ],
             [
              1,
              "#f0f921"
             ]
            ],
            "type": "surface"
           }
          ],
          "table": [
           {
            "cells": {
             "fill": {
              "color": "#EBF0F8"
             },
             "line": {
              "color": "white"
             }
            },
            "header": {
             "fill": {
              "color": "#C8D4E3"
             },
             "line": {
              "color": "white"
             }
            },
            "type": "table"
           }
          ]
         },
         "layout": {
          "annotationdefaults": {
           "arrowcolor": "#2a3f5f",
           "arrowhead": 0,
           "arrowwidth": 1
          },
          "autotypenumbers": "strict",
          "coloraxis": {
           "colorbar": {
            "outlinewidth": 0,
            "ticks": ""
           }
          },
          "colorscale": {
           "diverging": [
            [
             0,
             "#8e0152"
            ],
            [
             0.1,
             "#c51b7d"
            ],
            [
             0.2,
             "#de77ae"
            ],
            [
             0.3,
             "#f1b6da"
            ],
            [
             0.4,
             "#fde0ef"
            ],
            [
             0.5,
             "#f7f7f7"
            ],
            [
             0.6,
             "#e6f5d0"
            ],
            [
             0.7,
             "#b8e186"
            ],
            [
             0.8,
             "#7fbc41"
            ],
            [
             0.9,
             "#4d9221"
            ],
            [
             1,
             "#276419"
            ]
           ],
           "sequential": [
            [
             0,
             "#0d0887"
            ],
            [
             0.1111111111111111,
             "#46039f"
            ],
            [
             0.2222222222222222,
             "#7201a8"
            ],
            [
             0.3333333333333333,
             "#9c179e"
            ],
            [
             0.4444444444444444,
             "#bd3786"
            ],
            [
             0.5555555555555556,
             "#d8576b"
            ],
            [
             0.6666666666666666,
             "#ed7953"
            ],
            [
             0.7777777777777778,
             "#fb9f3a"
            ],
            [
             0.8888888888888888,
             "#fdca26"
            ],
            [
             1,
             "#f0f921"
            ]
           ],
           "sequentialminus": [
            [
             0,
             "#0d0887"
            ],
            [
             0.1111111111111111,
             "#46039f"
            ],
            [
             0.2222222222222222,
             "#7201a8"
            ],
            [
             0.3333333333333333,
             "#9c179e"
            ],
            [
             0.4444444444444444,
             "#bd3786"
            ],
            [
             0.5555555555555556,
             "#d8576b"
            ],
            [
             0.6666666666666666,
             "#ed7953"
            ],
            [
             0.7777777777777778,
             "#fb9f3a"
            ],
            [
             0.8888888888888888,
             "#fdca26"
            ],
            [
             1,
             "#f0f921"
            ]
           ]
          },
          "colorway": [
           "#636efa",
           "#EF553B",
           "#00cc96",
           "#ab63fa",
           "#FFA15A",
           "#19d3f3",
           "#FF6692",
           "#B6E880",
           "#FF97FF",
           "#FECB52"
          ],
          "font": {
           "color": "#2a3f5f"
          },
          "geo": {
           "bgcolor": "white",
           "lakecolor": "white",
           "landcolor": "#E5ECF6",
           "showlakes": true,
           "showland": true,
           "subunitcolor": "white"
          },
          "hoverlabel": {
           "align": "left"
          },
          "hovermode": "closest",
          "mapbox": {
           "style": "light"
          },
          "paper_bgcolor": "white",
          "plot_bgcolor": "#E5ECF6",
          "polar": {
           "angularaxis": {
            "gridcolor": "white",
            "linecolor": "white",
            "ticks": ""
           },
           "bgcolor": "#E5ECF6",
           "radialaxis": {
            "gridcolor": "white",
            "linecolor": "white",
            "ticks": ""
           }
          },
          "scene": {
           "xaxis": {
            "backgroundcolor": "#E5ECF6",
            "gridcolor": "white",
            "gridwidth": 2,
            "linecolor": "white",
            "showbackground": true,
            "ticks": "",
            "zerolinecolor": "white"
           },
           "yaxis": {
            "backgroundcolor": "#E5ECF6",
            "gridcolor": "white",
            "gridwidth": 2,
            "linecolor": "white",
            "showbackground": true,
            "ticks": "",
            "zerolinecolor": "white"
           },
           "zaxis": {
            "backgroundcolor": "#E5ECF6",
            "gridcolor": "white",
            "gridwidth": 2,
            "linecolor": "white",
            "showbackground": true,
            "ticks": "",
            "zerolinecolor": "white"
           }
          },
          "shapedefaults": {
           "line": {
            "color": "#2a3f5f"
           }
          },
          "ternary": {
           "aaxis": {
            "gridcolor": "white",
            "linecolor": "white",
            "ticks": ""
           },
           "baxis": {
            "gridcolor": "white",
            "linecolor": "white",
            "ticks": ""
           },
           "bgcolor": "#E5ECF6",
           "caxis": {
            "gridcolor": "white",
            "linecolor": "white",
            "ticks": ""
           }
          },
          "title": {
           "x": 0.05
          },
          "xaxis": {
           "automargin": true,
           "gridcolor": "white",
           "linecolor": "white",
           "ticks": "",
           "title": {
            "standoff": 15
           },
           "zerolinecolor": "white",
           "zerolinewidth": 2
          },
          "yaxis": {
           "automargin": true,
           "gridcolor": "white",
           "linecolor": "white",
           "ticks": "",
           "title": {
            "standoff": 15
           },
           "zerolinecolor": "white",
           "zerolinewidth": 2
          }
         }
        },
        "title": {
         "text": "ALEKS Progress by STAAR Performance"
        }
       }
      },
      "text/html": [
       "<div>                            <div id=\"d8f41004-fac5-4a6f-b50c-4061c25fc323\" class=\"plotly-graph-div\" style=\"height:525px; width:100%;\"></div>            <script type=\"text/javascript\">                require([\"plotly\"], function(Plotly) {                    window.PLOTLYENV=window.PLOTLYENV || {};                                    if (document.getElementById(\"d8f41004-fac5-4a6f-b50c-4061c25fc323\")) {                    Plotly.newPlot(                        \"d8f41004-fac5-4a6f-b50c-4061c25fc323\",                        [{\"customdata\":[[\"Fails\"],[\"Approaches\"],[\"Meets\"],[\"Masters\"]],\"domain\":{\"x\":[0.0,1.0],\"y\":[0.0,1.0]},\"hovertemplate\":\"STAAR Performance=%{customdata[0]}<br>Progress=%{value}<extra></extra>\",\"labels\":[\"Fails\",\"Approaches\",\"Meets\",\"Masters\"],\"legendgroup\":\"\",\"marker\":{\"colors\":[\"#636efa\",\"#EF553B\",\"#00cc96\",\"#ab63fa\"]},\"name\":\"\",\"showlegend\":true,\"values\":[0.2469925574992667,0.31915002454868857,0.5188702549667097,0.7077525989477303],\"type\":\"pie\",\"textinfo\":\"percent+label\",\"textposition\":\"inside\"}],                        {\"template\":{\"data\":{\"histogram2dcontour\":[{\"type\":\"histogram2dcontour\",\"colorbar\":{\"outlinewidth\":0,\"ticks\":\"\"},\"colorscale\":[[0.0,\"#0d0887\"],[0.1111111111111111,\"#46039f\"],[0.2222222222222222,\"#7201a8\"],[0.3333333333333333,\"#9c179e\"],[0.4444444444444444,\"#bd3786\"],[0.5555555555555556,\"#d8576b\"],[0.6666666666666666,\"#ed7953\"],[0.7777777777777778,\"#fb9f3a\"],[0.8888888888888888,\"#fdca26\"],[1.0,\"#f0f921\"]]}],\"choropleth\":[{\"type\":\"choropleth\",\"colorbar\":{\"outlinewidth\":0,\"ticks\":\"\"}}],\"histogram2d\":[{\"type\":\"histogram2d\",\"colorbar\":{\"outlinewidth\":0,\"ticks\":\"\"},\"colorscale\":[[0.0,\"#0d0887\"],[0.1111111111111111,\"#46039f\"],[0.2222222222222222,\"#7201a8\"],[0.3333333333333333,\"#9c179e\"],[0.4444444444444444,\"#bd3786\"],[0.5555555555555556,\"#d8576b\"],[0.6666666666666666,\"#ed7953\"],[0.7777777777777778,\"#fb9f3a\"],[0.8888888888888888,\"#fdca26\"],[1.0,\"#f0f921\"]]}],\"heatmap\":[{\"type\":\"heatmap\",\"colorbar\":{\"outlinewidth\":0,\"ticks\":\"\"},\"colorscale\":[[0.0,\"#0d0887\"],[0.1111111111111111,\"#46039f\"],[0.2222222222222222,\"#7201a8\"],[0.3333333333333333,\"#9c179e\"],[0.4444444444444444,\"#bd3786\"],[0.5555555555555556,\"#d8576b\"],[0.6666666666666666,\"#ed7953\"],[0.7777777777777778,\"#fb9f3a\"],[0.8888888888888888,\"#fdca26\"],[1.0,\"#f0f921\"]]}],\"heatmapgl\":[{\"type\":\"heatmapgl\",\"colorbar\":{\"outlinewidth\":0,\"ticks\":\"\"},\"colorscale\":[[0.0,\"#0d0887\"],[0.1111111111111111,\"#46039f\"],[0.2222222222222222,\"#7201a8\"],[0.3333333333333333,\"#9c179e\"],[0.4444444444444444,\"#bd3786\"],[0.5555555555555556,\"#d8576b\"],[0.6666666666666666,\"#ed7953\"],[0.7777777777777778,\"#fb9f3a\"],[0.8888888888888888,\"#fdca26\"],[1.0,\"#f0f921\"]]}],\"contourcarpet\":[{\"type\":\"contourcarpet\",\"colorbar\":{\"outlinewidth\":0,\"ticks\":\"\"}}],\"contour\":[{\"type\":\"contour\",\"colorbar\":{\"outlinewidth\":0,\"ticks\":\"\"},\"colorscale\":[[0.0,\"#0d0887\"],[0.1111111111111111,\"#46039f\"],[0.2222222222222222,\"#7201a8\"],[0.3333333333333333,\"#9c179e\"],[0.4444444444444444,\"#bd3786\"],[0.5555555555555556,\"#d8576b\"],[0.6666666666666666,\"#ed7953\"],[0.7777777777777778,\"#fb9f3a\"],[0.8888888888888888,\"#fdca26\"],[1.0,\"#f0f921\"]]}],\"surface\":[{\"type\":\"surface\",\"colorbar\":{\"outlinewidth\":0,\"ticks\":\"\"},\"colorscale\":[[0.0,\"#0d0887\"],[0.1111111111111111,\"#46039f\"],[0.2222222222222222,\"#7201a8\"],[0.3333333333333333,\"#9c179e\"],[0.4444444444444444,\"#bd3786\"],[0.5555555555555556,\"#d8576b\"],[0.6666666666666666,\"#ed7953\"],[0.7777777777777778,\"#fb9f3a\"],[0.8888888888888888,\"#fdca26\"],[1.0,\"#f0f921\"]]}],\"mesh3d\":[{\"type\":\"mesh3d\",\"colorbar\":{\"outlinewidth\":0,\"ticks\":\"\"}}],\"scatter\":[{\"fillpattern\":{\"fillmode\":\"overlay\",\"size\":10,\"solidity\":0.2},\"type\":\"scatter\"}],\"parcoords\":[{\"type\":\"parcoords\",\"line\":{\"colorbar\":{\"outlinewidth\":0,\"ticks\":\"\"}}}],\"scatterpolargl\":[{\"type\":\"scatterpolargl\",\"marker\":{\"colorbar\":{\"outlinewidth\":0,\"ticks\":\"\"}}}],\"bar\":[{\"error_x\":{\"color\":\"#2a3f5f\"},\"error_y\":{\"color\":\"#2a3f5f\"},\"marker\":{\"line\":{\"color\":\"#E5ECF6\",\"width\":0.5},\"pattern\":{\"fillmode\":\"overlay\",\"size\":10,\"solidity\":0.2}},\"type\":\"bar\"}],\"scattergeo\":[{\"type\":\"scattergeo\",\"marker\":{\"colorbar\":{\"outlinewidth\":0,\"ticks\":\"\"}}}],\"scatterpolar\":[{\"type\":\"scatterpolar\",\"marker\":{\"colorbar\":{\"outlinewidth\":0,\"ticks\":\"\"}}}],\"histogram\":[{\"marker\":{\"pattern\":{\"fillmode\":\"overlay\",\"size\":10,\"solidity\":0.2}},\"type\":\"histogram\"}],\"scattergl\":[{\"type\":\"scattergl\",\"marker\":{\"colorbar\":{\"outlinewidth\":0,\"ticks\":\"\"}}}],\"scatter3d\":[{\"type\":\"scatter3d\",\"line\":{\"colorbar\":{\"outlinewidth\":0,\"ticks\":\"\"}},\"marker\":{\"colorbar\":{\"outlinewidth\":0,\"ticks\":\"\"}}}],\"scattermapbox\":[{\"type\":\"scattermapbox\",\"marker\":{\"colorbar\":{\"outlinewidth\":0,\"ticks\":\"\"}}}],\"scatterternary\":[{\"type\":\"scatterternary\",\"marker\":{\"colorbar\":{\"outlinewidth\":0,\"ticks\":\"\"}}}],\"scattercarpet\":[{\"type\":\"scattercarpet\",\"marker\":{\"colorbar\":{\"outlinewidth\":0,\"ticks\":\"\"}}}],\"carpet\":[{\"aaxis\":{\"endlinecolor\":\"#2a3f5f\",\"gridcolor\":\"white\",\"linecolor\":\"white\",\"minorgridcolor\":\"white\",\"startlinecolor\":\"#2a3f5f\"},\"baxis\":{\"endlinecolor\":\"#2a3f5f\",\"gridcolor\":\"white\",\"linecolor\":\"white\",\"minorgridcolor\":\"white\",\"startlinecolor\":\"#2a3f5f\"},\"type\":\"carpet\"}],\"table\":[{\"cells\":{\"fill\":{\"color\":\"#EBF0F8\"},\"line\":{\"color\":\"white\"}},\"header\":{\"fill\":{\"color\":\"#C8D4E3\"},\"line\":{\"color\":\"white\"}},\"type\":\"table\"}],\"barpolar\":[{\"marker\":{\"line\":{\"color\":\"#E5ECF6\",\"width\":0.5},\"pattern\":{\"fillmode\":\"overlay\",\"size\":10,\"solidity\":0.2}},\"type\":\"barpolar\"}],\"pie\":[{\"automargin\":true,\"type\":\"pie\"}]},\"layout\":{\"autotypenumbers\":\"strict\",\"colorway\":[\"#636efa\",\"#EF553B\",\"#00cc96\",\"#ab63fa\",\"#FFA15A\",\"#19d3f3\",\"#FF6692\",\"#B6E880\",\"#FF97FF\",\"#FECB52\"],\"font\":{\"color\":\"#2a3f5f\"},\"hovermode\":\"closest\",\"hoverlabel\":{\"align\":\"left\"},\"paper_bgcolor\":\"white\",\"plot_bgcolor\":\"#E5ECF6\",\"polar\":{\"bgcolor\":\"#E5ECF6\",\"angularaxis\":{\"gridcolor\":\"white\",\"linecolor\":\"white\",\"ticks\":\"\"},\"radialaxis\":{\"gridcolor\":\"white\",\"linecolor\":\"white\",\"ticks\":\"\"}},\"ternary\":{\"bgcolor\":\"#E5ECF6\",\"aaxis\":{\"gridcolor\":\"white\",\"linecolor\":\"white\",\"ticks\":\"\"},\"baxis\":{\"gridcolor\":\"white\",\"linecolor\":\"white\",\"ticks\":\"\"},\"caxis\":{\"gridcolor\":\"white\",\"linecolor\":\"white\",\"ticks\":\"\"}},\"coloraxis\":{\"colorbar\":{\"outlinewidth\":0,\"ticks\":\"\"}},\"colorscale\":{\"sequential\":[[0.0,\"#0d0887\"],[0.1111111111111111,\"#46039f\"],[0.2222222222222222,\"#7201a8\"],[0.3333333333333333,\"#9c179e\"],[0.4444444444444444,\"#bd3786\"],[0.5555555555555556,\"#d8576b\"],[0.6666666666666666,\"#ed7953\"],[0.7777777777777778,\"#fb9f3a\"],[0.8888888888888888,\"#fdca26\"],[1.0,\"#f0f921\"]],\"sequentialminus\":[[0.0,\"#0d0887\"],[0.1111111111111111,\"#46039f\"],[0.2222222222222222,\"#7201a8\"],[0.3333333333333333,\"#9c179e\"],[0.4444444444444444,\"#bd3786\"],[0.5555555555555556,\"#d8576b\"],[0.6666666666666666,\"#ed7953\"],[0.7777777777777778,\"#fb9f3a\"],[0.8888888888888888,\"#fdca26\"],[1.0,\"#f0f921\"]],\"diverging\":[[0,\"#8e0152\"],[0.1,\"#c51b7d\"],[0.2,\"#de77ae\"],[0.3,\"#f1b6da\"],[0.4,\"#fde0ef\"],[0.5,\"#f7f7f7\"],[0.6,\"#e6f5d0\"],[0.7,\"#b8e186\"],[0.8,\"#7fbc41\"],[0.9,\"#4d9221\"],[1,\"#276419\"]]},\"xaxis\":{\"gridcolor\":\"white\",\"linecolor\":\"white\",\"ticks\":\"\",\"title\":{\"standoff\":15},\"zerolinecolor\":\"white\",\"automargin\":true,\"zerolinewidth\":2},\"yaxis\":{\"gridcolor\":\"white\",\"linecolor\":\"white\",\"ticks\":\"\",\"title\":{\"standoff\":15},\"zerolinecolor\":\"white\",\"automargin\":true,\"zerolinewidth\":2},\"scene\":{\"xaxis\":{\"backgroundcolor\":\"#E5ECF6\",\"gridcolor\":\"white\",\"linecolor\":\"white\",\"showbackground\":true,\"ticks\":\"\",\"zerolinecolor\":\"white\",\"gridwidth\":2},\"yaxis\":{\"backgroundcolor\":\"#E5ECF6\",\"gridcolor\":\"white\",\"linecolor\":\"white\",\"showbackground\":true,\"ticks\":\"\",\"zerolinecolor\":\"white\",\"gridwidth\":2},\"zaxis\":{\"backgroundcolor\":\"#E5ECF6\",\"gridcolor\":\"white\",\"linecolor\":\"white\",\"showbackground\":true,\"ticks\":\"\",\"zerolinecolor\":\"white\",\"gridwidth\":2}},\"shapedefaults\":{\"line\":{\"color\":\"#2a3f5f\"}},\"annotationdefaults\":{\"arrowcolor\":\"#2a3f5f\",\"arrowhead\":0,\"arrowwidth\":1},\"geo\":{\"bgcolor\":\"white\",\"landcolor\":\"#E5ECF6\",\"subunitcolor\":\"white\",\"showland\":true,\"showlakes\":true,\"lakecolor\":\"white\"},\"title\":{\"x\":0.05},\"mapbox\":{\"style\":\"light\"}}},\"legend\":{\"tracegroupgap\":0},\"title\":{\"text\":\"ALEKS Progress by STAAR Performance\"}},                        {\"responsive\": true}                    ).then(function(){\n",
       "                            \n",
       "var gd = document.getElementById('d8f41004-fac5-4a6f-b50c-4061c25fc323');\n",
       "var x = new MutationObserver(function (mutations, observer) {{\n",
       "        var display = window.getComputedStyle(gd).display;\n",
       "        if (!display || display === 'none') {{\n",
       "            console.log([gd, 'removed!']);\n",
       "            Plotly.purge(gd);\n",
       "            observer.disconnect();\n",
       "        }}\n",
       "}});\n",
       "\n",
       "// Listen for the removal of the full notebook cells\n",
       "var notebookContainer = gd.closest('#notebook-container');\n",
       "if (notebookContainer) {{\n",
       "    x.observe(notebookContainer, {childList: true});\n",
       "}}\n",
       "\n",
       "// Listen for the clearing of the current output cell\n",
       "var outputEl = gd.closest('.output');\n",
       "if (outputEl) {{\n",
       "    x.observe(outputEl, {childList: true});\n",
       "}}\n",
       "\n",
       "                        })                };                });            </script>        </div>"
      ]
     },
     "metadata": {},
     "output_type": "display_data"
    }
   ],
   "source": [
    "fig2 = px.pie(df_new, values='Progress', names='STAAR Performance', \n",
    "              color='STAAR Performance', title='ALEKS Progress by STAAR Performance')\n",
    "\n",
    "fig2.update_traces(textposition='inside', textinfo='percent+label')\n",
    "fig2.show()"
   ]
  },
  {
   "cell_type": "markdown",
   "id": "b00b67aa",
   "metadata": {},
   "source": [
    "This is really alligned with the above chart. Students who show less progress on ALEKS perform lower on STAAR test."
   ]
  },
  {
   "cell_type": "markdown",
   "id": "6c8e2dec",
   "metadata": {},
   "source": [
    "## Total Time Spent by STAAR Performance"
   ]
  },
  {
   "cell_type": "code",
   "execution_count": 80,
   "id": "e8d4feca",
   "metadata": {},
   "outputs": [
    {
     "data": {
      "application/vnd.plotly.v1+json": {
       "config": {
        "plotlyServerURL": "https://plot.ly"
       },
       "data": [
        {
         "customdata": [
          [
           "Fails"
          ],
          [
           "Approaches"
          ],
          [
           "Meets"
          ],
          [
           "Masters"
          ]
         ],
         "domain": {
          "x": [
           0,
           1
          ],
          "y": [
           0,
           1
          ]
         },
         "hovertemplate": "STAAR Performance=%{customdata[0]}<br>Total Time Spent=%{value}<extra></extra>",
         "labels": [
          "Fails",
          "Approaches",
          "Meets",
          "Masters"
         ],
         "legendgroup": "",
         "marker": {
          "colors": [
           "#636efa",
           "#EF553B",
           "#00cc96",
           "#ab63fa"
          ]
         },
         "name": "",
         "showlegend": true,
         "textinfo": "percent+label",
         "textposition": "inside",
         "type": "pie",
         "values": [
          1726.6268955650933,
          1984.7489391235376,
          1943.1409657947686,
          1828.7383925430884
         ]
        }
       ],
       "layout": {
        "legend": {
         "tracegroupgap": 0
        },
        "template": {
         "data": {
          "bar": [
           {
            "error_x": {
             "color": "#2a3f5f"
            },
            "error_y": {
             "color": "#2a3f5f"
            },
            "marker": {
             "line": {
              "color": "#E5ECF6",
              "width": 0.5
             },
             "pattern": {
              "fillmode": "overlay",
              "size": 10,
              "solidity": 0.2
             }
            },
            "type": "bar"
           }
          ],
          "barpolar": [
           {
            "marker": {
             "line": {
              "color": "#E5ECF6",
              "width": 0.5
             },
             "pattern": {
              "fillmode": "overlay",
              "size": 10,
              "solidity": 0.2
             }
            },
            "type": "barpolar"
           }
          ],
          "carpet": [
           {
            "aaxis": {
             "endlinecolor": "#2a3f5f",
             "gridcolor": "white",
             "linecolor": "white",
             "minorgridcolor": "white",
             "startlinecolor": "#2a3f5f"
            },
            "baxis": {
             "endlinecolor": "#2a3f5f",
             "gridcolor": "white",
             "linecolor": "white",
             "minorgridcolor": "white",
             "startlinecolor": "#2a3f5f"
            },
            "type": "carpet"
           }
          ],
          "choropleth": [
           {
            "colorbar": {
             "outlinewidth": 0,
             "ticks": ""
            },
            "type": "choropleth"
           }
          ],
          "contour": [
           {
            "colorbar": {
             "outlinewidth": 0,
             "ticks": ""
            },
            "colorscale": [
             [
              0,
              "#0d0887"
             ],
             [
              0.1111111111111111,
              "#46039f"
             ],
             [
              0.2222222222222222,
              "#7201a8"
             ],
             [
              0.3333333333333333,
              "#9c179e"
             ],
             [
              0.4444444444444444,
              "#bd3786"
             ],
             [
              0.5555555555555556,
              "#d8576b"
             ],
             [
              0.6666666666666666,
              "#ed7953"
             ],
             [
              0.7777777777777778,
              "#fb9f3a"
             ],
             [
              0.8888888888888888,
              "#fdca26"
             ],
             [
              1,
              "#f0f921"
             ]
            ],
            "type": "contour"
           }
          ],
          "contourcarpet": [
           {
            "colorbar": {
             "outlinewidth": 0,
             "ticks": ""
            },
            "type": "contourcarpet"
           }
          ],
          "heatmap": [
           {
            "colorbar": {
             "outlinewidth": 0,
             "ticks": ""
            },
            "colorscale": [
             [
              0,
              "#0d0887"
             ],
             [
              0.1111111111111111,
              "#46039f"
             ],
             [
              0.2222222222222222,
              "#7201a8"
             ],
             [
              0.3333333333333333,
              "#9c179e"
             ],
             [
              0.4444444444444444,
              "#bd3786"
             ],
             [
              0.5555555555555556,
              "#d8576b"
             ],
             [
              0.6666666666666666,
              "#ed7953"
             ],
             [
              0.7777777777777778,
              "#fb9f3a"
             ],
             [
              0.8888888888888888,
              "#fdca26"
             ],
             [
              1,
              "#f0f921"
             ]
            ],
            "type": "heatmap"
           }
          ],
          "heatmapgl": [
           {
            "colorbar": {
             "outlinewidth": 0,
             "ticks": ""
            },
            "colorscale": [
             [
              0,
              "#0d0887"
             ],
             [
              0.1111111111111111,
              "#46039f"
             ],
             [
              0.2222222222222222,
              "#7201a8"
             ],
             [
              0.3333333333333333,
              "#9c179e"
             ],
             [
              0.4444444444444444,
              "#bd3786"
             ],
             [
              0.5555555555555556,
              "#d8576b"
             ],
             [
              0.6666666666666666,
              "#ed7953"
             ],
             [
              0.7777777777777778,
              "#fb9f3a"
             ],
             [
              0.8888888888888888,
              "#fdca26"
             ],
             [
              1,
              "#f0f921"
             ]
            ],
            "type": "heatmapgl"
           }
          ],
          "histogram": [
           {
            "marker": {
             "pattern": {
              "fillmode": "overlay",
              "size": 10,
              "solidity": 0.2
             }
            },
            "type": "histogram"
           }
          ],
          "histogram2d": [
           {
            "colorbar": {
             "outlinewidth": 0,
             "ticks": ""
            },
            "colorscale": [
             [
              0,
              "#0d0887"
             ],
             [
              0.1111111111111111,
              "#46039f"
             ],
             [
              0.2222222222222222,
              "#7201a8"
             ],
             [
              0.3333333333333333,
              "#9c179e"
             ],
             [
              0.4444444444444444,
              "#bd3786"
             ],
             [
              0.5555555555555556,
              "#d8576b"
             ],
             [
              0.6666666666666666,
              "#ed7953"
             ],
             [
              0.7777777777777778,
              "#fb9f3a"
             ],
             [
              0.8888888888888888,
              "#fdca26"
             ],
             [
              1,
              "#f0f921"
             ]
            ],
            "type": "histogram2d"
           }
          ],
          "histogram2dcontour": [
           {
            "colorbar": {
             "outlinewidth": 0,
             "ticks": ""
            },
            "colorscale": [
             [
              0,
              "#0d0887"
             ],
             [
              0.1111111111111111,
              "#46039f"
             ],
             [
              0.2222222222222222,
              "#7201a8"
             ],
             [
              0.3333333333333333,
              "#9c179e"
             ],
             [
              0.4444444444444444,
              "#bd3786"
             ],
             [
              0.5555555555555556,
              "#d8576b"
             ],
             [
              0.6666666666666666,
              "#ed7953"
             ],
             [
              0.7777777777777778,
              "#fb9f3a"
             ],
             [
              0.8888888888888888,
              "#fdca26"
             ],
             [
              1,
              "#f0f921"
             ]
            ],
            "type": "histogram2dcontour"
           }
          ],
          "mesh3d": [
           {
            "colorbar": {
             "outlinewidth": 0,
             "ticks": ""
            },
            "type": "mesh3d"
           }
          ],
          "parcoords": [
           {
            "line": {
             "colorbar": {
              "outlinewidth": 0,
              "ticks": ""
             }
            },
            "type": "parcoords"
           }
          ],
          "pie": [
           {
            "automargin": true,
            "type": "pie"
           }
          ],
          "scatter": [
           {
            "fillpattern": {
             "fillmode": "overlay",
             "size": 10,
             "solidity": 0.2
            },
            "type": "scatter"
           }
          ],
          "scatter3d": [
           {
            "line": {
             "colorbar": {
              "outlinewidth": 0,
              "ticks": ""
             }
            },
            "marker": {
             "colorbar": {
              "outlinewidth": 0,
              "ticks": ""
             }
            },
            "type": "scatter3d"
           }
          ],
          "scattercarpet": [
           {
            "marker": {
             "colorbar": {
              "outlinewidth": 0,
              "ticks": ""
             }
            },
            "type": "scattercarpet"
           }
          ],
          "scattergeo": [
           {
            "marker": {
             "colorbar": {
              "outlinewidth": 0,
              "ticks": ""
             }
            },
            "type": "scattergeo"
           }
          ],
          "scattergl": [
           {
            "marker": {
             "colorbar": {
              "outlinewidth": 0,
              "ticks": ""
             }
            },
            "type": "scattergl"
           }
          ],
          "scattermapbox": [
           {
            "marker": {
             "colorbar": {
              "outlinewidth": 0,
              "ticks": ""
             }
            },
            "type": "scattermapbox"
           }
          ],
          "scatterpolar": [
           {
            "marker": {
             "colorbar": {
              "outlinewidth": 0,
              "ticks": ""
             }
            },
            "type": "scatterpolar"
           }
          ],
          "scatterpolargl": [
           {
            "marker": {
             "colorbar": {
              "outlinewidth": 0,
              "ticks": ""
             }
            },
            "type": "scatterpolargl"
           }
          ],
          "scatterternary": [
           {
            "marker": {
             "colorbar": {
              "outlinewidth": 0,
              "ticks": ""
             }
            },
            "type": "scatterternary"
           }
          ],
          "surface": [
           {
            "colorbar": {
             "outlinewidth": 0,
             "ticks": ""
            },
            "colorscale": [
             [
              0,
              "#0d0887"
             ],
             [
              0.1111111111111111,
              "#46039f"
             ],
             [
              0.2222222222222222,
              "#7201a8"
             ],
             [
              0.3333333333333333,
              "#9c179e"
             ],
             [
              0.4444444444444444,
              "#bd3786"
             ],
             [
              0.5555555555555556,
              "#d8576b"
             ],
             [
              0.6666666666666666,
              "#ed7953"
             ],
             [
              0.7777777777777778,
              "#fb9f3a"
             ],
             [
              0.8888888888888888,
              "#fdca26"
             ],
             [
              1,
              "#f0f921"
             ]
            ],
            "type": "surface"
           }
          ],
          "table": [
           {
            "cells": {
             "fill": {
              "color": "#EBF0F8"
             },
             "line": {
              "color": "white"
             }
            },
            "header": {
             "fill": {
              "color": "#C8D4E3"
             },
             "line": {
              "color": "white"
             }
            },
            "type": "table"
           }
          ]
         },
         "layout": {
          "annotationdefaults": {
           "arrowcolor": "#2a3f5f",
           "arrowhead": 0,
           "arrowwidth": 1
          },
          "autotypenumbers": "strict",
          "coloraxis": {
           "colorbar": {
            "outlinewidth": 0,
            "ticks": ""
           }
          },
          "colorscale": {
           "diverging": [
            [
             0,
             "#8e0152"
            ],
            [
             0.1,
             "#c51b7d"
            ],
            [
             0.2,
             "#de77ae"
            ],
            [
             0.3,
             "#f1b6da"
            ],
            [
             0.4,
             "#fde0ef"
            ],
            [
             0.5,
             "#f7f7f7"
            ],
            [
             0.6,
             "#e6f5d0"
            ],
            [
             0.7,
             "#b8e186"
            ],
            [
             0.8,
             "#7fbc41"
            ],
            [
             0.9,
             "#4d9221"
            ],
            [
             1,
             "#276419"
            ]
           ],
           "sequential": [
            [
             0,
             "#0d0887"
            ],
            [
             0.1111111111111111,
             "#46039f"
            ],
            [
             0.2222222222222222,
             "#7201a8"
            ],
            [
             0.3333333333333333,
             "#9c179e"
            ],
            [
             0.4444444444444444,
             "#bd3786"
            ],
            [
             0.5555555555555556,
             "#d8576b"
            ],
            [
             0.6666666666666666,
             "#ed7953"
            ],
            [
             0.7777777777777778,
             "#fb9f3a"
            ],
            [
             0.8888888888888888,
             "#fdca26"
            ],
            [
             1,
             "#f0f921"
            ]
           ],
           "sequentialminus": [
            [
             0,
             "#0d0887"
            ],
            [
             0.1111111111111111,
             "#46039f"
            ],
            [
             0.2222222222222222,
             "#7201a8"
            ],
            [
             0.3333333333333333,
             "#9c179e"
            ],
            [
             0.4444444444444444,
             "#bd3786"
            ],
            [
             0.5555555555555556,
             "#d8576b"
            ],
            [
             0.6666666666666666,
             "#ed7953"
            ],
            [
             0.7777777777777778,
             "#fb9f3a"
            ],
            [
             0.8888888888888888,
             "#fdca26"
            ],
            [
             1,
             "#f0f921"
            ]
           ]
          },
          "colorway": [
           "#636efa",
           "#EF553B",
           "#00cc96",
           "#ab63fa",
           "#FFA15A",
           "#19d3f3",
           "#FF6692",
           "#B6E880",
           "#FF97FF",
           "#FECB52"
          ],
          "font": {
           "color": "#2a3f5f"
          },
          "geo": {
           "bgcolor": "white",
           "lakecolor": "white",
           "landcolor": "#E5ECF6",
           "showlakes": true,
           "showland": true,
           "subunitcolor": "white"
          },
          "hoverlabel": {
           "align": "left"
          },
          "hovermode": "closest",
          "mapbox": {
           "style": "light"
          },
          "paper_bgcolor": "white",
          "plot_bgcolor": "#E5ECF6",
          "polar": {
           "angularaxis": {
            "gridcolor": "white",
            "linecolor": "white",
            "ticks": ""
           },
           "bgcolor": "#E5ECF6",
           "radialaxis": {
            "gridcolor": "white",
            "linecolor": "white",
            "ticks": ""
           }
          },
          "scene": {
           "xaxis": {
            "backgroundcolor": "#E5ECF6",
            "gridcolor": "white",
            "gridwidth": 2,
            "linecolor": "white",
            "showbackground": true,
            "ticks": "",
            "zerolinecolor": "white"
           },
           "yaxis": {
            "backgroundcolor": "#E5ECF6",
            "gridcolor": "white",
            "gridwidth": 2,
            "linecolor": "white",
            "showbackground": true,
            "ticks": "",
            "zerolinecolor": "white"
           },
           "zaxis": {
            "backgroundcolor": "#E5ECF6",
            "gridcolor": "white",
            "gridwidth": 2,
            "linecolor": "white",
            "showbackground": true,
            "ticks": "",
            "zerolinecolor": "white"
           }
          },
          "shapedefaults": {
           "line": {
            "color": "#2a3f5f"
           }
          },
          "ternary": {
           "aaxis": {
            "gridcolor": "white",
            "linecolor": "white",
            "ticks": ""
           },
           "baxis": {
            "gridcolor": "white",
            "linecolor": "white",
            "ticks": ""
           },
           "bgcolor": "#E5ECF6",
           "caxis": {
            "gridcolor": "white",
            "linecolor": "white",
            "ticks": ""
           }
          },
          "title": {
           "x": 0.05
          },
          "xaxis": {
           "automargin": true,
           "gridcolor": "white",
           "linecolor": "white",
           "ticks": "",
           "title": {
            "standoff": 15
           },
           "zerolinecolor": "white",
           "zerolinewidth": 2
          },
          "yaxis": {
           "automargin": true,
           "gridcolor": "white",
           "linecolor": "white",
           "ticks": "",
           "title": {
            "standoff": 15
           },
           "zerolinecolor": "white",
           "zerolinewidth": 2
          }
         }
        },
        "title": {
         "text": "Total Time Spent by Performance"
        }
       }
      },
      "text/html": [
       "<div>                            <div id=\"3d31f75d-9df9-44f0-8515-1b2ee998c40a\" class=\"plotly-graph-div\" style=\"height:525px; width:100%;\"></div>            <script type=\"text/javascript\">                require([\"plotly\"], function(Plotly) {                    window.PLOTLYENV=window.PLOTLYENV || {};                                    if (document.getElementById(\"3d31f75d-9df9-44f0-8515-1b2ee998c40a\")) {                    Plotly.newPlot(                        \"3d31f75d-9df9-44f0-8515-1b2ee998c40a\",                        [{\"customdata\":[[\"Fails\"],[\"Approaches\"],[\"Meets\"],[\"Masters\"]],\"domain\":{\"x\":[0.0,1.0],\"y\":[0.0,1.0]},\"hovertemplate\":\"STAAR Performance=%{customdata[0]}<br>Total Time Spent=%{value}<extra></extra>\",\"labels\":[\"Fails\",\"Approaches\",\"Meets\",\"Masters\"],\"legendgroup\":\"\",\"marker\":{\"colors\":[\"#636efa\",\"#EF553B\",\"#00cc96\",\"#ab63fa\"]},\"name\":\"\",\"showlegend\":true,\"values\":[1726.6268955650933,1984.7489391235376,1943.1409657947686,1828.7383925430884],\"type\":\"pie\",\"textinfo\":\"percent+label\",\"textposition\":\"inside\"}],                        {\"template\":{\"data\":{\"histogram2dcontour\":[{\"type\":\"histogram2dcontour\",\"colorbar\":{\"outlinewidth\":0,\"ticks\":\"\"},\"colorscale\":[[0.0,\"#0d0887\"],[0.1111111111111111,\"#46039f\"],[0.2222222222222222,\"#7201a8\"],[0.3333333333333333,\"#9c179e\"],[0.4444444444444444,\"#bd3786\"],[0.5555555555555556,\"#d8576b\"],[0.6666666666666666,\"#ed7953\"],[0.7777777777777778,\"#fb9f3a\"],[0.8888888888888888,\"#fdca26\"],[1.0,\"#f0f921\"]]}],\"choropleth\":[{\"type\":\"choropleth\",\"colorbar\":{\"outlinewidth\":0,\"ticks\":\"\"}}],\"histogram2d\":[{\"type\":\"histogram2d\",\"colorbar\":{\"outlinewidth\":0,\"ticks\":\"\"},\"colorscale\":[[0.0,\"#0d0887\"],[0.1111111111111111,\"#46039f\"],[0.2222222222222222,\"#7201a8\"],[0.3333333333333333,\"#9c179e\"],[0.4444444444444444,\"#bd3786\"],[0.5555555555555556,\"#d8576b\"],[0.6666666666666666,\"#ed7953\"],[0.7777777777777778,\"#fb9f3a\"],[0.8888888888888888,\"#fdca26\"],[1.0,\"#f0f921\"]]}],\"heatmap\":[{\"type\":\"heatmap\",\"colorbar\":{\"outlinewidth\":0,\"ticks\":\"\"},\"colorscale\":[[0.0,\"#0d0887\"],[0.1111111111111111,\"#46039f\"],[0.2222222222222222,\"#7201a8\"],[0.3333333333333333,\"#9c179e\"],[0.4444444444444444,\"#bd3786\"],[0.5555555555555556,\"#d8576b\"],[0.6666666666666666,\"#ed7953\"],[0.7777777777777778,\"#fb9f3a\"],[0.8888888888888888,\"#fdca26\"],[1.0,\"#f0f921\"]]}],\"heatmapgl\":[{\"type\":\"heatmapgl\",\"colorbar\":{\"outlinewidth\":0,\"ticks\":\"\"},\"colorscale\":[[0.0,\"#0d0887\"],[0.1111111111111111,\"#46039f\"],[0.2222222222222222,\"#7201a8\"],[0.3333333333333333,\"#9c179e\"],[0.4444444444444444,\"#bd3786\"],[0.5555555555555556,\"#d8576b\"],[0.6666666666666666,\"#ed7953\"],[0.7777777777777778,\"#fb9f3a\"],[0.8888888888888888,\"#fdca26\"],[1.0,\"#f0f921\"]]}],\"contourcarpet\":[{\"type\":\"contourcarpet\",\"colorbar\":{\"outlinewidth\":0,\"ticks\":\"\"}}],\"contour\":[{\"type\":\"contour\",\"colorbar\":{\"outlinewidth\":0,\"ticks\":\"\"},\"colorscale\":[[0.0,\"#0d0887\"],[0.1111111111111111,\"#46039f\"],[0.2222222222222222,\"#7201a8\"],[0.3333333333333333,\"#9c179e\"],[0.4444444444444444,\"#bd3786\"],[0.5555555555555556,\"#d8576b\"],[0.6666666666666666,\"#ed7953\"],[0.7777777777777778,\"#fb9f3a\"],[0.8888888888888888,\"#fdca26\"],[1.0,\"#f0f921\"]]}],\"surface\":[{\"type\":\"surface\",\"colorbar\":{\"outlinewidth\":0,\"ticks\":\"\"},\"colorscale\":[[0.0,\"#0d0887\"],[0.1111111111111111,\"#46039f\"],[0.2222222222222222,\"#7201a8\"],[0.3333333333333333,\"#9c179e\"],[0.4444444444444444,\"#bd3786\"],[0.5555555555555556,\"#d8576b\"],[0.6666666666666666,\"#ed7953\"],[0.7777777777777778,\"#fb9f3a\"],[0.8888888888888888,\"#fdca26\"],[1.0,\"#f0f921\"]]}],\"mesh3d\":[{\"type\":\"mesh3d\",\"colorbar\":{\"outlinewidth\":0,\"ticks\":\"\"}}],\"scatter\":[{\"fillpattern\":{\"fillmode\":\"overlay\",\"size\":10,\"solidity\":0.2},\"type\":\"scatter\"}],\"parcoords\":[{\"type\":\"parcoords\",\"line\":{\"colorbar\":{\"outlinewidth\":0,\"ticks\":\"\"}}}],\"scatterpolargl\":[{\"type\":\"scatterpolargl\",\"marker\":{\"colorbar\":{\"outlinewidth\":0,\"ticks\":\"\"}}}],\"bar\":[{\"error_x\":{\"color\":\"#2a3f5f\"},\"error_y\":{\"color\":\"#2a3f5f\"},\"marker\":{\"line\":{\"color\":\"#E5ECF6\",\"width\":0.5},\"pattern\":{\"fillmode\":\"overlay\",\"size\":10,\"solidity\":0.2}},\"type\":\"bar\"}],\"scattergeo\":[{\"type\":\"scattergeo\",\"marker\":{\"colorbar\":{\"outlinewidth\":0,\"ticks\":\"\"}}}],\"scatterpolar\":[{\"type\":\"scatterpolar\",\"marker\":{\"colorbar\":{\"outlinewidth\":0,\"ticks\":\"\"}}}],\"histogram\":[{\"marker\":{\"pattern\":{\"fillmode\":\"overlay\",\"size\":10,\"solidity\":0.2}},\"type\":\"histogram\"}],\"scattergl\":[{\"type\":\"scattergl\",\"marker\":{\"colorbar\":{\"outlinewidth\":0,\"ticks\":\"\"}}}],\"scatter3d\":[{\"type\":\"scatter3d\",\"line\":{\"colorbar\":{\"outlinewidth\":0,\"ticks\":\"\"}},\"marker\":{\"colorbar\":{\"outlinewidth\":0,\"ticks\":\"\"}}}],\"scattermapbox\":[{\"type\":\"scattermapbox\",\"marker\":{\"colorbar\":{\"outlinewidth\":0,\"ticks\":\"\"}}}],\"scatterternary\":[{\"type\":\"scatterternary\",\"marker\":{\"colorbar\":{\"outlinewidth\":0,\"ticks\":\"\"}}}],\"scattercarpet\":[{\"type\":\"scattercarpet\",\"marker\":{\"colorbar\":{\"outlinewidth\":0,\"ticks\":\"\"}}}],\"carpet\":[{\"aaxis\":{\"endlinecolor\":\"#2a3f5f\",\"gridcolor\":\"white\",\"linecolor\":\"white\",\"minorgridcolor\":\"white\",\"startlinecolor\":\"#2a3f5f\"},\"baxis\":{\"endlinecolor\":\"#2a3f5f\",\"gridcolor\":\"white\",\"linecolor\":\"white\",\"minorgridcolor\":\"white\",\"startlinecolor\":\"#2a3f5f\"},\"type\":\"carpet\"}],\"table\":[{\"cells\":{\"fill\":{\"color\":\"#EBF0F8\"},\"line\":{\"color\":\"white\"}},\"header\":{\"fill\":{\"color\":\"#C8D4E3\"},\"line\":{\"color\":\"white\"}},\"type\":\"table\"}],\"barpolar\":[{\"marker\":{\"line\":{\"color\":\"#E5ECF6\",\"width\":0.5},\"pattern\":{\"fillmode\":\"overlay\",\"size\":10,\"solidity\":0.2}},\"type\":\"barpolar\"}],\"pie\":[{\"automargin\":true,\"type\":\"pie\"}]},\"layout\":{\"autotypenumbers\":\"strict\",\"colorway\":[\"#636efa\",\"#EF553B\",\"#00cc96\",\"#ab63fa\",\"#FFA15A\",\"#19d3f3\",\"#FF6692\",\"#B6E880\",\"#FF97FF\",\"#FECB52\"],\"font\":{\"color\":\"#2a3f5f\"},\"hovermode\":\"closest\",\"hoverlabel\":{\"align\":\"left\"},\"paper_bgcolor\":\"white\",\"plot_bgcolor\":\"#E5ECF6\",\"polar\":{\"bgcolor\":\"#E5ECF6\",\"angularaxis\":{\"gridcolor\":\"white\",\"linecolor\":\"white\",\"ticks\":\"\"},\"radialaxis\":{\"gridcolor\":\"white\",\"linecolor\":\"white\",\"ticks\":\"\"}},\"ternary\":{\"bgcolor\":\"#E5ECF6\",\"aaxis\":{\"gridcolor\":\"white\",\"linecolor\":\"white\",\"ticks\":\"\"},\"baxis\":{\"gridcolor\":\"white\",\"linecolor\":\"white\",\"ticks\":\"\"},\"caxis\":{\"gridcolor\":\"white\",\"linecolor\":\"white\",\"ticks\":\"\"}},\"coloraxis\":{\"colorbar\":{\"outlinewidth\":0,\"ticks\":\"\"}},\"colorscale\":{\"sequential\":[[0.0,\"#0d0887\"],[0.1111111111111111,\"#46039f\"],[0.2222222222222222,\"#7201a8\"],[0.3333333333333333,\"#9c179e\"],[0.4444444444444444,\"#bd3786\"],[0.5555555555555556,\"#d8576b\"],[0.6666666666666666,\"#ed7953\"],[0.7777777777777778,\"#fb9f3a\"],[0.8888888888888888,\"#fdca26\"],[1.0,\"#f0f921\"]],\"sequentialminus\":[[0.0,\"#0d0887\"],[0.1111111111111111,\"#46039f\"],[0.2222222222222222,\"#7201a8\"],[0.3333333333333333,\"#9c179e\"],[0.4444444444444444,\"#bd3786\"],[0.5555555555555556,\"#d8576b\"],[0.6666666666666666,\"#ed7953\"],[0.7777777777777778,\"#fb9f3a\"],[0.8888888888888888,\"#fdca26\"],[1.0,\"#f0f921\"]],\"diverging\":[[0,\"#8e0152\"],[0.1,\"#c51b7d\"],[0.2,\"#de77ae\"],[0.3,\"#f1b6da\"],[0.4,\"#fde0ef\"],[0.5,\"#f7f7f7\"],[0.6,\"#e6f5d0\"],[0.7,\"#b8e186\"],[0.8,\"#7fbc41\"],[0.9,\"#4d9221\"],[1,\"#276419\"]]},\"xaxis\":{\"gridcolor\":\"white\",\"linecolor\":\"white\",\"ticks\":\"\",\"title\":{\"standoff\":15},\"zerolinecolor\":\"white\",\"automargin\":true,\"zerolinewidth\":2},\"yaxis\":{\"gridcolor\":\"white\",\"linecolor\":\"white\",\"ticks\":\"\",\"title\":{\"standoff\":15},\"zerolinecolor\":\"white\",\"automargin\":true,\"zerolinewidth\":2},\"scene\":{\"xaxis\":{\"backgroundcolor\":\"#E5ECF6\",\"gridcolor\":\"white\",\"linecolor\":\"white\",\"showbackground\":true,\"ticks\":\"\",\"zerolinecolor\":\"white\",\"gridwidth\":2},\"yaxis\":{\"backgroundcolor\":\"#E5ECF6\",\"gridcolor\":\"white\",\"linecolor\":\"white\",\"showbackground\":true,\"ticks\":\"\",\"zerolinecolor\":\"white\",\"gridwidth\":2},\"zaxis\":{\"backgroundcolor\":\"#E5ECF6\",\"gridcolor\":\"white\",\"linecolor\":\"white\",\"showbackground\":true,\"ticks\":\"\",\"zerolinecolor\":\"white\",\"gridwidth\":2}},\"shapedefaults\":{\"line\":{\"color\":\"#2a3f5f\"}},\"annotationdefaults\":{\"arrowcolor\":\"#2a3f5f\",\"arrowhead\":0,\"arrowwidth\":1},\"geo\":{\"bgcolor\":\"white\",\"landcolor\":\"#E5ECF6\",\"subunitcolor\":\"white\",\"showland\":true,\"showlakes\":true,\"lakecolor\":\"white\"},\"title\":{\"x\":0.05},\"mapbox\":{\"style\":\"light\"}}},\"legend\":{\"tracegroupgap\":0},\"title\":{\"text\":\"Total Time Spent by Performance\"}},                        {\"responsive\": true}                    ).then(function(){\n",
       "                            \n",
       "var gd = document.getElementById('3d31f75d-9df9-44f0-8515-1b2ee998c40a');\n",
       "var x = new MutationObserver(function (mutations, observer) {{\n",
       "        var display = window.getComputedStyle(gd).display;\n",
       "        if (!display || display === 'none') {{\n",
       "            console.log([gd, 'removed!']);\n",
       "            Plotly.purge(gd);\n",
       "            observer.disconnect();\n",
       "        }}\n",
       "}});\n",
       "\n",
       "// Listen for the removal of the full notebook cells\n",
       "var notebookContainer = gd.closest('#notebook-container');\n",
       "if (notebookContainer) {{\n",
       "    x.observe(notebookContainer, {childList: true});\n",
       "}}\n",
       "\n",
       "// Listen for the clearing of the current output cell\n",
       "var outputEl = gd.closest('.output');\n",
       "if (outputEl) {{\n",
       "    x.observe(outputEl, {childList: true});\n",
       "}}\n",
       "\n",
       "                        })                };                });            </script>        </div>"
      ]
     },
     "metadata": {},
     "output_type": "display_data"
    }
   ],
   "source": [
    "fig3 = px.pie(df_new, values='Total Time Spent', names='STAAR Performance', \n",
    "              color='STAAR Performance', title='Total Time Spent by Performance')\n",
    "\n",
    "fig3.update_traces(textposition='inside', textinfo='percent+label')\n",
    "fig3.show()"
   ]
  },
  {
   "cell_type": "markdown",
   "id": "9cd763b4",
   "metadata": {},
   "source": [
    "It seems students spend similar amount of times on ALEKS, but they show different progress. That means, it takes different amount of time for students to master a topic on ALEKS. So, let's take a look at the learning rate of each group. \n",
    "\n",
    "## Learning Rate"
   ]
  },
  {
   "cell_type": "code",
   "execution_count": 58,
   "id": "f3dc1ccf",
   "metadata": {},
   "outputs": [
    {
     "data": {
      "text/html": [
       "<div>\n",
       "<style scoped>\n",
       "    .dataframe tbody tr th:only-of-type {\n",
       "        vertical-align: middle;\n",
       "    }\n",
       "\n",
       "    .dataframe tbody tr th {\n",
       "        vertical-align: top;\n",
       "    }\n",
       "\n",
       "    .dataframe thead th {\n",
       "        text-align: right;\n",
       "    }\n",
       "</style>\n",
       "<table border=\"1\" class=\"dataframe\">\n",
       "  <thead>\n",
       "    <tr style=\"text-align: right;\">\n",
       "      <th></th>\n",
       "      <th>STAAR Performance</th>\n",
       "      <th>BOY Mastery</th>\n",
       "      <th>BOY Mastered Topics</th>\n",
       "      <th>EOY Mastery</th>\n",
       "      <th>EOY Mastered Topics</th>\n",
       "      <th>Total Number of Topics</th>\n",
       "      <th>Progress</th>\n",
       "      <th>Learned</th>\n",
       "      <th>Total Time Spent</th>\n",
       "      <th>Learning Rate</th>\n",
       "    </tr>\n",
       "  </thead>\n",
       "  <tbody>\n",
       "    <tr>\n",
       "      <th>0</th>\n",
       "      <td>Fails</td>\n",
       "      <td>0.098385</td>\n",
       "      <td>25.760977</td>\n",
       "      <td>0.345371</td>\n",
       "      <td>84.550017</td>\n",
       "      <td>254.091779</td>\n",
       "      <td>0.246993</td>\n",
       "      <td>75.027402</td>\n",
       "      <td>1726.626896</td>\n",
       "      <td>2.607190</td>\n",
       "    </tr>\n",
       "    <tr>\n",
       "      <th>1</th>\n",
       "      <td>Approaches</td>\n",
       "      <td>0.144783</td>\n",
       "      <td>40.482748</td>\n",
       "      <td>0.463920</td>\n",
       "      <td>126.024093</td>\n",
       "      <td>281.182629</td>\n",
       "      <td>0.319150</td>\n",
       "      <td>103.671921</td>\n",
       "      <td>1984.748939</td>\n",
       "      <td>3.134056</td>\n",
       "    </tr>\n",
       "    <tr>\n",
       "      <th>2</th>\n",
       "      <td>Meets</td>\n",
       "      <td>0.219267</td>\n",
       "      <td>68.414085</td>\n",
       "      <td>0.738133</td>\n",
       "      <td>169.247887</td>\n",
       "      <td>304.512676</td>\n",
       "      <td>0.518870</td>\n",
       "      <td>117.207243</td>\n",
       "      <td>1943.140966</td>\n",
       "      <td>3.619107</td>\n",
       "    </tr>\n",
       "    <tr>\n",
       "      <th>3</th>\n",
       "      <td>Masters</td>\n",
       "      <td>0.283454</td>\n",
       "      <td>99.848048</td>\n",
       "      <td>0.991198</td>\n",
       "      <td>215.672177</td>\n",
       "      <td>350.616954</td>\n",
       "      <td>0.707753</td>\n",
       "      <td>126.559620</td>\n",
       "      <td>1828.738393</td>\n",
       "      <td>4.152358</td>\n",
       "    </tr>\n",
       "  </tbody>\n",
       "</table>\n",
       "</div>"
      ],
      "text/plain": [
       "  STAAR Performance  BOY Mastery  BOY Mastered Topics  EOY Mastery  \\\n",
       "0             Fails     0.098385            25.760977     0.345371   \n",
       "1        Approaches     0.144783            40.482748     0.463920   \n",
       "2             Meets     0.219267            68.414085     0.738133   \n",
       "3           Masters     0.283454            99.848048     0.991198   \n",
       "\n",
       "   EOY Mastered Topics  Total Number of Topics  Progress     Learned  \\\n",
       "0            84.550017              254.091779  0.246993   75.027402   \n",
       "1           126.024093              281.182629  0.319150  103.671921   \n",
       "2           169.247887              304.512676  0.518870  117.207243   \n",
       "3           215.672177              350.616954  0.707753  126.559620   \n",
       "\n",
       "   Total Time Spent  Learning Rate  \n",
       "0       1726.626896       2.607190  \n",
       "1       1984.748939       3.134056  \n",
       "2       1943.140966       3.619107  \n",
       "3       1828.738393       4.152358  "
      ]
     },
     "execution_count": 58,
     "metadata": {},
     "output_type": "execute_result"
    }
   ],
   "source": [
    "#Let's calculate and add a learning rate column. (Number of topic a student learns per hour)\n",
    "#Since time values are based on minutes, I will divide the total time by 60 (or multiply the numerator by 60 instead).\n",
    "df_new[\"Learning Rate\"] = df_new[\"Learned\"]*60/(df_new[\"Total Time Spent\"])\n",
    "\n",
    "#Let's drop some columns.\n",
    "df_new = df_new.drop(columns=[\"School Grade\",\"ALEKS Grade\",\"Target\"])\n",
    "df_new"
   ]
  },
  {
   "cell_type": "code",
   "execution_count": 81,
   "id": "3d27b06b",
   "metadata": {},
   "outputs": [
    {
     "data": {
      "application/vnd.plotly.v1+json": {
       "config": {
        "plotlyServerURL": "https://plot.ly"
       },
       "data": [
        {
         "customdata": [
          [
           "Fails"
          ],
          [
           "Approaches"
          ],
          [
           "Meets"
          ],
          [
           "Masters"
          ]
         ],
         "domain": {
          "x": [
           0,
           1
          ],
          "y": [
           0,
           1
          ]
         },
         "hovertemplate": "STAAR Performance=%{customdata[0]}<br>Learning Rate=%{value}<extra></extra>",
         "labels": [
          "Fails",
          "Approaches",
          "Meets",
          "Masters"
         ],
         "legendgroup": "",
         "marker": {
          "colors": [
           "#636efa",
           "#EF553B",
           "#00cc96",
           "#ab63fa"
          ]
         },
         "name": "",
         "showlegend": true,
         "textinfo": "percent+label",
         "textposition": "inside",
         "type": "pie",
         "values": [
          2.607189844273038,
          3.134056487399168,
          3.619106761392127,
          4.152358389881948
         ]
        }
       ],
       "layout": {
        "legend": {
         "tracegroupgap": 0
        },
        "template": {
         "data": {
          "bar": [
           {
            "error_x": {
             "color": "#2a3f5f"
            },
            "error_y": {
             "color": "#2a3f5f"
            },
            "marker": {
             "line": {
              "color": "#E5ECF6",
              "width": 0.5
             },
             "pattern": {
              "fillmode": "overlay",
              "size": 10,
              "solidity": 0.2
             }
            },
            "type": "bar"
           }
          ],
          "barpolar": [
           {
            "marker": {
             "line": {
              "color": "#E5ECF6",
              "width": 0.5
             },
             "pattern": {
              "fillmode": "overlay",
              "size": 10,
              "solidity": 0.2
             }
            },
            "type": "barpolar"
           }
          ],
          "carpet": [
           {
            "aaxis": {
             "endlinecolor": "#2a3f5f",
             "gridcolor": "white",
             "linecolor": "white",
             "minorgridcolor": "white",
             "startlinecolor": "#2a3f5f"
            },
            "baxis": {
             "endlinecolor": "#2a3f5f",
             "gridcolor": "white",
             "linecolor": "white",
             "minorgridcolor": "white",
             "startlinecolor": "#2a3f5f"
            },
            "type": "carpet"
           }
          ],
          "choropleth": [
           {
            "colorbar": {
             "outlinewidth": 0,
             "ticks": ""
            },
            "type": "choropleth"
           }
          ],
          "contour": [
           {
            "colorbar": {
             "outlinewidth": 0,
             "ticks": ""
            },
            "colorscale": [
             [
              0,
              "#0d0887"
             ],
             [
              0.1111111111111111,
              "#46039f"
             ],
             [
              0.2222222222222222,
              "#7201a8"
             ],
             [
              0.3333333333333333,
              "#9c179e"
             ],
             [
              0.4444444444444444,
              "#bd3786"
             ],
             [
              0.5555555555555556,
              "#d8576b"
             ],
             [
              0.6666666666666666,
              "#ed7953"
             ],
             [
              0.7777777777777778,
              "#fb9f3a"
             ],
             [
              0.8888888888888888,
              "#fdca26"
             ],
             [
              1,
              "#f0f921"
             ]
            ],
            "type": "contour"
           }
          ],
          "contourcarpet": [
           {
            "colorbar": {
             "outlinewidth": 0,
             "ticks": ""
            },
            "type": "contourcarpet"
           }
          ],
          "heatmap": [
           {
            "colorbar": {
             "outlinewidth": 0,
             "ticks": ""
            },
            "colorscale": [
             [
              0,
              "#0d0887"
             ],
             [
              0.1111111111111111,
              "#46039f"
             ],
             [
              0.2222222222222222,
              "#7201a8"
             ],
             [
              0.3333333333333333,
              "#9c179e"
             ],
             [
              0.4444444444444444,
              "#bd3786"
             ],
             [
              0.5555555555555556,
              "#d8576b"
             ],
             [
              0.6666666666666666,
              "#ed7953"
             ],
             [
              0.7777777777777778,
              "#fb9f3a"
             ],
             [
              0.8888888888888888,
              "#fdca26"
             ],
             [
              1,
              "#f0f921"
             ]
            ],
            "type": "heatmap"
           }
          ],
          "heatmapgl": [
           {
            "colorbar": {
             "outlinewidth": 0,
             "ticks": ""
            },
            "colorscale": [
             [
              0,
              "#0d0887"
             ],
             [
              0.1111111111111111,
              "#46039f"
             ],
             [
              0.2222222222222222,
              "#7201a8"
             ],
             [
              0.3333333333333333,
              "#9c179e"
             ],
             [
              0.4444444444444444,
              "#bd3786"
             ],
             [
              0.5555555555555556,
              "#d8576b"
             ],
             [
              0.6666666666666666,
              "#ed7953"
             ],
             [
              0.7777777777777778,
              "#fb9f3a"
             ],
             [
              0.8888888888888888,
              "#fdca26"
             ],
             [
              1,
              "#f0f921"
             ]
            ],
            "type": "heatmapgl"
           }
          ],
          "histogram": [
           {
            "marker": {
             "pattern": {
              "fillmode": "overlay",
              "size": 10,
              "solidity": 0.2
             }
            },
            "type": "histogram"
           }
          ],
          "histogram2d": [
           {
            "colorbar": {
             "outlinewidth": 0,
             "ticks": ""
            },
            "colorscale": [
             [
              0,
              "#0d0887"
             ],
             [
              0.1111111111111111,
              "#46039f"
             ],
             [
              0.2222222222222222,
              "#7201a8"
             ],
             [
              0.3333333333333333,
              "#9c179e"
             ],
             [
              0.4444444444444444,
              "#bd3786"
             ],
             [
              0.5555555555555556,
              "#d8576b"
             ],
             [
              0.6666666666666666,
              "#ed7953"
             ],
             [
              0.7777777777777778,
              "#fb9f3a"
             ],
             [
              0.8888888888888888,
              "#fdca26"
             ],
             [
              1,
              "#f0f921"
             ]
            ],
            "type": "histogram2d"
           }
          ],
          "histogram2dcontour": [
           {
            "colorbar": {
             "outlinewidth": 0,
             "ticks": ""
            },
            "colorscale": [
             [
              0,
              "#0d0887"
             ],
             [
              0.1111111111111111,
              "#46039f"
             ],
             [
              0.2222222222222222,
              "#7201a8"
             ],
             [
              0.3333333333333333,
              "#9c179e"
             ],
             [
              0.4444444444444444,
              "#bd3786"
             ],
             [
              0.5555555555555556,
              "#d8576b"
             ],
             [
              0.6666666666666666,
              "#ed7953"
             ],
             [
              0.7777777777777778,
              "#fb9f3a"
             ],
             [
              0.8888888888888888,
              "#fdca26"
             ],
             [
              1,
              "#f0f921"
             ]
            ],
            "type": "histogram2dcontour"
           }
          ],
          "mesh3d": [
           {
            "colorbar": {
             "outlinewidth": 0,
             "ticks": ""
            },
            "type": "mesh3d"
           }
          ],
          "parcoords": [
           {
            "line": {
             "colorbar": {
              "outlinewidth": 0,
              "ticks": ""
             }
            },
            "type": "parcoords"
           }
          ],
          "pie": [
           {
            "automargin": true,
            "type": "pie"
           }
          ],
          "scatter": [
           {
            "fillpattern": {
             "fillmode": "overlay",
             "size": 10,
             "solidity": 0.2
            },
            "type": "scatter"
           }
          ],
          "scatter3d": [
           {
            "line": {
             "colorbar": {
              "outlinewidth": 0,
              "ticks": ""
             }
            },
            "marker": {
             "colorbar": {
              "outlinewidth": 0,
              "ticks": ""
             }
            },
            "type": "scatter3d"
           }
          ],
          "scattercarpet": [
           {
            "marker": {
             "colorbar": {
              "outlinewidth": 0,
              "ticks": ""
             }
            },
            "type": "scattercarpet"
           }
          ],
          "scattergeo": [
           {
            "marker": {
             "colorbar": {
              "outlinewidth": 0,
              "ticks": ""
             }
            },
            "type": "scattergeo"
           }
          ],
          "scattergl": [
           {
            "marker": {
             "colorbar": {
              "outlinewidth": 0,
              "ticks": ""
             }
            },
            "type": "scattergl"
           }
          ],
          "scattermapbox": [
           {
            "marker": {
             "colorbar": {
              "outlinewidth": 0,
              "ticks": ""
             }
            },
            "type": "scattermapbox"
           }
          ],
          "scatterpolar": [
           {
            "marker": {
             "colorbar": {
              "outlinewidth": 0,
              "ticks": ""
             }
            },
            "type": "scatterpolar"
           }
          ],
          "scatterpolargl": [
           {
            "marker": {
             "colorbar": {
              "outlinewidth": 0,
              "ticks": ""
             }
            },
            "type": "scatterpolargl"
           }
          ],
          "scatterternary": [
           {
            "marker": {
             "colorbar": {
              "outlinewidth": 0,
              "ticks": ""
             }
            },
            "type": "scatterternary"
           }
          ],
          "surface": [
           {
            "colorbar": {
             "outlinewidth": 0,
             "ticks": ""
            },
            "colorscale": [
             [
              0,
              "#0d0887"
             ],
             [
              0.1111111111111111,
              "#46039f"
             ],
             [
              0.2222222222222222,
              "#7201a8"
             ],
             [
              0.3333333333333333,
              "#9c179e"
             ],
             [
              0.4444444444444444,
              "#bd3786"
             ],
             [
              0.5555555555555556,
              "#d8576b"
             ],
             [
              0.6666666666666666,
              "#ed7953"
             ],
             [
              0.7777777777777778,
              "#fb9f3a"
             ],
             [
              0.8888888888888888,
              "#fdca26"
             ],
             [
              1,
              "#f0f921"
             ]
            ],
            "type": "surface"
           }
          ],
          "table": [
           {
            "cells": {
             "fill": {
              "color": "#EBF0F8"
             },
             "line": {
              "color": "white"
             }
            },
            "header": {
             "fill": {
              "color": "#C8D4E3"
             },
             "line": {
              "color": "white"
             }
            },
            "type": "table"
           }
          ]
         },
         "layout": {
          "annotationdefaults": {
           "arrowcolor": "#2a3f5f",
           "arrowhead": 0,
           "arrowwidth": 1
          },
          "autotypenumbers": "strict",
          "coloraxis": {
           "colorbar": {
            "outlinewidth": 0,
            "ticks": ""
           }
          },
          "colorscale": {
           "diverging": [
            [
             0,
             "#8e0152"
            ],
            [
             0.1,
             "#c51b7d"
            ],
            [
             0.2,
             "#de77ae"
            ],
            [
             0.3,
             "#f1b6da"
            ],
            [
             0.4,
             "#fde0ef"
            ],
            [
             0.5,
             "#f7f7f7"
            ],
            [
             0.6,
             "#e6f5d0"
            ],
            [
             0.7,
             "#b8e186"
            ],
            [
             0.8,
             "#7fbc41"
            ],
            [
             0.9,
             "#4d9221"
            ],
            [
             1,
             "#276419"
            ]
           ],
           "sequential": [
            [
             0,
             "#0d0887"
            ],
            [
             0.1111111111111111,
             "#46039f"
            ],
            [
             0.2222222222222222,
             "#7201a8"
            ],
            [
             0.3333333333333333,
             "#9c179e"
            ],
            [
             0.4444444444444444,
             "#bd3786"
            ],
            [
             0.5555555555555556,
             "#d8576b"
            ],
            [
             0.6666666666666666,
             "#ed7953"
            ],
            [
             0.7777777777777778,
             "#fb9f3a"
            ],
            [
             0.8888888888888888,
             "#fdca26"
            ],
            [
             1,
             "#f0f921"
            ]
           ],
           "sequentialminus": [
            [
             0,
             "#0d0887"
            ],
            [
             0.1111111111111111,
             "#46039f"
            ],
            [
             0.2222222222222222,
             "#7201a8"
            ],
            [
             0.3333333333333333,
             "#9c179e"
            ],
            [
             0.4444444444444444,
             "#bd3786"
            ],
            [
             0.5555555555555556,
             "#d8576b"
            ],
            [
             0.6666666666666666,
             "#ed7953"
            ],
            [
             0.7777777777777778,
             "#fb9f3a"
            ],
            [
             0.8888888888888888,
             "#fdca26"
            ],
            [
             1,
             "#f0f921"
            ]
           ]
          },
          "colorway": [
           "#636efa",
           "#EF553B",
           "#00cc96",
           "#ab63fa",
           "#FFA15A",
           "#19d3f3",
           "#FF6692",
           "#B6E880",
           "#FF97FF",
           "#FECB52"
          ],
          "font": {
           "color": "#2a3f5f"
          },
          "geo": {
           "bgcolor": "white",
           "lakecolor": "white",
           "landcolor": "#E5ECF6",
           "showlakes": true,
           "showland": true,
           "subunitcolor": "white"
          },
          "hoverlabel": {
           "align": "left"
          },
          "hovermode": "closest",
          "mapbox": {
           "style": "light"
          },
          "paper_bgcolor": "white",
          "plot_bgcolor": "#E5ECF6",
          "polar": {
           "angularaxis": {
            "gridcolor": "white",
            "linecolor": "white",
            "ticks": ""
           },
           "bgcolor": "#E5ECF6",
           "radialaxis": {
            "gridcolor": "white",
            "linecolor": "white",
            "ticks": ""
           }
          },
          "scene": {
           "xaxis": {
            "backgroundcolor": "#E5ECF6",
            "gridcolor": "white",
            "gridwidth": 2,
            "linecolor": "white",
            "showbackground": true,
            "ticks": "",
            "zerolinecolor": "white"
           },
           "yaxis": {
            "backgroundcolor": "#E5ECF6",
            "gridcolor": "white",
            "gridwidth": 2,
            "linecolor": "white",
            "showbackground": true,
            "ticks": "",
            "zerolinecolor": "white"
           },
           "zaxis": {
            "backgroundcolor": "#E5ECF6",
            "gridcolor": "white",
            "gridwidth": 2,
            "linecolor": "white",
            "showbackground": true,
            "ticks": "",
            "zerolinecolor": "white"
           }
          },
          "shapedefaults": {
           "line": {
            "color": "#2a3f5f"
           }
          },
          "ternary": {
           "aaxis": {
            "gridcolor": "white",
            "linecolor": "white",
            "ticks": ""
           },
           "baxis": {
            "gridcolor": "white",
            "linecolor": "white",
            "ticks": ""
           },
           "bgcolor": "#E5ECF6",
           "caxis": {
            "gridcolor": "white",
            "linecolor": "white",
            "ticks": ""
           }
          },
          "title": {
           "x": 0.05
          },
          "xaxis": {
           "automargin": true,
           "gridcolor": "white",
           "linecolor": "white",
           "ticks": "",
           "title": {
            "standoff": 15
           },
           "zerolinecolor": "white",
           "zerolinewidth": 2
          },
          "yaxis": {
           "automargin": true,
           "gridcolor": "white",
           "linecolor": "white",
           "ticks": "",
           "title": {
            "standoff": 15
           },
           "zerolinecolor": "white",
           "zerolinewidth": 2
          }
         }
        },
        "title": {
         "text": "Learning Rate by Performance"
        }
       }
      },
      "text/html": [
       "<div>                            <div id=\"f1fdc77d-365f-4010-b587-f34a51fe0da8\" class=\"plotly-graph-div\" style=\"height:525px; width:100%;\"></div>            <script type=\"text/javascript\">                require([\"plotly\"], function(Plotly) {                    window.PLOTLYENV=window.PLOTLYENV || {};                                    if (document.getElementById(\"f1fdc77d-365f-4010-b587-f34a51fe0da8\")) {                    Plotly.newPlot(                        \"f1fdc77d-365f-4010-b587-f34a51fe0da8\",                        [{\"customdata\":[[\"Fails\"],[\"Approaches\"],[\"Meets\"],[\"Masters\"]],\"domain\":{\"x\":[0.0,1.0],\"y\":[0.0,1.0]},\"hovertemplate\":\"STAAR Performance=%{customdata[0]}<br>Learning Rate=%{value}<extra></extra>\",\"labels\":[\"Fails\",\"Approaches\",\"Meets\",\"Masters\"],\"legendgroup\":\"\",\"marker\":{\"colors\":[\"#636efa\",\"#EF553B\",\"#00cc96\",\"#ab63fa\"]},\"name\":\"\",\"showlegend\":true,\"values\":[2.607189844273038,3.134056487399168,3.619106761392127,4.152358389881948],\"type\":\"pie\",\"textinfo\":\"percent+label\",\"textposition\":\"inside\"}],                        {\"template\":{\"data\":{\"histogram2dcontour\":[{\"type\":\"histogram2dcontour\",\"colorbar\":{\"outlinewidth\":0,\"ticks\":\"\"},\"colorscale\":[[0.0,\"#0d0887\"],[0.1111111111111111,\"#46039f\"],[0.2222222222222222,\"#7201a8\"],[0.3333333333333333,\"#9c179e\"],[0.4444444444444444,\"#bd3786\"],[0.5555555555555556,\"#d8576b\"],[0.6666666666666666,\"#ed7953\"],[0.7777777777777778,\"#fb9f3a\"],[0.8888888888888888,\"#fdca26\"],[1.0,\"#f0f921\"]]}],\"choropleth\":[{\"type\":\"choropleth\",\"colorbar\":{\"outlinewidth\":0,\"ticks\":\"\"}}],\"histogram2d\":[{\"type\":\"histogram2d\",\"colorbar\":{\"outlinewidth\":0,\"ticks\":\"\"},\"colorscale\":[[0.0,\"#0d0887\"],[0.1111111111111111,\"#46039f\"],[0.2222222222222222,\"#7201a8\"],[0.3333333333333333,\"#9c179e\"],[0.4444444444444444,\"#bd3786\"],[0.5555555555555556,\"#d8576b\"],[0.6666666666666666,\"#ed7953\"],[0.7777777777777778,\"#fb9f3a\"],[0.8888888888888888,\"#fdca26\"],[1.0,\"#f0f921\"]]}],\"heatmap\":[{\"type\":\"heatmap\",\"colorbar\":{\"outlinewidth\":0,\"ticks\":\"\"},\"colorscale\":[[0.0,\"#0d0887\"],[0.1111111111111111,\"#46039f\"],[0.2222222222222222,\"#7201a8\"],[0.3333333333333333,\"#9c179e\"],[0.4444444444444444,\"#bd3786\"],[0.5555555555555556,\"#d8576b\"],[0.6666666666666666,\"#ed7953\"],[0.7777777777777778,\"#fb9f3a\"],[0.8888888888888888,\"#fdca26\"],[1.0,\"#f0f921\"]]}],\"heatmapgl\":[{\"type\":\"heatmapgl\",\"colorbar\":{\"outlinewidth\":0,\"ticks\":\"\"},\"colorscale\":[[0.0,\"#0d0887\"],[0.1111111111111111,\"#46039f\"],[0.2222222222222222,\"#7201a8\"],[0.3333333333333333,\"#9c179e\"],[0.4444444444444444,\"#bd3786\"],[0.5555555555555556,\"#d8576b\"],[0.6666666666666666,\"#ed7953\"],[0.7777777777777778,\"#fb9f3a\"],[0.8888888888888888,\"#fdca26\"],[1.0,\"#f0f921\"]]}],\"contourcarpet\":[{\"type\":\"contourcarpet\",\"colorbar\":{\"outlinewidth\":0,\"ticks\":\"\"}}],\"contour\":[{\"type\":\"contour\",\"colorbar\":{\"outlinewidth\":0,\"ticks\":\"\"},\"colorscale\":[[0.0,\"#0d0887\"],[0.1111111111111111,\"#46039f\"],[0.2222222222222222,\"#7201a8\"],[0.3333333333333333,\"#9c179e\"],[0.4444444444444444,\"#bd3786\"],[0.5555555555555556,\"#d8576b\"],[0.6666666666666666,\"#ed7953\"],[0.7777777777777778,\"#fb9f3a\"],[0.8888888888888888,\"#fdca26\"],[1.0,\"#f0f921\"]]}],\"surface\":[{\"type\":\"surface\",\"colorbar\":{\"outlinewidth\":0,\"ticks\":\"\"},\"colorscale\":[[0.0,\"#0d0887\"],[0.1111111111111111,\"#46039f\"],[0.2222222222222222,\"#7201a8\"],[0.3333333333333333,\"#9c179e\"],[0.4444444444444444,\"#bd3786\"],[0.5555555555555556,\"#d8576b\"],[0.6666666666666666,\"#ed7953\"],[0.7777777777777778,\"#fb9f3a\"],[0.8888888888888888,\"#fdca26\"],[1.0,\"#f0f921\"]]}],\"mesh3d\":[{\"type\":\"mesh3d\",\"colorbar\":{\"outlinewidth\":0,\"ticks\":\"\"}}],\"scatter\":[{\"fillpattern\":{\"fillmode\":\"overlay\",\"size\":10,\"solidity\":0.2},\"type\":\"scatter\"}],\"parcoords\":[{\"type\":\"parcoords\",\"line\":{\"colorbar\":{\"outlinewidth\":0,\"ticks\":\"\"}}}],\"scatterpolargl\":[{\"type\":\"scatterpolargl\",\"marker\":{\"colorbar\":{\"outlinewidth\":0,\"ticks\":\"\"}}}],\"bar\":[{\"error_x\":{\"color\":\"#2a3f5f\"},\"error_y\":{\"color\":\"#2a3f5f\"},\"marker\":{\"line\":{\"color\":\"#E5ECF6\",\"width\":0.5},\"pattern\":{\"fillmode\":\"overlay\",\"size\":10,\"solidity\":0.2}},\"type\":\"bar\"}],\"scattergeo\":[{\"type\":\"scattergeo\",\"marker\":{\"colorbar\":{\"outlinewidth\":0,\"ticks\":\"\"}}}],\"scatterpolar\":[{\"type\":\"scatterpolar\",\"marker\":{\"colorbar\":{\"outlinewidth\":0,\"ticks\":\"\"}}}],\"histogram\":[{\"marker\":{\"pattern\":{\"fillmode\":\"overlay\",\"size\":10,\"solidity\":0.2}},\"type\":\"histogram\"}],\"scattergl\":[{\"type\":\"scattergl\",\"marker\":{\"colorbar\":{\"outlinewidth\":0,\"ticks\":\"\"}}}],\"scatter3d\":[{\"type\":\"scatter3d\",\"line\":{\"colorbar\":{\"outlinewidth\":0,\"ticks\":\"\"}},\"marker\":{\"colorbar\":{\"outlinewidth\":0,\"ticks\":\"\"}}}],\"scattermapbox\":[{\"type\":\"scattermapbox\",\"marker\":{\"colorbar\":{\"outlinewidth\":0,\"ticks\":\"\"}}}],\"scatterternary\":[{\"type\":\"scatterternary\",\"marker\":{\"colorbar\":{\"outlinewidth\":0,\"ticks\":\"\"}}}],\"scattercarpet\":[{\"type\":\"scattercarpet\",\"marker\":{\"colorbar\":{\"outlinewidth\":0,\"ticks\":\"\"}}}],\"carpet\":[{\"aaxis\":{\"endlinecolor\":\"#2a3f5f\",\"gridcolor\":\"white\",\"linecolor\":\"white\",\"minorgridcolor\":\"white\",\"startlinecolor\":\"#2a3f5f\"},\"baxis\":{\"endlinecolor\":\"#2a3f5f\",\"gridcolor\":\"white\",\"linecolor\":\"white\",\"minorgridcolor\":\"white\",\"startlinecolor\":\"#2a3f5f\"},\"type\":\"carpet\"}],\"table\":[{\"cells\":{\"fill\":{\"color\":\"#EBF0F8\"},\"line\":{\"color\":\"white\"}},\"header\":{\"fill\":{\"color\":\"#C8D4E3\"},\"line\":{\"color\":\"white\"}},\"type\":\"table\"}],\"barpolar\":[{\"marker\":{\"line\":{\"color\":\"#E5ECF6\",\"width\":0.5},\"pattern\":{\"fillmode\":\"overlay\",\"size\":10,\"solidity\":0.2}},\"type\":\"barpolar\"}],\"pie\":[{\"automargin\":true,\"type\":\"pie\"}]},\"layout\":{\"autotypenumbers\":\"strict\",\"colorway\":[\"#636efa\",\"#EF553B\",\"#00cc96\",\"#ab63fa\",\"#FFA15A\",\"#19d3f3\",\"#FF6692\",\"#B6E880\",\"#FF97FF\",\"#FECB52\"],\"font\":{\"color\":\"#2a3f5f\"},\"hovermode\":\"closest\",\"hoverlabel\":{\"align\":\"left\"},\"paper_bgcolor\":\"white\",\"plot_bgcolor\":\"#E5ECF6\",\"polar\":{\"bgcolor\":\"#E5ECF6\",\"angularaxis\":{\"gridcolor\":\"white\",\"linecolor\":\"white\",\"ticks\":\"\"},\"radialaxis\":{\"gridcolor\":\"white\",\"linecolor\":\"white\",\"ticks\":\"\"}},\"ternary\":{\"bgcolor\":\"#E5ECF6\",\"aaxis\":{\"gridcolor\":\"white\",\"linecolor\":\"white\",\"ticks\":\"\"},\"baxis\":{\"gridcolor\":\"white\",\"linecolor\":\"white\",\"ticks\":\"\"},\"caxis\":{\"gridcolor\":\"white\",\"linecolor\":\"white\",\"ticks\":\"\"}},\"coloraxis\":{\"colorbar\":{\"outlinewidth\":0,\"ticks\":\"\"}},\"colorscale\":{\"sequential\":[[0.0,\"#0d0887\"],[0.1111111111111111,\"#46039f\"],[0.2222222222222222,\"#7201a8\"],[0.3333333333333333,\"#9c179e\"],[0.4444444444444444,\"#bd3786\"],[0.5555555555555556,\"#d8576b\"],[0.6666666666666666,\"#ed7953\"],[0.7777777777777778,\"#fb9f3a\"],[0.8888888888888888,\"#fdca26\"],[1.0,\"#f0f921\"]],\"sequentialminus\":[[0.0,\"#0d0887\"],[0.1111111111111111,\"#46039f\"],[0.2222222222222222,\"#7201a8\"],[0.3333333333333333,\"#9c179e\"],[0.4444444444444444,\"#bd3786\"],[0.5555555555555556,\"#d8576b\"],[0.6666666666666666,\"#ed7953\"],[0.7777777777777778,\"#fb9f3a\"],[0.8888888888888888,\"#fdca26\"],[1.0,\"#f0f921\"]],\"diverging\":[[0,\"#8e0152\"],[0.1,\"#c51b7d\"],[0.2,\"#de77ae\"],[0.3,\"#f1b6da\"],[0.4,\"#fde0ef\"],[0.5,\"#f7f7f7\"],[0.6,\"#e6f5d0\"],[0.7,\"#b8e186\"],[0.8,\"#7fbc41\"],[0.9,\"#4d9221\"],[1,\"#276419\"]]},\"xaxis\":{\"gridcolor\":\"white\",\"linecolor\":\"white\",\"ticks\":\"\",\"title\":{\"standoff\":15},\"zerolinecolor\":\"white\",\"automargin\":true,\"zerolinewidth\":2},\"yaxis\":{\"gridcolor\":\"white\",\"linecolor\":\"white\",\"ticks\":\"\",\"title\":{\"standoff\":15},\"zerolinecolor\":\"white\",\"automargin\":true,\"zerolinewidth\":2},\"scene\":{\"xaxis\":{\"backgroundcolor\":\"#E5ECF6\",\"gridcolor\":\"white\",\"linecolor\":\"white\",\"showbackground\":true,\"ticks\":\"\",\"zerolinecolor\":\"white\",\"gridwidth\":2},\"yaxis\":{\"backgroundcolor\":\"#E5ECF6\",\"gridcolor\":\"white\",\"linecolor\":\"white\",\"showbackground\":true,\"ticks\":\"\",\"zerolinecolor\":\"white\",\"gridwidth\":2},\"zaxis\":{\"backgroundcolor\":\"#E5ECF6\",\"gridcolor\":\"white\",\"linecolor\":\"white\",\"showbackground\":true,\"ticks\":\"\",\"zerolinecolor\":\"white\",\"gridwidth\":2}},\"shapedefaults\":{\"line\":{\"color\":\"#2a3f5f\"}},\"annotationdefaults\":{\"arrowcolor\":\"#2a3f5f\",\"arrowhead\":0,\"arrowwidth\":1},\"geo\":{\"bgcolor\":\"white\",\"landcolor\":\"#E5ECF6\",\"subunitcolor\":\"white\",\"showland\":true,\"showlakes\":true,\"lakecolor\":\"white\"},\"title\":{\"x\":0.05},\"mapbox\":{\"style\":\"light\"}}},\"legend\":{\"tracegroupgap\":0},\"title\":{\"text\":\"Learning Rate by Performance\"}},                        {\"responsive\": true}                    ).then(function(){\n",
       "                            \n",
       "var gd = document.getElementById('f1fdc77d-365f-4010-b587-f34a51fe0da8');\n",
       "var x = new MutationObserver(function (mutations, observer) {{\n",
       "        var display = window.getComputedStyle(gd).display;\n",
       "        if (!display || display === 'none') {{\n",
       "            console.log([gd, 'removed!']);\n",
       "            Plotly.purge(gd);\n",
       "            observer.disconnect();\n",
       "        }}\n",
       "}});\n",
       "\n",
       "// Listen for the removal of the full notebook cells\n",
       "var notebookContainer = gd.closest('#notebook-container');\n",
       "if (notebookContainer) {{\n",
       "    x.observe(notebookContainer, {childList: true});\n",
       "}}\n",
       "\n",
       "// Listen for the clearing of the current output cell\n",
       "var outputEl = gd.closest('.output');\n",
       "if (outputEl) {{\n",
       "    x.observe(outputEl, {childList: true});\n",
       "}}\n",
       "\n",
       "                        })                };                });            </script>        </div>"
      ]
     },
     "metadata": {},
     "output_type": "display_data"
    }
   ],
   "source": [
    "fig4 = px.pie(df_new, values='Learning Rate', names='STAAR Performance', \n",
    "              color='STAAR Performance', title='Learning Rate by Performance')\n",
    "\n",
    "fig4.update_traces(textposition='inside', textinfo='percent+label')\n",
    "fig4.show()"
   ]
  },
  {
   "cell_type": "markdown",
   "id": "d687a6a0",
   "metadata": {},
   "source": [
    "Again, there is a strong correlation between the STAAR Performance of students and ALEKS topics learning rate, rather than time spent on ALEKS."
   ]
  },
  {
   "cell_type": "markdown",
   "id": "b41574b2",
   "metadata": {},
   "source": [
    "## Addding New Feature"
   ]
  },
  {
   "cell_type": "code",
   "execution_count": 82,
   "id": "a9a31c96",
   "metadata": {},
   "outputs": [
    {
     "data": {
      "text/html": [
       "<div>\n",
       "<style scoped>\n",
       "    .dataframe tbody tr th:only-of-type {\n",
       "        vertical-align: middle;\n",
       "    }\n",
       "\n",
       "    .dataframe tbody tr th {\n",
       "        vertical-align: top;\n",
       "    }\n",
       "\n",
       "    .dataframe thead th {\n",
       "        text-align: right;\n",
       "    }\n",
       "</style>\n",
       "<table border=\"1\" class=\"dataframe\">\n",
       "  <thead>\n",
       "    <tr style=\"text-align: right;\">\n",
       "      <th></th>\n",
       "      <th>School Grade</th>\n",
       "      <th>ALEKS Grade</th>\n",
       "      <th>BOY Mastery</th>\n",
       "      <th>BOY Mastered Topics</th>\n",
       "      <th>EOY Mastery</th>\n",
       "      <th>EOY Mastered Topics</th>\n",
       "      <th>Total Number of Topics</th>\n",
       "      <th>Progress</th>\n",
       "      <th>Learned</th>\n",
       "      <th>Total Time Spent</th>\n",
       "      <th>Target</th>\n",
       "      <th>Learning Rate</th>\n",
       "    </tr>\n",
       "  </thead>\n",
       "  <tbody>\n",
       "    <tr>\n",
       "      <th>0</th>\n",
       "      <td>9</td>\n",
       "      <td>9</td>\n",
       "      <td>0.099150</td>\n",
       "      <td>35</td>\n",
       "      <td>0.750708</td>\n",
       "      <td>265</td>\n",
       "      <td>353</td>\n",
       "      <td>0.651558</td>\n",
       "      <td>218</td>\n",
       "      <td>2750.700000</td>\n",
       "      <td>1</td>\n",
       "      <td>4.755153</td>\n",
       "    </tr>\n",
       "    <tr>\n",
       "      <th>1</th>\n",
       "      <td>5</td>\n",
       "      <td>5</td>\n",
       "      <td>0.095238</td>\n",
       "      <td>24</td>\n",
       "      <td>0.253968</td>\n",
       "      <td>64</td>\n",
       "      <td>252</td>\n",
       "      <td>0.158730</td>\n",
       "      <td>56</td>\n",
       "      <td>1676.616667</td>\n",
       "      <td>0</td>\n",
       "      <td>2.004036</td>\n",
       "    </tr>\n",
       "    <tr>\n",
       "      <th>2</th>\n",
       "      <td>3</td>\n",
       "      <td>3</td>\n",
       "      <td>0.445652</td>\n",
       "      <td>41</td>\n",
       "      <td>0.967391</td>\n",
       "      <td>89</td>\n",
       "      <td>92</td>\n",
       "      <td>0.521739</td>\n",
       "      <td>59</td>\n",
       "      <td>840.216667</td>\n",
       "      <td>1</td>\n",
       "      <td>4.213199</td>\n",
       "    </tr>\n",
       "    <tr>\n",
       "      <th>3</th>\n",
       "      <td>4</td>\n",
       "      <td>4</td>\n",
       "      <td>0.000000</td>\n",
       "      <td>0</td>\n",
       "      <td>0.178571</td>\n",
       "      <td>45</td>\n",
       "      <td>252</td>\n",
       "      <td>0.178571</td>\n",
       "      <td>70</td>\n",
       "      <td>1569.933333</td>\n",
       "      <td>0</td>\n",
       "      <td>2.675273</td>\n",
       "    </tr>\n",
       "    <tr>\n",
       "      <th>4</th>\n",
       "      <td>5</td>\n",
       "      <td>5</td>\n",
       "      <td>0.253968</td>\n",
       "      <td>64</td>\n",
       "      <td>0.611111</td>\n",
       "      <td>154</td>\n",
       "      <td>252</td>\n",
       "      <td>0.357143</td>\n",
       "      <td>110</td>\n",
       "      <td>1579.483333</td>\n",
       "      <td>1</td>\n",
       "      <td>4.178582</td>\n",
       "    </tr>\n",
       "    <tr>\n",
       "      <th>...</th>\n",
       "      <td>...</td>\n",
       "      <td>...</td>\n",
       "      <td>...</td>\n",
       "      <td>...</td>\n",
       "      <td>...</td>\n",
       "      <td>...</td>\n",
       "      <td>...</td>\n",
       "      <td>...</td>\n",
       "      <td>...</td>\n",
       "      <td>...</td>\n",
       "      <td>...</td>\n",
       "      <td>...</td>\n",
       "    </tr>\n",
       "    <tr>\n",
       "      <th>9370</th>\n",
       "      <td>3</td>\n",
       "      <td>5</td>\n",
       "      <td>0.609195</td>\n",
       "      <td>159</td>\n",
       "      <td>1.896552</td>\n",
       "      <td>234</td>\n",
       "      <td>261</td>\n",
       "      <td>1.287356</td>\n",
       "      <td>85</td>\n",
       "      <td>1575.483333</td>\n",
       "      <td>1</td>\n",
       "      <td>3.237102</td>\n",
       "    </tr>\n",
       "    <tr>\n",
       "      <th>9371</th>\n",
       "      <td>6</td>\n",
       "      <td>6</td>\n",
       "      <td>0.009804</td>\n",
       "      <td>3</td>\n",
       "      <td>0.297386</td>\n",
       "      <td>91</td>\n",
       "      <td>306</td>\n",
       "      <td>0.287582</td>\n",
       "      <td>125</td>\n",
       "      <td>2030.900000</td>\n",
       "      <td>0</td>\n",
       "      <td>3.692944</td>\n",
       "    </tr>\n",
       "    <tr>\n",
       "      <th>9372</th>\n",
       "      <td>3</td>\n",
       "      <td>3</td>\n",
       "      <td>0.000000</td>\n",
       "      <td>0</td>\n",
       "      <td>0.301136</td>\n",
       "      <td>53</td>\n",
       "      <td>176</td>\n",
       "      <td>0.301136</td>\n",
       "      <td>62</td>\n",
       "      <td>1072.866667</td>\n",
       "      <td>0</td>\n",
       "      <td>3.467346</td>\n",
       "    </tr>\n",
       "    <tr>\n",
       "      <th>9373</th>\n",
       "      <td>6</td>\n",
       "      <td>6</td>\n",
       "      <td>0.035948</td>\n",
       "      <td>11</td>\n",
       "      <td>0.114379</td>\n",
       "      <td>35</td>\n",
       "      <td>306</td>\n",
       "      <td>0.078431</td>\n",
       "      <td>24</td>\n",
       "      <td>777.800000</td>\n",
       "      <td>0</td>\n",
       "      <td>1.851376</td>\n",
       "    </tr>\n",
       "    <tr>\n",
       "      <th>9374</th>\n",
       "      <td>7</td>\n",
       "      <td>7</td>\n",
       "      <td>0.538874</td>\n",
       "      <td>201</td>\n",
       "      <td>0.970509</td>\n",
       "      <td>362</td>\n",
       "      <td>373</td>\n",
       "      <td>0.431635</td>\n",
       "      <td>230</td>\n",
       "      <td>9005.350000</td>\n",
       "      <td>1</td>\n",
       "      <td>1.532422</td>\n",
       "    </tr>\n",
       "  </tbody>\n",
       "</table>\n",
       "<p>9375 rows × 12 columns</p>\n",
       "</div>"
      ],
      "text/plain": [
       "      School Grade  ALEKS Grade  BOY Mastery  BOY Mastered Topics  \\\n",
       "0                9            9     0.099150                   35   \n",
       "1                5            5     0.095238                   24   \n",
       "2                3            3     0.445652                   41   \n",
       "3                4            4     0.000000                    0   \n",
       "4                5            5     0.253968                   64   \n",
       "...            ...          ...          ...                  ...   \n",
       "9370             3            5     0.609195                  159   \n",
       "9371             6            6     0.009804                    3   \n",
       "9372             3            3     0.000000                    0   \n",
       "9373             6            6     0.035948                   11   \n",
       "9374             7            7     0.538874                  201   \n",
       "\n",
       "      EOY Mastery  EOY Mastered Topics  Total Number of Topics  Progress  \\\n",
       "0        0.750708                  265                     353  0.651558   \n",
       "1        0.253968                   64                     252  0.158730   \n",
       "2        0.967391                   89                      92  0.521739   \n",
       "3        0.178571                   45                     252  0.178571   \n",
       "4        0.611111                  154                     252  0.357143   \n",
       "...           ...                  ...                     ...       ...   \n",
       "9370     1.896552                  234                     261  1.287356   \n",
       "9371     0.297386                   91                     306  0.287582   \n",
       "9372     0.301136                   53                     176  0.301136   \n",
       "9373     0.114379                   35                     306  0.078431   \n",
       "9374     0.970509                  362                     373  0.431635   \n",
       "\n",
       "      Learned  Total Time Spent  Target  Learning Rate  \n",
       "0         218       2750.700000       1       4.755153  \n",
       "1          56       1676.616667       0       2.004036  \n",
       "2          59        840.216667       1       4.213199  \n",
       "3          70       1569.933333       0       2.675273  \n",
       "4         110       1579.483333       1       4.178582  \n",
       "...       ...               ...     ...            ...  \n",
       "9370       85       1575.483333       1       3.237102  \n",
       "9371      125       2030.900000       0       3.692944  \n",
       "9372       62       1072.866667       0       3.467346  \n",
       "9373       24        777.800000       0       1.851376  \n",
       "9374      230       9005.350000       1       1.532422  \n",
       "\n",
       "[9375 rows x 12 columns]"
      ]
     },
     "execution_count": 82,
     "metadata": {},
     "output_type": "execute_result"
    }
   ],
   "source": [
    "# Let's add this new feature to our training and testing data.\n",
    "df_train[\"Learning Rate\"] = df_train[\"Learned\"]*60/(df_train[\"Total Time Spent\"])\n",
    "df_train"
   ]
  },
  {
   "cell_type": "code",
   "execution_count": 84,
   "id": "6d6a7982",
   "metadata": {},
   "outputs": [
    {
     "data": {
      "text/html": [
       "<div>\n",
       "<style scoped>\n",
       "    .dataframe tbody tr th:only-of-type {\n",
       "        vertical-align: middle;\n",
       "    }\n",
       "\n",
       "    .dataframe tbody tr th {\n",
       "        vertical-align: top;\n",
       "    }\n",
       "\n",
       "    .dataframe thead th {\n",
       "        text-align: right;\n",
       "    }\n",
       "</style>\n",
       "<table border=\"1\" class=\"dataframe\">\n",
       "  <thead>\n",
       "    <tr style=\"text-align: right;\">\n",
       "      <th></th>\n",
       "      <th>School Grade</th>\n",
       "      <th>ALEKS Grade</th>\n",
       "      <th>BOY Mastery</th>\n",
       "      <th>BOY Mastered Topics</th>\n",
       "      <th>EOY Mastery</th>\n",
       "      <th>EOY Mastered Topics</th>\n",
       "      <th>Total Number of Topics</th>\n",
       "      <th>Progress</th>\n",
       "      <th>Learned</th>\n",
       "      <th>Total Time Spent</th>\n",
       "      <th>Target</th>\n",
       "      <th>Learning Rate</th>\n",
       "    </tr>\n",
       "  </thead>\n",
       "  <tbody>\n",
       "    <tr>\n",
       "      <th>101</th>\n",
       "      <td>6</td>\n",
       "      <td>6</td>\n",
       "      <td>0.022876</td>\n",
       "      <td>7</td>\n",
       "      <td>0.049020</td>\n",
       "      <td>15</td>\n",
       "      <td>306</td>\n",
       "      <td>0.026144</td>\n",
       "      <td>12</td>\n",
       "      <td>339.966667</td>\n",
       "      <td>0</td>\n",
       "      <td>2.117855</td>\n",
       "    </tr>\n",
       "    <tr>\n",
       "      <th>5271</th>\n",
       "      <td>6</td>\n",
       "      <td>6</td>\n",
       "      <td>0.042484</td>\n",
       "      <td>13</td>\n",
       "      <td>0.336601</td>\n",
       "      <td>103</td>\n",
       "      <td>306</td>\n",
       "      <td>0.294118</td>\n",
       "      <td>92</td>\n",
       "      <td>1760.516667</td>\n",
       "      <td>1</td>\n",
       "      <td>3.135443</td>\n",
       "    </tr>\n",
       "    <tr>\n",
       "      <th>5146</th>\n",
       "      <td>4</td>\n",
       "      <td>4</td>\n",
       "      <td>0.190202</td>\n",
       "      <td>66</td>\n",
       "      <td>0.475504</td>\n",
       "      <td>165</td>\n",
       "      <td>347</td>\n",
       "      <td>0.285303</td>\n",
       "      <td>112</td>\n",
       "      <td>1748.416667</td>\n",
       "      <td>1</td>\n",
       "      <td>3.843477</td>\n",
       "    </tr>\n",
       "    <tr>\n",
       "      <th>9219</th>\n",
       "      <td>3</td>\n",
       "      <td>3</td>\n",
       "      <td>0.358696</td>\n",
       "      <td>33</td>\n",
       "      <td>0.989130</td>\n",
       "      <td>91</td>\n",
       "      <td>92</td>\n",
       "      <td>0.630435</td>\n",
       "      <td>72</td>\n",
       "      <td>1069.366667</td>\n",
       "      <td>1</td>\n",
       "      <td>4.039774</td>\n",
       "    </tr>\n",
       "    <tr>\n",
       "      <th>1845</th>\n",
       "      <td>7</td>\n",
       "      <td>7</td>\n",
       "      <td>0.072874</td>\n",
       "      <td>18</td>\n",
       "      <td>0.198381</td>\n",
       "      <td>49</td>\n",
       "      <td>247</td>\n",
       "      <td>0.125506</td>\n",
       "      <td>37</td>\n",
       "      <td>489.800000</td>\n",
       "      <td>1</td>\n",
       "      <td>4.532462</td>\n",
       "    </tr>\n",
       "    <tr>\n",
       "      <th>...</th>\n",
       "      <td>...</td>\n",
       "      <td>...</td>\n",
       "      <td>...</td>\n",
       "      <td>...</td>\n",
       "      <td>...</td>\n",
       "      <td>...</td>\n",
       "      <td>...</td>\n",
       "      <td>...</td>\n",
       "      <td>...</td>\n",
       "      <td>...</td>\n",
       "      <td>...</td>\n",
       "      <td>...</td>\n",
       "    </tr>\n",
       "    <tr>\n",
       "      <th>3116</th>\n",
       "      <td>9</td>\n",
       "      <td>9</td>\n",
       "      <td>0.110701</td>\n",
       "      <td>60</td>\n",
       "      <td>0.293358</td>\n",
       "      <td>159</td>\n",
       "      <td>542</td>\n",
       "      <td>0.182657</td>\n",
       "      <td>89</td>\n",
       "      <td>4016.683333</td>\n",
       "      <td>0</td>\n",
       "      <td>1.329455</td>\n",
       "    </tr>\n",
       "    <tr>\n",
       "      <th>2199</th>\n",
       "      <td>7</td>\n",
       "      <td>7</td>\n",
       "      <td>0.085020</td>\n",
       "      <td>21</td>\n",
       "      <td>0.226721</td>\n",
       "      <td>56</td>\n",
       "      <td>247</td>\n",
       "      <td>0.141700</td>\n",
       "      <td>72</td>\n",
       "      <td>1070.950000</td>\n",
       "      <td>0</td>\n",
       "      <td>4.033802</td>\n",
       "    </tr>\n",
       "    <tr>\n",
       "      <th>2503</th>\n",
       "      <td>4</td>\n",
       "      <td>4</td>\n",
       "      <td>0.422680</td>\n",
       "      <td>82</td>\n",
       "      <td>0.577320</td>\n",
       "      <td>112</td>\n",
       "      <td>194</td>\n",
       "      <td>0.154639</td>\n",
       "      <td>29</td>\n",
       "      <td>1268.850000</td>\n",
       "      <td>0</td>\n",
       "      <td>1.371320</td>\n",
       "    </tr>\n",
       "    <tr>\n",
       "      <th>4194</th>\n",
       "      <td>6</td>\n",
       "      <td>6</td>\n",
       "      <td>0.477124</td>\n",
       "      <td>146</td>\n",
       "      <td>0.712418</td>\n",
       "      <td>218</td>\n",
       "      <td>306</td>\n",
       "      <td>0.235294</td>\n",
       "      <td>71</td>\n",
       "      <td>857.133333</td>\n",
       "      <td>1</td>\n",
       "      <td>4.970055</td>\n",
       "    </tr>\n",
       "    <tr>\n",
       "      <th>10183</th>\n",
       "      <td>9</td>\n",
       "      <td>9</td>\n",
       "      <td>0.039660</td>\n",
       "      <td>14</td>\n",
       "      <td>0.889518</td>\n",
       "      <td>314</td>\n",
       "      <td>353</td>\n",
       "      <td>0.849858</td>\n",
       "      <td>345</td>\n",
       "      <td>7239.133333</td>\n",
       "      <td>1</td>\n",
       "      <td>2.859458</td>\n",
       "    </tr>\n",
       "  </tbody>\n",
       "</table>\n",
       "<p>2344 rows × 12 columns</p>\n",
       "</div>"
      ],
      "text/plain": [
       "       School Grade  ALEKS Grade  BOY Mastery  BOY Mastered Topics  \\\n",
       "101               6            6     0.022876                    7   \n",
       "5271              6            6     0.042484                   13   \n",
       "5146              4            4     0.190202                   66   \n",
       "9219              3            3     0.358696                   33   \n",
       "1845              7            7     0.072874                   18   \n",
       "...             ...          ...          ...                  ...   \n",
       "3116              9            9     0.110701                   60   \n",
       "2199              7            7     0.085020                   21   \n",
       "2503              4            4     0.422680                   82   \n",
       "4194              6            6     0.477124                  146   \n",
       "10183             9            9     0.039660                   14   \n",
       "\n",
       "       EOY Mastery  EOY Mastered Topics  Total Number of Topics  Progress  \\\n",
       "101       0.049020                   15                     306  0.026144   \n",
       "5271      0.336601                  103                     306  0.294118   \n",
       "5146      0.475504                  165                     347  0.285303   \n",
       "9219      0.989130                   91                      92  0.630435   \n",
       "1845      0.198381                   49                     247  0.125506   \n",
       "...            ...                  ...                     ...       ...   \n",
       "3116      0.293358                  159                     542  0.182657   \n",
       "2199      0.226721                   56                     247  0.141700   \n",
       "2503      0.577320                  112                     194  0.154639   \n",
       "4194      0.712418                  218                     306  0.235294   \n",
       "10183     0.889518                  314                     353  0.849858   \n",
       "\n",
       "       Learned  Total Time Spent  Target  Learning Rate  \n",
       "101         12        339.966667       0       2.117855  \n",
       "5271        92       1760.516667       1       3.135443  \n",
       "5146       112       1748.416667       1       3.843477  \n",
       "9219        72       1069.366667       1       4.039774  \n",
       "1845        37        489.800000       1       4.532462  \n",
       "...        ...               ...     ...            ...  \n",
       "3116        89       4016.683333       0       1.329455  \n",
       "2199        72       1070.950000       0       4.033802  \n",
       "2503        29       1268.850000       0       1.371320  \n",
       "4194        71        857.133333       1       4.970055  \n",
       "10183      345       7239.133333       1       2.859458  \n",
       "\n",
       "[2344 rows x 12 columns]"
      ]
     },
     "execution_count": 84,
     "metadata": {},
     "output_type": "execute_result"
    }
   ],
   "source": [
    "df_test[\"Learning Rate\"] = df_test[\"Learned\"]*60/(df_test[\"Total Time Spent\"])\n",
    "df_test"
   ]
  },
  {
   "cell_type": "markdown",
   "id": "7186fadb",
   "metadata": {},
   "source": [
    "## Scaling the Data\n",
    "\n",
    "We need to normalize the data since the features have different scales."
   ]
  },
  {
   "cell_type": "code",
   "execution_count": 85,
   "id": "2e294f6c",
   "metadata": {},
   "outputs": [
    {
     "data": {
      "text/html": [
       "<div>\n",
       "<style scoped>\n",
       "    .dataframe tbody tr th:only-of-type {\n",
       "        vertical-align: middle;\n",
       "    }\n",
       "\n",
       "    .dataframe tbody tr th {\n",
       "        vertical-align: top;\n",
       "    }\n",
       "\n",
       "    .dataframe thead th {\n",
       "        text-align: right;\n",
       "    }\n",
       "</style>\n",
       "<table border=\"1\" class=\"dataframe\">\n",
       "  <thead>\n",
       "    <tr style=\"text-align: right;\">\n",
       "      <th></th>\n",
       "      <th>School Grade</th>\n",
       "      <th>ALEKS Grade</th>\n",
       "      <th>BOY Mastery</th>\n",
       "      <th>BOY Mastered Topics</th>\n",
       "      <th>EOY Mastery</th>\n",
       "      <th>EOY Mastered Topics</th>\n",
       "      <th>Total Number of Topics</th>\n",
       "      <th>Progress</th>\n",
       "      <th>Learned</th>\n",
       "      <th>Total Time Spent</th>\n",
       "      <th>Target</th>\n",
       "      <th>Learning Rate</th>\n",
       "    </tr>\n",
       "  </thead>\n",
       "  <tbody>\n",
       "    <tr>\n",
       "      <th>0</th>\n",
       "      <td>1.000000</td>\n",
       "      <td>0.750</td>\n",
       "      <td>0.101238</td>\n",
       "      <td>0.064457</td>\n",
       "      <td>0.373580</td>\n",
       "      <td>0.289967</td>\n",
       "      <td>0.351259</td>\n",
       "      <td>0.366851</td>\n",
       "      <td>0.370307</td>\n",
       "      <td>0.186912</td>\n",
       "      <td>1.0</td>\n",
       "      <td>0.045615</td>\n",
       "    </tr>\n",
       "    <tr>\n",
       "      <th>1</th>\n",
       "      <td>0.333333</td>\n",
       "      <td>0.250</td>\n",
       "      <td>0.097243</td>\n",
       "      <td>0.044199</td>\n",
       "      <td>0.124504</td>\n",
       "      <td>0.068357</td>\n",
       "      <td>0.235698</td>\n",
       "      <td>0.086937</td>\n",
       "      <td>0.093857</td>\n",
       "      <td>0.104993</td>\n",
       "      <td>0.0</td>\n",
       "      <td>0.019092</td>\n",
       "    </tr>\n",
       "    <tr>\n",
       "      <th>2</th>\n",
       "      <td>0.000000</td>\n",
       "      <td>0.000</td>\n",
       "      <td>0.455034</td>\n",
       "      <td>0.075506</td>\n",
       "      <td>0.482229</td>\n",
       "      <td>0.095921</td>\n",
       "      <td>0.052632</td>\n",
       "      <td>0.293117</td>\n",
       "      <td>0.098976</td>\n",
       "      <td>0.041202</td>\n",
       "      <td>1.0</td>\n",
       "      <td>0.040390</td>\n",
       "    </tr>\n",
       "    <tr>\n",
       "      <th>3</th>\n",
       "      <td>0.166667</td>\n",
       "      <td>0.125</td>\n",
       "      <td>0.000000</td>\n",
       "      <td>0.000000</td>\n",
       "      <td>0.086698</td>\n",
       "      <td>0.047409</td>\n",
       "      <td>0.235698</td>\n",
       "      <td>0.098206</td>\n",
       "      <td>0.117747</td>\n",
       "      <td>0.096857</td>\n",
       "      <td>0.0</td>\n",
       "      <td>0.025563</td>\n",
       "    </tr>\n",
       "    <tr>\n",
       "      <th>4</th>\n",
       "      <td>0.333333</td>\n",
       "      <td>0.250</td>\n",
       "      <td>0.259315</td>\n",
       "      <td>0.117864</td>\n",
       "      <td>0.303583</td>\n",
       "      <td>0.167585</td>\n",
       "      <td>0.235698</td>\n",
       "      <td>0.199630</td>\n",
       "      <td>0.186007</td>\n",
       "      <td>0.097585</td>\n",
       "      <td>1.0</td>\n",
       "      <td>0.040057</td>\n",
       "    </tr>\n",
       "    <tr>\n",
       "      <th>...</th>\n",
       "      <td>...</td>\n",
       "      <td>...</td>\n",
       "      <td>...</td>\n",
       "      <td>...</td>\n",
       "      <td>...</td>\n",
       "      <td>...</td>\n",
       "      <td>...</td>\n",
       "      <td>...</td>\n",
       "      <td>...</td>\n",
       "      <td>...</td>\n",
       "      <td>...</td>\n",
       "      <td>...</td>\n",
       "    </tr>\n",
       "    <tr>\n",
       "      <th>9370</th>\n",
       "      <td>0.000000</td>\n",
       "      <td>0.250</td>\n",
       "      <td>0.622021</td>\n",
       "      <td>0.292818</td>\n",
       "      <td>0.948129</td>\n",
       "      <td>0.255788</td>\n",
       "      <td>0.245995</td>\n",
       "      <td>0.727969</td>\n",
       "      <td>0.143345</td>\n",
       "      <td>0.097280</td>\n",
       "      <td>1.0</td>\n",
       "      <td>0.030980</td>\n",
       "    </tr>\n",
       "    <tr>\n",
       "      <th>9371</th>\n",
       "      <td>0.500000</td>\n",
       "      <td>0.375</td>\n",
       "      <td>0.010010</td>\n",
       "      <td>0.005525</td>\n",
       "      <td>0.146274</td>\n",
       "      <td>0.098126</td>\n",
       "      <td>0.297483</td>\n",
       "      <td>0.160121</td>\n",
       "      <td>0.211604</td>\n",
       "      <td>0.132014</td>\n",
       "      <td>0.0</td>\n",
       "      <td>0.035375</td>\n",
       "    </tr>\n",
       "    <tr>\n",
       "      <th>9372</th>\n",
       "      <td>0.000000</td>\n",
       "      <td>0.000</td>\n",
       "      <td>0.000000</td>\n",
       "      <td>0.000000</td>\n",
       "      <td>0.148155</td>\n",
       "      <td>0.056229</td>\n",
       "      <td>0.148741</td>\n",
       "      <td>0.167820</td>\n",
       "      <td>0.104096</td>\n",
       "      <td>0.058946</td>\n",
       "      <td>0.0</td>\n",
       "      <td>0.033200</td>\n",
       "    </tr>\n",
       "    <tr>\n",
       "      <th>9373</th>\n",
       "      <td>0.500000</td>\n",
       "      <td>0.375</td>\n",
       "      <td>0.036705</td>\n",
       "      <td>0.020258</td>\n",
       "      <td>0.054511</td>\n",
       "      <td>0.036384</td>\n",
       "      <td>0.297483</td>\n",
       "      <td>0.041329</td>\n",
       "      <td>0.039249</td>\n",
       "      <td>0.036441</td>\n",
       "      <td>0.0</td>\n",
       "      <td>0.017620</td>\n",
       "    </tr>\n",
       "    <tr>\n",
       "      <th>9374</th>\n",
       "      <td>0.666667</td>\n",
       "      <td>0.500</td>\n",
       "      <td>0.550219</td>\n",
       "      <td>0.370166</td>\n",
       "      <td>0.483792</td>\n",
       "      <td>0.396913</td>\n",
       "      <td>0.374142</td>\n",
       "      <td>0.241940</td>\n",
       "      <td>0.390785</td>\n",
       "      <td>0.663949</td>\n",
       "      <td>1.0</td>\n",
       "      <td>0.014545</td>\n",
       "    </tr>\n",
       "  </tbody>\n",
       "</table>\n",
       "<p>9375 rows × 12 columns</p>\n",
       "</div>"
      ],
      "text/plain": [
       "      School Grade  ALEKS Grade  BOY Mastery  BOY Mastered Topics  \\\n",
       "0         1.000000        0.750     0.101238             0.064457   \n",
       "1         0.333333        0.250     0.097243             0.044199   \n",
       "2         0.000000        0.000     0.455034             0.075506   \n",
       "3         0.166667        0.125     0.000000             0.000000   \n",
       "4         0.333333        0.250     0.259315             0.117864   \n",
       "...            ...          ...          ...                  ...   \n",
       "9370      0.000000        0.250     0.622021             0.292818   \n",
       "9371      0.500000        0.375     0.010010             0.005525   \n",
       "9372      0.000000        0.000     0.000000             0.000000   \n",
       "9373      0.500000        0.375     0.036705             0.020258   \n",
       "9374      0.666667        0.500     0.550219             0.370166   \n",
       "\n",
       "      EOY Mastery  EOY Mastered Topics  Total Number of Topics  Progress  \\\n",
       "0        0.373580             0.289967                0.351259  0.366851   \n",
       "1        0.124504             0.068357                0.235698  0.086937   \n",
       "2        0.482229             0.095921                0.052632  0.293117   \n",
       "3        0.086698             0.047409                0.235698  0.098206   \n",
       "4        0.303583             0.167585                0.235698  0.199630   \n",
       "...           ...                  ...                     ...       ...   \n",
       "9370     0.948129             0.255788                0.245995  0.727969   \n",
       "9371     0.146274             0.098126                0.297483  0.160121   \n",
       "9372     0.148155             0.056229                0.148741  0.167820   \n",
       "9373     0.054511             0.036384                0.297483  0.041329   \n",
       "9374     0.483792             0.396913                0.374142  0.241940   \n",
       "\n",
       "       Learned  Total Time Spent  Target  Learning Rate  \n",
       "0     0.370307          0.186912     1.0       0.045615  \n",
       "1     0.093857          0.104993     0.0       0.019092  \n",
       "2     0.098976          0.041202     1.0       0.040390  \n",
       "3     0.117747          0.096857     0.0       0.025563  \n",
       "4     0.186007          0.097585     1.0       0.040057  \n",
       "...        ...               ...     ...            ...  \n",
       "9370  0.143345          0.097280     1.0       0.030980  \n",
       "9371  0.211604          0.132014     0.0       0.035375  \n",
       "9372  0.104096          0.058946     0.0       0.033200  \n",
       "9373  0.039249          0.036441     0.0       0.017620  \n",
       "9374  0.390785          0.663949     1.0       0.014545  \n",
       "\n",
       "[9375 rows x 12 columns]"
      ]
     },
     "execution_count": 85,
     "metadata": {},
     "output_type": "execute_result"
    }
   ],
   "source": [
    "#Let's normalize the training data first.\n",
    "normal = MinMaxScaler()\n",
    "df_train_normal = normal.fit_transform(df_train)\n",
    "df_train_normal = pd.DataFrame(df_train_normal, columns=df_train.columns)\n",
    "df_train_normal"
   ]
  },
  {
   "cell_type": "code",
   "execution_count": 86,
   "id": "41a6ddb9",
   "metadata": {},
   "outputs": [
    {
     "data": {
      "text/html": [
       "<div>\n",
       "<style scoped>\n",
       "    .dataframe tbody tr th:only-of-type {\n",
       "        vertical-align: middle;\n",
       "    }\n",
       "\n",
       "    .dataframe tbody tr th {\n",
       "        vertical-align: top;\n",
       "    }\n",
       "\n",
       "    .dataframe thead th {\n",
       "        text-align: right;\n",
       "    }\n",
       "</style>\n",
       "<table border=\"1\" class=\"dataframe\">\n",
       "  <thead>\n",
       "    <tr style=\"text-align: right;\">\n",
       "      <th></th>\n",
       "      <th>School Grade</th>\n",
       "      <th>ALEKS Grade</th>\n",
       "      <th>BOY Mastery</th>\n",
       "      <th>BOY Mastered Topics</th>\n",
       "      <th>EOY Mastery</th>\n",
       "      <th>EOY Mastered Topics</th>\n",
       "      <th>Total Number of Topics</th>\n",
       "      <th>Progress</th>\n",
       "      <th>Learned</th>\n",
       "      <th>Total Time Spent</th>\n",
       "      <th>Target</th>\n",
       "      <th>Learning Rate</th>\n",
       "    </tr>\n",
       "  </thead>\n",
       "  <tbody>\n",
       "    <tr>\n",
       "      <th>0</th>\n",
       "      <td>0.500000</td>\n",
       "      <td>0.375</td>\n",
       "      <td>0.025064</td>\n",
       "      <td>0.011309</td>\n",
       "      <td>0.017552</td>\n",
       "      <td>0.011198</td>\n",
       "      <td>0.274232</td>\n",
       "      <td>0.011336</td>\n",
       "      <td>0.020677</td>\n",
       "      <td>0.003096</td>\n",
       "      <td>0.0</td>\n",
       "      <td>0.035993</td>\n",
       "    </tr>\n",
       "    <tr>\n",
       "      <th>1</th>\n",
       "      <td>0.500000</td>\n",
       "      <td>0.375</td>\n",
       "      <td>0.046547</td>\n",
       "      <td>0.021002</td>\n",
       "      <td>0.162368</td>\n",
       "      <td>0.109742</td>\n",
       "      <td>0.274232</td>\n",
       "      <td>0.158184</td>\n",
       "      <td>0.171053</td>\n",
       "      <td>0.112640</td>\n",
       "      <td>1.0</td>\n",
       "      <td>0.054509</td>\n",
       "    </tr>\n",
       "    <tr>\n",
       "      <th>2</th>\n",
       "      <td>0.166667</td>\n",
       "      <td>0.125</td>\n",
       "      <td>0.208395</td>\n",
       "      <td>0.106624</td>\n",
       "      <td>0.232315</td>\n",
       "      <td>0.179171</td>\n",
       "      <td>0.322695</td>\n",
       "      <td>0.153353</td>\n",
       "      <td>0.208647</td>\n",
       "      <td>0.111707</td>\n",
       "      <td>1.0</td>\n",
       "      <td>0.067393</td>\n",
       "    </tr>\n",
       "    <tr>\n",
       "      <th>3</th>\n",
       "      <td>0.000000</td>\n",
       "      <td>0.000</td>\n",
       "      <td>0.393006</td>\n",
       "      <td>0.053312</td>\n",
       "      <td>0.490960</td>\n",
       "      <td>0.096305</td>\n",
       "      <td>0.021277</td>\n",
       "      <td>0.342482</td>\n",
       "      <td>0.133459</td>\n",
       "      <td>0.059343</td>\n",
       "      <td>1.0</td>\n",
       "      <td>0.070965</td>\n",
       "    </tr>\n",
       "    <tr>\n",
       "      <th>4</th>\n",
       "      <td>0.666667</td>\n",
       "      <td>0.500</td>\n",
       "      <td>0.079845</td>\n",
       "      <td>0.029079</td>\n",
       "      <td>0.092765</td>\n",
       "      <td>0.049272</td>\n",
       "      <td>0.204492</td>\n",
       "      <td>0.065786</td>\n",
       "      <td>0.067669</td>\n",
       "      <td>0.014650</td>\n",
       "      <td>1.0</td>\n",
       "      <td>0.079930</td>\n",
       "    </tr>\n",
       "    <tr>\n",
       "      <th>...</th>\n",
       "      <td>...</td>\n",
       "      <td>...</td>\n",
       "      <td>...</td>\n",
       "      <td>...</td>\n",
       "      <td>...</td>\n",
       "      <td>...</td>\n",
       "      <td>...</td>\n",
       "      <td>...</td>\n",
       "      <td>...</td>\n",
       "      <td>...</td>\n",
       "      <td>...</td>\n",
       "      <td>...</td>\n",
       "    </tr>\n",
       "    <tr>\n",
       "      <th>2339</th>\n",
       "      <td>1.000000</td>\n",
       "      <td>0.750</td>\n",
       "      <td>0.121290</td>\n",
       "      <td>0.096931</td>\n",
       "      <td>0.140593</td>\n",
       "      <td>0.172452</td>\n",
       "      <td>0.553191</td>\n",
       "      <td>0.097104</td>\n",
       "      <td>0.165414</td>\n",
       "      <td>0.286622</td>\n",
       "      <td>0.0</td>\n",
       "      <td>0.021646</td>\n",
       "    </tr>\n",
       "    <tr>\n",
       "      <th>2340</th>\n",
       "      <td>0.666667</td>\n",
       "      <td>0.500</td>\n",
       "      <td>0.093153</td>\n",
       "      <td>0.033926</td>\n",
       "      <td>0.107036</td>\n",
       "      <td>0.057111</td>\n",
       "      <td>0.204492</td>\n",
       "      <td>0.074660</td>\n",
       "      <td>0.133459</td>\n",
       "      <td>0.059465</td>\n",
       "      <td>0.0</td>\n",
       "      <td>0.070856</td>\n",
       "    </tr>\n",
       "    <tr>\n",
       "      <th>2341</th>\n",
       "      <td>0.166667</td>\n",
       "      <td>0.125</td>\n",
       "      <td>0.463111</td>\n",
       "      <td>0.132472</td>\n",
       "      <td>0.283586</td>\n",
       "      <td>0.119821</td>\n",
       "      <td>0.141844</td>\n",
       "      <td>0.081751</td>\n",
       "      <td>0.052632</td>\n",
       "      <td>0.074726</td>\n",
       "      <td>0.0</td>\n",
       "      <td>0.022408</td>\n",
       "    </tr>\n",
       "    <tr>\n",
       "      <th>2342</th>\n",
       "      <td>0.500000</td>\n",
       "      <td>0.375</td>\n",
       "      <td>0.522762</td>\n",
       "      <td>0.235864</td>\n",
       "      <td>0.351617</td>\n",
       "      <td>0.238522</td>\n",
       "      <td>0.274232</td>\n",
       "      <td>0.125949</td>\n",
       "      <td>0.131579</td>\n",
       "      <td>0.042977</td>\n",
       "      <td>1.0</td>\n",
       "      <td>0.087893</td>\n",
       "    </tr>\n",
       "    <tr>\n",
       "      <th>2343</th>\n",
       "      <td>1.000000</td>\n",
       "      <td>0.750</td>\n",
       "      <td>0.043454</td>\n",
       "      <td>0.022617</td>\n",
       "      <td>0.440799</td>\n",
       "      <td>0.346025</td>\n",
       "      <td>0.329787</td>\n",
       "      <td>0.462725</td>\n",
       "      <td>0.646617</td>\n",
       "      <td>0.535118</td>\n",
       "      <td>1.0</td>\n",
       "      <td>0.049487</td>\n",
       "    </tr>\n",
       "  </tbody>\n",
       "</table>\n",
       "<p>2344 rows × 12 columns</p>\n",
       "</div>"
      ],
      "text/plain": [
       "      School Grade  ALEKS Grade  BOY Mastery  BOY Mastered Topics  \\\n",
       "0         0.500000        0.375     0.025064             0.011309   \n",
       "1         0.500000        0.375     0.046547             0.021002   \n",
       "2         0.166667        0.125     0.208395             0.106624   \n",
       "3         0.000000        0.000     0.393006             0.053312   \n",
       "4         0.666667        0.500     0.079845             0.029079   \n",
       "...            ...          ...          ...                  ...   \n",
       "2339      1.000000        0.750     0.121290             0.096931   \n",
       "2340      0.666667        0.500     0.093153             0.033926   \n",
       "2341      0.166667        0.125     0.463111             0.132472   \n",
       "2342      0.500000        0.375     0.522762             0.235864   \n",
       "2343      1.000000        0.750     0.043454             0.022617   \n",
       "\n",
       "      EOY Mastery  EOY Mastered Topics  Total Number of Topics  Progress  \\\n",
       "0        0.017552             0.011198                0.274232  0.011336   \n",
       "1        0.162368             0.109742                0.274232  0.158184   \n",
       "2        0.232315             0.179171                0.322695  0.153353   \n",
       "3        0.490960             0.096305                0.021277  0.342482   \n",
       "4        0.092765             0.049272                0.204492  0.065786   \n",
       "...           ...                  ...                     ...       ...   \n",
       "2339     0.140593             0.172452                0.553191  0.097104   \n",
       "2340     0.107036             0.057111                0.204492  0.074660   \n",
       "2341     0.283586             0.119821                0.141844  0.081751   \n",
       "2342     0.351617             0.238522                0.274232  0.125949   \n",
       "2343     0.440799             0.346025                0.329787  0.462725   \n",
       "\n",
       "       Learned  Total Time Spent  Target  Learning Rate  \n",
       "0     0.020677          0.003096     0.0       0.035993  \n",
       "1     0.171053          0.112640     1.0       0.054509  \n",
       "2     0.208647          0.111707     1.0       0.067393  \n",
       "3     0.133459          0.059343     1.0       0.070965  \n",
       "4     0.067669          0.014650     1.0       0.079930  \n",
       "...        ...               ...     ...            ...  \n",
       "2339  0.165414          0.286622     0.0       0.021646  \n",
       "2340  0.133459          0.059465     0.0       0.070856  \n",
       "2341  0.052632          0.074726     0.0       0.022408  \n",
       "2342  0.131579          0.042977     1.0       0.087893  \n",
       "2343  0.646617          0.535118     1.0       0.049487  \n",
       "\n",
       "[2344 rows x 12 columns]"
      ]
     },
     "execution_count": 86,
     "metadata": {},
     "output_type": "execute_result"
    }
   ],
   "source": [
    "#Let's normalize the testing data next.\n",
    "normal = MinMaxScaler()\n",
    "df_test_normal = normal.fit_transform(df_test)\n",
    "df_test_normal = pd.DataFrame(df_test_normal, columns=df_test.columns)\n",
    "df_test_normal"
   ]
  },
  {
   "cell_type": "markdown",
   "id": "de5d5cdc",
   "metadata": {},
   "source": [
    "## Modeling the Data"
   ]
  },
  {
   "cell_type": "code",
   "execution_count": 475,
   "id": "82113eff",
   "metadata": {},
   "outputs": [],
   "source": [
    "#Models that will be used\n",
    "model_list = [LogisticRegression, GaussianNB, DecisionTreeClassifier, LinearSVC, KNeighborsClassifier,\n",
    "              RandomForestClassifier, GradientBoostingClassifier, SGDClassifier, XGBClassifier,\n",
    "             LGBMClassifier, LinearDiscriminantAnalysis, AdaBoostClassifier]\n",
    "\n",
    "#Name of the models\n",
    "model_names = ['Logistic Regression', 'Gaussian Naive Bayes', 'Decision Tree Classifier', 'Linear SVC', \n",
    "               'KNeighbors Classifier', 'Random Forest Classifier', 'Gradient Boosting Classifier', 'SGD Classifier',\n",
    "              'XGB Classifier', 'LGBM Classifier','Linear Discriminant Analysis','AdaBoost Classifier']"
   ]
  },
  {
   "cell_type": "markdown",
   "id": "7f791576",
   "metadata": {},
   "source": [
    "Let's create a function that takes the training set as input and gives the accuracy of each model as output."
   ]
  },
  {
   "cell_type": "code",
   "execution_count": 471,
   "id": "7c7fd936",
   "metadata": {},
   "outputs": [],
   "source": [
    "def train_clf_model(clf_list, clf_names, x_train, y_train):\n",
    "    \"\"\"\n",
    "    This function returns the accuracy scores of the training data for each models used, in descending order.\n",
    "\n",
    "    Parameters\n",
    "    ----------\n",
    "    clf_list : list\n",
    "        List of the models to be used.\n",
    "    clf_names : list\n",
    "        List of the model names.\n",
    "    x_train : dataframe values\n",
    "        Feature values of the training set.\n",
    "    y_train : list\n",
    "        Target values of the training set.\n",
    "        \n",
    "    Returns\n",
    "    -------\n",
    "    Pandas DataFrame\n",
    "        Accuracy scores of the training data for each model.\n",
    "    \"\"\"    \n",
    "    \n",
    "    training_scores = []\n",
    "    \n",
    "    for index, clf in enumerate(clf_list):\n",
    "        model = clf()\n",
    "         \n",
    "        cv = RepeatedStratifiedKFold(n_splits=5, n_repeats=5, random_state=random_seed) #StratifiedKFold(n_splits=4, shuffle=True)\n",
    "        \n",
    "        #keep the mean of cross validation scores of the training set\n",
    "        scores = cross_val_score(model, x_train, y_train, scoring='accuracy', cv=cv)\n",
    "        training_scores.append(scores.mean())\n",
    "    \n",
    "    #create a dataframe to present results\n",
    "    data = {'Classifier Names': clf_names,\n",
    "            'Accuracy Score': training_scores}\n",
    "    \n",
    "    #maximum 4 decimal points should be sufficient to compare score values\n",
    "    pd.options.display.float_format = '{:.4f}'.format\n",
    "    df = pd.DataFrame(data)\n",
    "    \n",
    "    return df.sort_values(by='Accuracy Score', ascending=False).reset_index(drop=True)"
   ]
  },
  {
   "cell_type": "code",
   "execution_count": 118,
   "id": "8e6988ca",
   "metadata": {
    "scrolled": true
   },
   "outputs": [
    {
     "data": {
      "text/html": [
       "<div>\n",
       "<style scoped>\n",
       "    .dataframe tbody tr th:only-of-type {\n",
       "        vertical-align: middle;\n",
       "    }\n",
       "\n",
       "    .dataframe tbody tr th {\n",
       "        vertical-align: top;\n",
       "    }\n",
       "\n",
       "    .dataframe thead th {\n",
       "        text-align: right;\n",
       "    }\n",
       "</style>\n",
       "<table border=\"1\" class=\"dataframe\">\n",
       "  <thead>\n",
       "    <tr style=\"text-align: right;\">\n",
       "      <th></th>\n",
       "      <th>School Grade</th>\n",
       "      <th>ALEKS Grade</th>\n",
       "      <th>BOY Mastery</th>\n",
       "      <th>BOY Mastered Topics</th>\n",
       "      <th>EOY Mastery</th>\n",
       "      <th>EOY Mastered Topics</th>\n",
       "      <th>Total Number of Topics</th>\n",
       "      <th>Progress</th>\n",
       "      <th>Learned</th>\n",
       "      <th>Total Time Spent</th>\n",
       "      <th>Learning Rate</th>\n",
       "    </tr>\n",
       "  </thead>\n",
       "  <tbody>\n",
       "    <tr>\n",
       "      <th>0</th>\n",
       "      <td>1.0000</td>\n",
       "      <td>0.7500</td>\n",
       "      <td>0.1012</td>\n",
       "      <td>0.0645</td>\n",
       "      <td>0.3736</td>\n",
       "      <td>0.2900</td>\n",
       "      <td>0.3513</td>\n",
       "      <td>0.3669</td>\n",
       "      <td>0.3703</td>\n",
       "      <td>0.1869</td>\n",
       "      <td>0.0456</td>\n",
       "    </tr>\n",
       "    <tr>\n",
       "      <th>1</th>\n",
       "      <td>0.3333</td>\n",
       "      <td>0.2500</td>\n",
       "      <td>0.0972</td>\n",
       "      <td>0.0442</td>\n",
       "      <td>0.1245</td>\n",
       "      <td>0.0684</td>\n",
       "      <td>0.2357</td>\n",
       "      <td>0.0869</td>\n",
       "      <td>0.0939</td>\n",
       "      <td>0.1050</td>\n",
       "      <td>0.0191</td>\n",
       "    </tr>\n",
       "    <tr>\n",
       "      <th>2</th>\n",
       "      <td>0.0000</td>\n",
       "      <td>0.0000</td>\n",
       "      <td>0.4550</td>\n",
       "      <td>0.0755</td>\n",
       "      <td>0.4822</td>\n",
       "      <td>0.0959</td>\n",
       "      <td>0.0526</td>\n",
       "      <td>0.2931</td>\n",
       "      <td>0.0990</td>\n",
       "      <td>0.0412</td>\n",
       "      <td>0.0404</td>\n",
       "    </tr>\n",
       "    <tr>\n",
       "      <th>3</th>\n",
       "      <td>0.1667</td>\n",
       "      <td>0.1250</td>\n",
       "      <td>0.0000</td>\n",
       "      <td>0.0000</td>\n",
       "      <td>0.0867</td>\n",
       "      <td>0.0474</td>\n",
       "      <td>0.2357</td>\n",
       "      <td>0.0982</td>\n",
       "      <td>0.1177</td>\n",
       "      <td>0.0969</td>\n",
       "      <td>0.0256</td>\n",
       "    </tr>\n",
       "    <tr>\n",
       "      <th>4</th>\n",
       "      <td>0.3333</td>\n",
       "      <td>0.2500</td>\n",
       "      <td>0.2593</td>\n",
       "      <td>0.1179</td>\n",
       "      <td>0.3036</td>\n",
       "      <td>0.1676</td>\n",
       "      <td>0.2357</td>\n",
       "      <td>0.1996</td>\n",
       "      <td>0.1860</td>\n",
       "      <td>0.0976</td>\n",
       "      <td>0.0401</td>\n",
       "    </tr>\n",
       "    <tr>\n",
       "      <th>...</th>\n",
       "      <td>...</td>\n",
       "      <td>...</td>\n",
       "      <td>...</td>\n",
       "      <td>...</td>\n",
       "      <td>...</td>\n",
       "      <td>...</td>\n",
       "      <td>...</td>\n",
       "      <td>...</td>\n",
       "      <td>...</td>\n",
       "      <td>...</td>\n",
       "      <td>...</td>\n",
       "    </tr>\n",
       "    <tr>\n",
       "      <th>9370</th>\n",
       "      <td>0.0000</td>\n",
       "      <td>0.2500</td>\n",
       "      <td>0.6220</td>\n",
       "      <td>0.2928</td>\n",
       "      <td>0.9481</td>\n",
       "      <td>0.2558</td>\n",
       "      <td>0.2460</td>\n",
       "      <td>0.7280</td>\n",
       "      <td>0.1433</td>\n",
       "      <td>0.0973</td>\n",
       "      <td>0.0310</td>\n",
       "    </tr>\n",
       "    <tr>\n",
       "      <th>9371</th>\n",
       "      <td>0.5000</td>\n",
       "      <td>0.3750</td>\n",
       "      <td>0.0100</td>\n",
       "      <td>0.0055</td>\n",
       "      <td>0.1463</td>\n",
       "      <td>0.0981</td>\n",
       "      <td>0.2975</td>\n",
       "      <td>0.1601</td>\n",
       "      <td>0.2116</td>\n",
       "      <td>0.1320</td>\n",
       "      <td>0.0354</td>\n",
       "    </tr>\n",
       "    <tr>\n",
       "      <th>9372</th>\n",
       "      <td>0.0000</td>\n",
       "      <td>0.0000</td>\n",
       "      <td>0.0000</td>\n",
       "      <td>0.0000</td>\n",
       "      <td>0.1482</td>\n",
       "      <td>0.0562</td>\n",
       "      <td>0.1487</td>\n",
       "      <td>0.1678</td>\n",
       "      <td>0.1041</td>\n",
       "      <td>0.0589</td>\n",
       "      <td>0.0332</td>\n",
       "    </tr>\n",
       "    <tr>\n",
       "      <th>9373</th>\n",
       "      <td>0.5000</td>\n",
       "      <td>0.3750</td>\n",
       "      <td>0.0367</td>\n",
       "      <td>0.0203</td>\n",
       "      <td>0.0545</td>\n",
       "      <td>0.0364</td>\n",
       "      <td>0.2975</td>\n",
       "      <td>0.0413</td>\n",
       "      <td>0.0392</td>\n",
       "      <td>0.0364</td>\n",
       "      <td>0.0176</td>\n",
       "    </tr>\n",
       "    <tr>\n",
       "      <th>9374</th>\n",
       "      <td>0.6667</td>\n",
       "      <td>0.5000</td>\n",
       "      <td>0.5502</td>\n",
       "      <td>0.3702</td>\n",
       "      <td>0.4838</td>\n",
       "      <td>0.3969</td>\n",
       "      <td>0.3741</td>\n",
       "      <td>0.2419</td>\n",
       "      <td>0.3908</td>\n",
       "      <td>0.6639</td>\n",
       "      <td>0.0145</td>\n",
       "    </tr>\n",
       "  </tbody>\n",
       "</table>\n",
       "<p>9375 rows × 11 columns</p>\n",
       "</div>"
      ],
      "text/plain": [
       "      School Grade  ALEKS Grade  BOY Mastery  BOY Mastered Topics  \\\n",
       "0           1.0000       0.7500       0.1012               0.0645   \n",
       "1           0.3333       0.2500       0.0972               0.0442   \n",
       "2           0.0000       0.0000       0.4550               0.0755   \n",
       "3           0.1667       0.1250       0.0000               0.0000   \n",
       "4           0.3333       0.2500       0.2593               0.1179   \n",
       "...            ...          ...          ...                  ...   \n",
       "9370        0.0000       0.2500       0.6220               0.2928   \n",
       "9371        0.5000       0.3750       0.0100               0.0055   \n",
       "9372        0.0000       0.0000       0.0000               0.0000   \n",
       "9373        0.5000       0.3750       0.0367               0.0203   \n",
       "9374        0.6667       0.5000       0.5502               0.3702   \n",
       "\n",
       "      EOY Mastery  EOY Mastered Topics  Total Number of Topics  Progress  \\\n",
       "0          0.3736               0.2900                  0.3513    0.3669   \n",
       "1          0.1245               0.0684                  0.2357    0.0869   \n",
       "2          0.4822               0.0959                  0.0526    0.2931   \n",
       "3          0.0867               0.0474                  0.2357    0.0982   \n",
       "4          0.3036               0.1676                  0.2357    0.1996   \n",
       "...           ...                  ...                     ...       ...   \n",
       "9370       0.9481               0.2558                  0.2460    0.7280   \n",
       "9371       0.1463               0.0981                  0.2975    0.1601   \n",
       "9372       0.1482               0.0562                  0.1487    0.1678   \n",
       "9373       0.0545               0.0364                  0.2975    0.0413   \n",
       "9374       0.4838               0.3969                  0.3741    0.2419   \n",
       "\n",
       "      Learned  Total Time Spent  Learning Rate  \n",
       "0      0.3703            0.1869         0.0456  \n",
       "1      0.0939            0.1050         0.0191  \n",
       "2      0.0990            0.0412         0.0404  \n",
       "3      0.1177            0.0969         0.0256  \n",
       "4      0.1860            0.0976         0.0401  \n",
       "...       ...               ...            ...  \n",
       "9370   0.1433            0.0973         0.0310  \n",
       "9371   0.2116            0.1320         0.0354  \n",
       "9372   0.1041            0.0589         0.0332  \n",
       "9373   0.0392            0.0364         0.0176  \n",
       "9374   0.3908            0.6639         0.0145  \n",
       "\n",
       "[9375 rows x 11 columns]"
      ]
     },
     "execution_count": 118,
     "metadata": {},
     "output_type": "execute_result"
    }
   ],
   "source": [
    "X_train = df_train_normal.drop(columns=\"Target\")\n",
    "X_train"
   ]
  },
  {
   "cell_type": "code",
   "execution_count": 90,
   "id": "bbd9c43d",
   "metadata": {
    "scrolled": true
   },
   "outputs": [
    {
     "data": {
      "text/plain": [
       "0       1.0\n",
       "1       0.0\n",
       "2       1.0\n",
       "3       0.0\n",
       "4       1.0\n",
       "       ... \n",
       "9370    1.0\n",
       "9371    0.0\n",
       "9372    0.0\n",
       "9373    0.0\n",
       "9374    1.0\n",
       "Name: Target, Length: 9375, dtype: float64"
      ]
     },
     "execution_count": 90,
     "metadata": {},
     "output_type": "execute_result"
    }
   ],
   "source": [
    "Y_train = df_train_normal[\"Target\"]\n",
    "Y_train"
   ]
  },
  {
   "cell_type": "code",
   "execution_count": 120,
   "id": "bfd68269",
   "metadata": {
    "scrolled": true
   },
   "outputs": [
    {
     "data": {
      "text/html": [
       "<div>\n",
       "<style scoped>\n",
       "    .dataframe tbody tr th:only-of-type {\n",
       "        vertical-align: middle;\n",
       "    }\n",
       "\n",
       "    .dataframe tbody tr th {\n",
       "        vertical-align: top;\n",
       "    }\n",
       "\n",
       "    .dataframe thead th {\n",
       "        text-align: right;\n",
       "    }\n",
       "</style>\n",
       "<table border=\"1\" class=\"dataframe\">\n",
       "  <thead>\n",
       "    <tr style=\"text-align: right;\">\n",
       "      <th></th>\n",
       "      <th>School Grade</th>\n",
       "      <th>ALEKS Grade</th>\n",
       "      <th>BOY Mastery</th>\n",
       "      <th>BOY Mastered Topics</th>\n",
       "      <th>EOY Mastery</th>\n",
       "      <th>EOY Mastered Topics</th>\n",
       "      <th>Total Number of Topics</th>\n",
       "      <th>Progress</th>\n",
       "      <th>Learned</th>\n",
       "      <th>Total Time Spent</th>\n",
       "      <th>Learning Rate</th>\n",
       "    </tr>\n",
       "  </thead>\n",
       "  <tbody>\n",
       "    <tr>\n",
       "      <th>0</th>\n",
       "      <td>0.5000</td>\n",
       "      <td>0.3750</td>\n",
       "      <td>0.0251</td>\n",
       "      <td>0.0113</td>\n",
       "      <td>0.0176</td>\n",
       "      <td>0.0112</td>\n",
       "      <td>0.2742</td>\n",
       "      <td>0.0113</td>\n",
       "      <td>0.0207</td>\n",
       "      <td>0.0031</td>\n",
       "      <td>0.0360</td>\n",
       "    </tr>\n",
       "    <tr>\n",
       "      <th>1</th>\n",
       "      <td>0.5000</td>\n",
       "      <td>0.3750</td>\n",
       "      <td>0.0465</td>\n",
       "      <td>0.0210</td>\n",
       "      <td>0.1624</td>\n",
       "      <td>0.1097</td>\n",
       "      <td>0.2742</td>\n",
       "      <td>0.1582</td>\n",
       "      <td>0.1711</td>\n",
       "      <td>0.1126</td>\n",
       "      <td>0.0545</td>\n",
       "    </tr>\n",
       "    <tr>\n",
       "      <th>2</th>\n",
       "      <td>0.1667</td>\n",
       "      <td>0.1250</td>\n",
       "      <td>0.2084</td>\n",
       "      <td>0.1066</td>\n",
       "      <td>0.2323</td>\n",
       "      <td>0.1792</td>\n",
       "      <td>0.3227</td>\n",
       "      <td>0.1534</td>\n",
       "      <td>0.2086</td>\n",
       "      <td>0.1117</td>\n",
       "      <td>0.0674</td>\n",
       "    </tr>\n",
       "    <tr>\n",
       "      <th>3</th>\n",
       "      <td>0.0000</td>\n",
       "      <td>0.0000</td>\n",
       "      <td>0.3930</td>\n",
       "      <td>0.0533</td>\n",
       "      <td>0.4910</td>\n",
       "      <td>0.0963</td>\n",
       "      <td>0.0213</td>\n",
       "      <td>0.3425</td>\n",
       "      <td>0.1335</td>\n",
       "      <td>0.0593</td>\n",
       "      <td>0.0710</td>\n",
       "    </tr>\n",
       "    <tr>\n",
       "      <th>4</th>\n",
       "      <td>0.6667</td>\n",
       "      <td>0.5000</td>\n",
       "      <td>0.0798</td>\n",
       "      <td>0.0291</td>\n",
       "      <td>0.0928</td>\n",
       "      <td>0.0493</td>\n",
       "      <td>0.2045</td>\n",
       "      <td>0.0658</td>\n",
       "      <td>0.0677</td>\n",
       "      <td>0.0147</td>\n",
       "      <td>0.0799</td>\n",
       "    </tr>\n",
       "    <tr>\n",
       "      <th>...</th>\n",
       "      <td>...</td>\n",
       "      <td>...</td>\n",
       "      <td>...</td>\n",
       "      <td>...</td>\n",
       "      <td>...</td>\n",
       "      <td>...</td>\n",
       "      <td>...</td>\n",
       "      <td>...</td>\n",
       "      <td>...</td>\n",
       "      <td>...</td>\n",
       "      <td>...</td>\n",
       "    </tr>\n",
       "    <tr>\n",
       "      <th>2339</th>\n",
       "      <td>1.0000</td>\n",
       "      <td>0.7500</td>\n",
       "      <td>0.1213</td>\n",
       "      <td>0.0969</td>\n",
       "      <td>0.1406</td>\n",
       "      <td>0.1725</td>\n",
       "      <td>0.5532</td>\n",
       "      <td>0.0971</td>\n",
       "      <td>0.1654</td>\n",
       "      <td>0.2866</td>\n",
       "      <td>0.0216</td>\n",
       "    </tr>\n",
       "    <tr>\n",
       "      <th>2340</th>\n",
       "      <td>0.6667</td>\n",
       "      <td>0.5000</td>\n",
       "      <td>0.0932</td>\n",
       "      <td>0.0339</td>\n",
       "      <td>0.1070</td>\n",
       "      <td>0.0571</td>\n",
       "      <td>0.2045</td>\n",
       "      <td>0.0747</td>\n",
       "      <td>0.1335</td>\n",
       "      <td>0.0595</td>\n",
       "      <td>0.0709</td>\n",
       "    </tr>\n",
       "    <tr>\n",
       "      <th>2341</th>\n",
       "      <td>0.1667</td>\n",
       "      <td>0.1250</td>\n",
       "      <td>0.4631</td>\n",
       "      <td>0.1325</td>\n",
       "      <td>0.2836</td>\n",
       "      <td>0.1198</td>\n",
       "      <td>0.1418</td>\n",
       "      <td>0.0818</td>\n",
       "      <td>0.0526</td>\n",
       "      <td>0.0747</td>\n",
       "      <td>0.0224</td>\n",
       "    </tr>\n",
       "    <tr>\n",
       "      <th>2342</th>\n",
       "      <td>0.5000</td>\n",
       "      <td>0.3750</td>\n",
       "      <td>0.5228</td>\n",
       "      <td>0.2359</td>\n",
       "      <td>0.3516</td>\n",
       "      <td>0.2385</td>\n",
       "      <td>0.2742</td>\n",
       "      <td>0.1259</td>\n",
       "      <td>0.1316</td>\n",
       "      <td>0.0430</td>\n",
       "      <td>0.0879</td>\n",
       "    </tr>\n",
       "    <tr>\n",
       "      <th>2343</th>\n",
       "      <td>1.0000</td>\n",
       "      <td>0.7500</td>\n",
       "      <td>0.0435</td>\n",
       "      <td>0.0226</td>\n",
       "      <td>0.4408</td>\n",
       "      <td>0.3460</td>\n",
       "      <td>0.3298</td>\n",
       "      <td>0.4627</td>\n",
       "      <td>0.6466</td>\n",
       "      <td>0.5351</td>\n",
       "      <td>0.0495</td>\n",
       "    </tr>\n",
       "  </tbody>\n",
       "</table>\n",
       "<p>2344 rows × 11 columns</p>\n",
       "</div>"
      ],
      "text/plain": [
       "      School Grade  ALEKS Grade  BOY Mastery  BOY Mastered Topics  \\\n",
       "0           0.5000       0.3750       0.0251               0.0113   \n",
       "1           0.5000       0.3750       0.0465               0.0210   \n",
       "2           0.1667       0.1250       0.2084               0.1066   \n",
       "3           0.0000       0.0000       0.3930               0.0533   \n",
       "4           0.6667       0.5000       0.0798               0.0291   \n",
       "...            ...          ...          ...                  ...   \n",
       "2339        1.0000       0.7500       0.1213               0.0969   \n",
       "2340        0.6667       0.5000       0.0932               0.0339   \n",
       "2341        0.1667       0.1250       0.4631               0.1325   \n",
       "2342        0.5000       0.3750       0.5228               0.2359   \n",
       "2343        1.0000       0.7500       0.0435               0.0226   \n",
       "\n",
       "      EOY Mastery  EOY Mastered Topics  Total Number of Topics  Progress  \\\n",
       "0          0.0176               0.0112                  0.2742    0.0113   \n",
       "1          0.1624               0.1097                  0.2742    0.1582   \n",
       "2          0.2323               0.1792                  0.3227    0.1534   \n",
       "3          0.4910               0.0963                  0.0213    0.3425   \n",
       "4          0.0928               0.0493                  0.2045    0.0658   \n",
       "...           ...                  ...                     ...       ...   \n",
       "2339       0.1406               0.1725                  0.5532    0.0971   \n",
       "2340       0.1070               0.0571                  0.2045    0.0747   \n",
       "2341       0.2836               0.1198                  0.1418    0.0818   \n",
       "2342       0.3516               0.2385                  0.2742    0.1259   \n",
       "2343       0.4408               0.3460                  0.3298    0.4627   \n",
       "\n",
       "      Learned  Total Time Spent  Learning Rate  \n",
       "0      0.0207            0.0031         0.0360  \n",
       "1      0.1711            0.1126         0.0545  \n",
       "2      0.2086            0.1117         0.0674  \n",
       "3      0.1335            0.0593         0.0710  \n",
       "4      0.0677            0.0147         0.0799  \n",
       "...       ...               ...            ...  \n",
       "2339   0.1654            0.2866         0.0216  \n",
       "2340   0.1335            0.0595         0.0709  \n",
       "2341   0.0526            0.0747         0.0224  \n",
       "2342   0.1316            0.0430         0.0879  \n",
       "2343   0.6466            0.5351         0.0495  \n",
       "\n",
       "[2344 rows x 11 columns]"
      ]
     },
     "execution_count": 120,
     "metadata": {},
     "output_type": "execute_result"
    }
   ],
   "source": [
    "X_test = df_test_normal.drop(columns=\"Target\")\n",
    "X_test"
   ]
  },
  {
   "cell_type": "code",
   "execution_count": 93,
   "id": "a496f71c",
   "metadata": {
    "scrolled": true
   },
   "outputs": [
    {
     "data": {
      "text/plain": [
       "0      0.0000\n",
       "1      1.0000\n",
       "2      1.0000\n",
       "3      1.0000\n",
       "4      1.0000\n",
       "        ...  \n",
       "2339   0.0000\n",
       "2340   0.0000\n",
       "2341   0.0000\n",
       "2342   1.0000\n",
       "2343   1.0000\n",
       "Name: Target, Length: 2344, dtype: float64"
      ]
     },
     "execution_count": 93,
     "metadata": {},
     "output_type": "execute_result"
    }
   ],
   "source": [
    "Y_test = df_test_normal[\"Target\"]\n",
    "Y_test"
   ]
  },
  {
   "cell_type": "code",
   "execution_count": 472,
   "id": "868e4bd0",
   "metadata": {},
   "outputs": [
    {
     "data": {
      "text/html": [
       "<div>\n",
       "<style scoped>\n",
       "    .dataframe tbody tr th:only-of-type {\n",
       "        vertical-align: middle;\n",
       "    }\n",
       "\n",
       "    .dataframe tbody tr th {\n",
       "        vertical-align: top;\n",
       "    }\n",
       "\n",
       "    .dataframe thead th {\n",
       "        text-align: right;\n",
       "    }\n",
       "</style>\n",
       "<table border=\"1\" class=\"dataframe\">\n",
       "  <thead>\n",
       "    <tr style=\"text-align: right;\">\n",
       "      <th></th>\n",
       "      <th>Classifier Names</th>\n",
       "      <th>Accuracy Score</th>\n",
       "    </tr>\n",
       "  </thead>\n",
       "  <tbody>\n",
       "    <tr>\n",
       "      <th>0</th>\n",
       "      <td>Gradient Boosting Classifier</td>\n",
       "      <td>0.8331</td>\n",
       "    </tr>\n",
       "    <tr>\n",
       "      <th>1</th>\n",
       "      <td>LGBM Classifier</td>\n",
       "      <td>0.8331</td>\n",
       "    </tr>\n",
       "    <tr>\n",
       "      <th>2</th>\n",
       "      <td>AdaBoost Classifier</td>\n",
       "      <td>0.8271</td>\n",
       "    </tr>\n",
       "    <tr>\n",
       "      <th>3</th>\n",
       "      <td>Random Forest Classifier</td>\n",
       "      <td>0.8271</td>\n",
       "    </tr>\n",
       "    <tr>\n",
       "      <th>4</th>\n",
       "      <td>KNeighbors Classifier</td>\n",
       "      <td>0.8234</td>\n",
       "    </tr>\n",
       "    <tr>\n",
       "      <th>5</th>\n",
       "      <td>XGB Classifier</td>\n",
       "      <td>0.8227</td>\n",
       "    </tr>\n",
       "    <tr>\n",
       "      <th>6</th>\n",
       "      <td>Linear SVC</td>\n",
       "      <td>0.8020</td>\n",
       "    </tr>\n",
       "    <tr>\n",
       "      <th>7</th>\n",
       "      <td>Logistic Regression</td>\n",
       "      <td>0.7987</td>\n",
       "    </tr>\n",
       "    <tr>\n",
       "      <th>8</th>\n",
       "      <td>Linear Discriminant Analysis</td>\n",
       "      <td>0.7963</td>\n",
       "    </tr>\n",
       "    <tr>\n",
       "      <th>9</th>\n",
       "      <td>SGD Classifier</td>\n",
       "      <td>0.7936</td>\n",
       "    </tr>\n",
       "    <tr>\n",
       "      <th>10</th>\n",
       "      <td>Decision Tree Classifier</td>\n",
       "      <td>0.7707</td>\n",
       "    </tr>\n",
       "    <tr>\n",
       "      <th>11</th>\n",
       "      <td>Gaussian Naive Bayes</td>\n",
       "      <td>0.6535</td>\n",
       "    </tr>\n",
       "  </tbody>\n",
       "</table>\n",
       "</div>"
      ],
      "text/plain": [
       "                Classifier Names  Accuracy Score\n",
       "0   Gradient Boosting Classifier          0.8331\n",
       "1                LGBM Classifier          0.8331\n",
       "2            AdaBoost Classifier          0.8271\n",
       "3       Random Forest Classifier          0.8271\n",
       "4          KNeighbors Classifier          0.8234\n",
       "5                 XGB Classifier          0.8227\n",
       "6                     Linear SVC          0.8020\n",
       "7            Logistic Regression          0.7987\n",
       "8   Linear Discriminant Analysis          0.7963\n",
       "9                 SGD Classifier          0.7936\n",
       "10      Decision Tree Classifier          0.7707\n",
       "11          Gaussian Naive Bayes          0.6535"
      ]
     },
     "execution_count": 472,
     "metadata": {},
     "output_type": "execute_result"
    }
   ],
   "source": [
    "train_clf_model(model_list, model_names, X_train, Y_train)"
   ]
  },
  {
   "cell_type": "markdown",
   "id": "64307309",
   "metadata": {},
   "source": [
    "Gradient Boosting Classifier has the highest accuracy.\n",
    "\n",
    "\n",
    "### Hyperparameter Tuning with Grid Search"
   ]
  },
  {
   "cell_type": "code",
   "execution_count": 490,
   "id": "294ac127",
   "metadata": {},
   "outputs": [
    {
     "data": {
      "text/plain": [
       "({'max_depth': 5}, 0.8344533333333333)"
      ]
     },
     "execution_count": 490,
     "metadata": {},
     "output_type": "execute_result"
    }
   ],
   "source": [
    "params = {\n",
    "#     'n_estimators':range(100,1000,100),\n",
    "#     'subsample':[0.6,0.7,0.75,0.8,0.85,0.9, 1.0],\n",
    "#     'max_features':range(1,10),\n",
    "#     'min_samples_split':range(1,10),\n",
    "#     'min_samples_leaf':range(1,10),\n",
    "    'max_depth':range(1,10),\n",
    "}\n",
    "gsearch = GridSearchCV(estimator = GradientBoostingClassifier(), \n",
    "param_grid = params, scoring='accuracy',n_jobs=2, cv=5)\n",
    "gsearch.fit(X_train, Y_train)\n",
    "gsearch.best_params_, gsearch.best_score_"
   ]
  },
  {
   "cell_type": "markdown",
   "id": "ce4c60a3",
   "metadata": {},
   "source": [
    "So, max_depth=5 will give us better score than the default value of 3.\n",
    "\n",
    "We have tried to optimize other parameters but they did not improve the model accuracy."
   ]
  },
  {
   "cell_type": "code",
   "execution_count": 504,
   "id": "dc64b278",
   "metadata": {},
   "outputs": [
    {
     "name": "stdout",
     "output_type": "stream",
     "text": [
      "The accuracy score without hyperparameter optimization is 82.85%\n",
      "The accuracy score with the hyperparameter optimization is 83.23%\n"
     ]
    }
   ],
   "source": [
    "#model selection\n",
    "model_1 = GradientBoostingClassifier()\n",
    "model = GradientBoostingClassifier(max_depth=5)\n",
    "\n",
    "#fitting it on the training set\n",
    "model_1.fit(X_train, Y_train)\n",
    "model.fit(X_train, Y_train)\n",
    "\n",
    "#predict the y values based on X_test with and without the hyperparameter tuning:\n",
    "y_pred_1 = model_1.predict(X_test)\n",
    "y_pred = model.predict(X_test)    \n",
    "\n",
    "#accuracy of the test set\n",
    "print('The accuracy score without hyperparameter optimization is {:.2f}%'.format(accuracy_score(Y_test, y_pred_1)*100))\n",
    "print('The accuracy score with the hyperparameter optimization is {:.2f}%'.format(accuracy_score(Y_test, y_pred)*100))"
   ]
  },
  {
   "cell_type": "markdown",
   "id": "71059914",
   "metadata": {},
   "source": [
    "The accuracy went up by 0.4% with the hyperparameter optimization."
   ]
  },
  {
   "cell_type": "markdown",
   "id": "176a9450",
   "metadata": {},
   "source": [
    "### Confusion Matrix\n",
    "\n",
    "Let's take a look at the Confusion Matrix."
   ]
  },
  {
   "cell_type": "code",
   "execution_count": 520,
   "id": "19dd550f",
   "metadata": {},
   "outputs": [
    {
     "name": "stdout",
     "output_type": "stream",
     "text": [
      "Confusion Matrix:\n",
      "[[ 380  219]\n",
      " [ 174 1571]]\n"
     ]
    },
    {
     "data": {
      "image/png": "[encoded data removed]",
      "text/plain": [
       "<Figure size 432x432 with 2 Axes>"
      ]
     },
     "metadata": {
      "needs_background": "light"
     },
     "output_type": "display_data"
    },
    {
     "name": "stdout",
     "output_type": "stream",
     "text": [
      "              precision    recall  f1-score   support\n",
      "\n",
      "         0.0       0.69      0.63      0.66       599\n",
      "         1.0       0.88      0.90      0.89      1745\n",
      "\n",
      "    accuracy                           0.83      2344\n",
      "   macro avg       0.78      0.77      0.77      2344\n",
      "weighted avg       0.83      0.83      0.83      2344\n",
      "\n"
     ]
    }
   ],
   "source": [
    "print(\"Confusion Matrix:\")\n",
    "cm = confusion_matrix(Y_test, y_pred)\n",
    "print(cm)\n",
    "\n",
    "plot_confusion_matrix(model, X_test, Y_test)  \n",
    "#ConfusionMatrixDisplay.from_predictions(Y_test, y_pred)\n",
    "plt.title('Confusion matrix')\n",
    "#plt.colorbar()\n",
    "plt.ylabel('True label')\n",
    "plt.xlabel('Predicted label')\n",
    "plt.rcParams[\"figure.figsize\"]=(6,6)\n",
    "plt.grid(False)\n",
    "plt.show()\n",
    "print(classification_report(Y_test, y_pred))"
   ]
  },
  {
   "cell_type": "markdown",
   "id": "285f9d5d",
   "metadata": {},
   "source": [
    "Our model seems to predict one class better than other due to imbalanced target values.\n",
    "Let's take a look at the feature importances:"
   ]
  },
  {
   "cell_type": "code",
   "execution_count": 506,
   "id": "3f621b38",
   "metadata": {},
   "outputs": [
    {
     "data": {
      "text/plain": [
       "array([0.03255987, 0.19570894, 0.04636211, 0.02812671, 0.18113919,\n",
       "       0.24337241, 0.07580116, 0.03990442, 0.03353915, 0.08398665,\n",
       "       0.03949939])"
      ]
     },
     "execution_count": 506,
     "metadata": {},
     "output_type": "execute_result"
    }
   ],
   "source": [
    "model.feature_importances_"
   ]
  },
  {
   "cell_type": "code",
   "execution_count": 507,
   "id": "9b575f31",
   "metadata": {},
   "outputs": [
    {
     "data": {
      "text/plain": [
       "Text(0.5, 0, 'Feature Importance')"
      ]
     },
     "execution_count": 507,
     "metadata": {},
     "output_type": "execute_result"
    },
    {
     "data": {
      "image/png": "[encoded data removed]",
      "text/plain": [
       "<Figure size 432x288 with 1 Axes>"
      ]
     },
     "metadata": {
      "needs_background": "light"
     },
     "output_type": "display_data"
    }
   ],
   "source": [
    "#Let's look at feature importances\n",
    "features = X_test.columns\n",
    "sorted_idx = model.feature_importances_.argsort()\n",
    "plt.barh(features[sorted_idx], model.feature_importances_[sorted_idx])\n",
    "plt.xlabel(\"Feature Importance\")"
   ]
  },
  {
   "cell_type": "markdown",
   "id": "30d99e17",
   "metadata": {},
   "source": [
    "### Findings\n",
    "\n",
    "So, the number of topics mastered by students at the end of the year is the most important feature to predict students' STAAR pass/fail determination. We predict that the more topics student mastered, the more likely they pass the STAAR. \n",
    "\n",
    "Second most important factor is the ALEKS grade. That means students who work on upper grade level math subjects perform better on the STAAR than other students.\n",
    "\n",
    "Third important feature is End of Year Mastery Percentage. Students with higher mastery percentage tend to do better on STAAR."
   ]
  },
  {
   "cell_type": "markdown",
   "id": "3170e0df",
   "metadata": {},
   "source": [
    "### Different Tresholds\n",
    "\n",
    "We would like to predict students who will fail STAAR (0 cases) as much as possible because our goal is to identify potential students who will likely to fail STAAR test based on their ALEKS performance. That way, we can intervene earlier.\n",
    "\n",
    "That requires higher Recall scores rather than Precision since we would like to catch as much relevant instances as possible. \n",
    "\n",
    "We can ply with the treshold value to increase recall of 0 cases."
   ]
  },
  {
   "cell_type": "code",
   "execution_count": 521,
   "id": "93d5babb",
   "metadata": {},
   "outputs": [
    {
     "name": "stdout",
     "output_type": "stream",
     "text": [
      "[[ 451  148]\n",
      " [ 262 1483]]\n",
      "              precision    recall  f1-score   support\n",
      "\n",
      "         0.0       0.63      0.75      0.69       599\n",
      "         1.0       0.91      0.85      0.88      1745\n",
      "\n",
      "    accuracy                           0.83      2344\n",
      "   macro avg       0.77      0.80      0.78      2344\n",
      "weighted avg       0.84      0.83      0.83      2344\n",
      "\n"
     ]
    }
   ],
   "source": [
    "threshold = 0.62\n",
    "y_pred = (model.predict_proba(X_test)[:, 1] > threshold).astype('float')\n",
    "print(confusion_matrix(Y_test, y_pred))\n",
    "print(classification_report(Y_test, y_pred))"
   ]
  },
  {
   "cell_type": "markdown",
   "id": "daf50456",
   "metadata": {},
   "source": [
    "As you see, without changing the accuracy score (still 83%), we were able to increase recall of 0 cases by changing the treshold from default 0.5 to 0.62. Now, our model cathces 451 of 599 true positive cases as opposed to 380 over 599."
   ]
  },
  {
   "cell_type": "markdown",
   "id": "e4fe7e88",
   "metadata": {},
   "source": [
    "## Dimensionality Reduction with PCA\n",
    "\n",
    "Let's try Principal Component Analysis to see of it helps model perform better."
   ]
  },
  {
   "cell_type": "code",
   "execution_count": 572,
   "id": "fa7f1a61",
   "metadata": {},
   "outputs": [
    {
     "name": "stdout",
     "output_type": "stream",
     "text": [
      "[0.49273665 0.32040925 0.08232128 0.06034154 0.02515731 0.01123495\n",
      " 0.00341417 0.00211674 0.0013453  0.0009228  0.00000002]\n"
     ]
    }
   ],
   "source": [
    "# Generate all the principal components\n",
    "pca = PCA()\n",
    "X_train_pc = pca.fit_transform(X_train)\n",
    "# X_test_pc = pca.transform(X_test)\n",
    "np.set_printoptions(suppress=True)\n",
    "print(pca.explained_variance_ratio_)"
   ]
  },
  {
   "cell_type": "markdown",
   "id": "7c0c6db4",
   "metadata": {},
   "source": [
    "Let's visualize the PCA with 2 components."
   ]
  },
  {
   "cell_type": "code",
   "execution_count": 568,
   "id": "812a73ee",
   "metadata": {},
   "outputs": [],
   "source": [
    "def plot_2d_space(X, y, label='Classes'):   \n",
    "    colors = ['red', 'green']\n",
    "    markers = ['o', 's']\n",
    "    for l, c, m in zip(np.unique(y), colors, markers):\n",
    "        plt.scatter(\n",
    "            X[y==l, 0],\n",
    "            X[y==l, 1],\n",
    "            c=c, label=l, marker=m,\n",
    "            edgecolor='none', alpha=0.5\n",
    "        )\n",
    "    plt.title(label)\n",
    "    plt.legend(loc='upper right')\n",
    "    plt.xlabel('component 1')\n",
    "    plt.ylabel('component 2')\n",
    "    plt.show()"
   ]
  },
  {
   "cell_type": "code",
   "execution_count": 604,
   "id": "0036bd23",
   "metadata": {
    "scrolled": true
   },
   "outputs": [
    {
     "data": {
      "image/png": "[encoded data removed]",
      "text/plain": [
       "<Figure size 432x432 with 1 Axes>"
      ]
     },
     "metadata": {
      "needs_background": "light"
     },
     "output_type": "display_data"
    }
   ],
   "source": [
    "plot_2d_space(X_train_pc, Y_train, '2 PCA components')"
   ]
  },
  {
   "cell_type": "markdown",
   "id": "ecdca3a3",
   "metadata": {},
   "source": [
    "### Choosing the number of components"
   ]
  },
  {
   "cell_type": "code",
   "execution_count": 602,
   "id": "7c8f51ba",
   "metadata": {},
   "outputs": [
    {
     "data": {
      "text/plain": [
       "Text(0, 0.5, 'cumulative explained variance')"
      ]
     },
     "execution_count": 602,
     "metadata": {},
     "output_type": "execute_result"
    },
    {
     "data": {
      "image/png": "[encoded data removed]",
      "text/plain": [
       "<Figure size 432x432 with 1 Axes>"
      ]
     },
     "metadata": {
      "needs_background": "light"
     },
     "output_type": "display_data"
    }
   ],
   "source": [
    "plt.plot(range(1,12), np.cumsum(pca.explained_variance_ratio_), lw=3)\n",
    "plt.plot([1, 11], [0.95, 0.95], color=\"red\", lw=2, linestyle=\"--\")\n",
    "plt.xlabel('number of components')\n",
    "plt.ylabel('cumulative explained variance')"
   ]
  },
  {
   "cell_type": "markdown",
   "id": "2e2ca945",
   "metadata": {},
   "source": [
    "As you see, 4 components contain approximately 95% of the variance."
   ]
  },
  {
   "cell_type": "code",
   "execution_count": 603,
   "id": "e0400ebb",
   "metadata": {},
   "outputs": [
    {
     "name": "stdout",
     "output_type": "stream",
     "text": [
      "The accuracy score with PCA is 82.30%\n"
     ]
    }
   ],
   "source": [
    "pca = PCA(n_components=4)\n",
    "\n",
    "X_train_pc = pca.fit_transform(X_train)\n",
    "\n",
    "model.fit(X_train_pc, Y_train)\n",
    "\n",
    "X_test_pc = pca.transform(X_test)\n",
    "\n",
    "y_pred_pc = model.predict(X_test_pc) \n",
    "\n",
    "#accuracy of the test set\n",
    "print('The accuracy score with PCA is {:.2f}%'.format(accuracy_score(Y_test, y_pred_pc)*100))"
   ]
  },
  {
   "cell_type": "markdown",
   "id": "d45734dc",
   "metadata": {},
   "source": [
    "### PCA with Kernel\n",
    "\n",
    "Let's try PCA with RBF Kernel."
   ]
  },
  {
   "cell_type": "code",
   "execution_count": 605,
   "id": "b256ea7c",
   "metadata": {
    "scrolled": true
   },
   "outputs": [
    {
     "name": "stdout",
     "output_type": "stream",
     "text": [
      "The accuracy score with PCA is 82.51%\n"
     ]
    }
   ],
   "source": [
    "kpca = KernelPCA(n_components=4, kernel ='rbf')\n",
    "X_train_kpca = kpca.fit_transform(X_train)\n",
    "\n",
    "model.fit(X_train_kpca, Y_train)\n",
    "\n",
    "X_test_kpca = kpca.transform(X_test)\n",
    "\n",
    "#predict the y values based on X_test with and without the hyperparameter tuning:\n",
    "y_pred_kpca = model.predict(X_test_kpca) \n",
    "\n",
    "#accuracy of the test set\n",
    "print('The accuracy score with PCA is {:.2f}%'.format(accuracy_score(Y_test, y_pred_kpca)*100))"
   ]
  },
  {
   "cell_type": "markdown",
   "id": "268d7940",
   "metadata": {},
   "source": [
    "The best score with PCA is 82.51% which is close to 83.23%."
   ]
  },
  {
   "cell_type": "markdown",
   "id": "211d0c82",
   "metadata": {},
   "source": [
    "## Addressing Imbalanced Classes"
   ]
  },
  {
   "cell_type": "code",
   "execution_count": 305,
   "id": "35219277",
   "metadata": {},
   "outputs": [
    {
     "data": {
      "text/plain": [
       "1.0000    6945\n",
       "0.0000    2430\n",
       "Name: Target, dtype: int64"
      ]
     },
     "execution_count": 305,
     "metadata": {},
     "output_type": "execute_result"
    }
   ],
   "source": [
    "# Display class counts\n",
    "df_train_normal.Target.value_counts()"
   ]
  },
  {
   "cell_type": "markdown",
   "id": "5b8da80f",
   "metadata": {},
   "source": [
    "As you see, we have a datasets with a disproportionate ratio of observations in each class. Therefore accuracy score can be a misleading metric to evaluate model performance. Let's try to balance the dataset with 2 different methods."
   ]
  },
  {
   "cell_type": "markdown",
   "id": "0096bbb8",
   "metadata": {},
   "source": [
    "### 1. Let's Down-sample Majority Class"
   ]
  },
  {
   "cell_type": "code",
   "execution_count": 626,
   "id": "ad425b1f",
   "metadata": {},
   "outputs": [
    {
     "data": {
      "text/plain": [
       "1.0000    2430\n",
       "0.0000    2430\n",
       "Name: Target, dtype: int64"
      ]
     },
     "execution_count": 626,
     "metadata": {},
     "output_type": "execute_result"
    }
   ],
   "source": [
    "# Separate majority and minority classes\n",
    "df_minority = df_train_normal[df_train_normal.Target==0]\n",
    "df_majority = df_train_normal[df_train_normal.Target==1]\n",
    " \n",
    "# Downsample majority class\n",
    "df_majority_downsampled = resample(df_majority, \n",
    "                                 replace=False,    # sample without replacement\n",
    "                                 n_samples=2430,     # to match minority class\n",
    "                                 random_state=random_seed) # reproducible results\n",
    " \n",
    "# Combine minority class with downsampled majority class\n",
    "df_downsampled = pd.concat([df_majority_downsampled, df_minority])\n",
    " \n",
    "# Display new class counts\n",
    "df_downsampled.Target.value_counts()"
   ]
  },
  {
   "cell_type": "code",
   "execution_count": 627,
   "id": "b84c25bd",
   "metadata": {},
   "outputs": [
    {
     "data": {
      "text/html": [
       "<div>\n",
       "<style scoped>\n",
       "    .dataframe tbody tr th:only-of-type {\n",
       "        vertical-align: middle;\n",
       "    }\n",
       "\n",
       "    .dataframe tbody tr th {\n",
       "        vertical-align: top;\n",
       "    }\n",
       "\n",
       "    .dataframe thead th {\n",
       "        text-align: right;\n",
       "    }\n",
       "</style>\n",
       "<table border=\"1\" class=\"dataframe\">\n",
       "  <thead>\n",
       "    <tr style=\"text-align: right;\">\n",
       "      <th></th>\n",
       "      <th>Classifier Names</th>\n",
       "      <th>Accuracy Score</th>\n",
       "    </tr>\n",
       "  </thead>\n",
       "  <tbody>\n",
       "    <tr>\n",
       "      <th>0</th>\n",
       "      <td>Gradient Boosting Classifier</td>\n",
       "      <td>0.7962</td>\n",
       "    </tr>\n",
       "    <tr>\n",
       "      <th>1</th>\n",
       "      <td>LGBM Classifier</td>\n",
       "      <td>0.7905</td>\n",
       "    </tr>\n",
       "    <tr>\n",
       "      <th>2</th>\n",
       "      <td>AdaBoost Classifier</td>\n",
       "      <td>0.7886</td>\n",
       "    </tr>\n",
       "    <tr>\n",
       "      <th>3</th>\n",
       "      <td>Random Forest Classifier</td>\n",
       "      <td>0.7876</td>\n",
       "    </tr>\n",
       "    <tr>\n",
       "      <th>4</th>\n",
       "      <td>XGB Classifier</td>\n",
       "      <td>0.7799</td>\n",
       "    </tr>\n",
       "    <tr>\n",
       "      <th>5</th>\n",
       "      <td>KNeighbors Classifier</td>\n",
       "      <td>0.7778</td>\n",
       "    </tr>\n",
       "    <tr>\n",
       "      <th>6</th>\n",
       "      <td>Linear SVC</td>\n",
       "      <td>0.7720</td>\n",
       "    </tr>\n",
       "    <tr>\n",
       "      <th>7</th>\n",
       "      <td>Logistic Regression</td>\n",
       "      <td>0.7700</td>\n",
       "    </tr>\n",
       "    <tr>\n",
       "      <th>8</th>\n",
       "      <td>Linear Discriminant Analysis</td>\n",
       "      <td>0.7638</td>\n",
       "    </tr>\n",
       "    <tr>\n",
       "      <th>9</th>\n",
       "      <td>SGD Classifier</td>\n",
       "      <td>0.7578</td>\n",
       "    </tr>\n",
       "    <tr>\n",
       "      <th>10</th>\n",
       "      <td>Decision Tree Classifier</td>\n",
       "      <td>0.7283</td>\n",
       "    </tr>\n",
       "    <tr>\n",
       "      <th>11</th>\n",
       "      <td>Gaussian Naive Bayes</td>\n",
       "      <td>0.7106</td>\n",
       "    </tr>\n",
       "  </tbody>\n",
       "</table>\n",
       "</div>"
      ],
      "text/plain": [
       "                Classifier Names  Accuracy Score\n",
       "0   Gradient Boosting Classifier          0.7962\n",
       "1                LGBM Classifier          0.7905\n",
       "2            AdaBoost Classifier          0.7886\n",
       "3       Random Forest Classifier          0.7876\n",
       "4                 XGB Classifier          0.7799\n",
       "5          KNeighbors Classifier          0.7778\n",
       "6                     Linear SVC          0.7720\n",
       "7            Logistic Regression          0.7700\n",
       "8   Linear Discriminant Analysis          0.7638\n",
       "9                 SGD Classifier          0.7578\n",
       "10      Decision Tree Classifier          0.7283\n",
       "11          Gaussian Naive Bayes          0.7106"
      ]
     },
     "execution_count": 627,
     "metadata": {},
     "output_type": "execute_result"
    }
   ],
   "source": [
    "# Separate input features (X) and target variable (y)\n",
    "y_d = df_downsampled.Target\n",
    "X_d = df_downsampled.drop('Target', axis=1)\n",
    "\n",
    "train_clf_model(model_list, model_names, X_d, y_d)"
   ]
  },
  {
   "cell_type": "markdown",
   "id": "137b8e5e",
   "metadata": {},
   "source": [
    "It seems that the accuracy decreased! Let's predict the testing results."
   ]
  },
  {
   "cell_type": "code",
   "execution_count": 628,
   "id": "017b9983",
   "metadata": {},
   "outputs": [
    {
     "name": "stdout",
     "output_type": "stream",
     "text": [
      "The accuracy score is 78.16%\n"
     ]
    }
   ],
   "source": [
    "#model selection\n",
    "model_d = GradientBoostingClassifier()\n",
    "\n",
    "#fitting it on the training set\n",
    "model_d.fit(X_d, y_d)\n",
    "\n",
    "#predict the y values based on X_test\n",
    "y_pred_d = model_d.predict(X_test)\n",
    "        \n",
    "#accuracy of the test set\n",
    "print('The accuracy score is {:.2f}%'.format(accuracy_score(Y_test, y_pred_d)*100))"
   ]
  },
  {
   "cell_type": "markdown",
   "id": "34232fc3",
   "metadata": {},
   "source": [
    "The accuracy scores actually went down! So downsampling majority class did not work!"
   ]
  },
  {
   "cell_type": "markdown",
   "id": "61011d16",
   "metadata": {},
   "source": [
    "### 2. Let's Up-sample Minority Class"
   ]
  },
  {
   "cell_type": "code",
   "execution_count": 606,
   "id": "c909fea0",
   "metadata": {},
   "outputs": [
    {
     "data": {
      "text/plain": [
       "1.0000    6945\n",
       "0.0000    6945\n",
       "Name: Target, dtype: int64"
      ]
     },
     "execution_count": 606,
     "metadata": {},
     "output_type": "execute_result"
    }
   ],
   "source": [
    "df_minority = df_train_normal[df_train_normal.Target==0]\n",
    "df_majority = df_train_normal[df_train_normal.Target==1]\n",
    " \n",
    "# Upsample minority class\n",
    "df_minority_upsampled = resample(df_minority, \n",
    "                                 replace=True,     # sample with replacement\n",
    "                                 n_samples=6945,    # to match majority class\n",
    "                                 random_state=random_seed) # reproducible results\n",
    " \n",
    "# Combine majority class with upsampled minority class\n",
    "df_upsampled = pd.concat([df_majority, df_minority_upsampled])\n",
    " \n",
    "# Display new class counts\n",
    "df_upsampled.Target.value_counts()"
   ]
  },
  {
   "cell_type": "markdown",
   "id": "5dfcb404",
   "metadata": {},
   "source": [
    "Now, we have the same number of observations for in each class."
   ]
  },
  {
   "cell_type": "code",
   "execution_count": 620,
   "id": "ff873b86",
   "metadata": {},
   "outputs": [
    {
     "data": {
      "text/html": [
       "<div>\n",
       "<style scoped>\n",
       "    .dataframe tbody tr th:only-of-type {\n",
       "        vertical-align: middle;\n",
       "    }\n",
       "\n",
       "    .dataframe tbody tr th {\n",
       "        vertical-align: top;\n",
       "    }\n",
       "\n",
       "    .dataframe thead th {\n",
       "        text-align: right;\n",
       "    }\n",
       "</style>\n",
       "<table border=\"1\" class=\"dataframe\">\n",
       "  <thead>\n",
       "    <tr style=\"text-align: right;\">\n",
       "      <th></th>\n",
       "      <th>Classifier Names</th>\n",
       "      <th>Accuracy Score</th>\n",
       "    </tr>\n",
       "  </thead>\n",
       "  <tbody>\n",
       "    <tr>\n",
       "      <th>0</th>\n",
       "      <td>Random Forest Classifier</td>\n",
       "      <td>0.9154</td>\n",
       "    </tr>\n",
       "    <tr>\n",
       "      <th>1</th>\n",
       "      <td>Decision Tree Classifier</td>\n",
       "      <td>0.8970</td>\n",
       "    </tr>\n",
       "    <tr>\n",
       "      <th>2</th>\n",
       "      <td>XGB Classifier</td>\n",
       "      <td>0.8945</td>\n",
       "    </tr>\n",
       "    <tr>\n",
       "      <th>3</th>\n",
       "      <td>LGBM Classifier</td>\n",
       "      <td>0.8651</td>\n",
       "    </tr>\n",
       "    <tr>\n",
       "      <th>4</th>\n",
       "      <td>KNeighbors Classifier</td>\n",
       "      <td>0.8339</td>\n",
       "    </tr>\n",
       "    <tr>\n",
       "      <th>5</th>\n",
       "      <td>Gradient Boosting Classifier</td>\n",
       "      <td>0.8166</td>\n",
       "    </tr>\n",
       "    <tr>\n",
       "      <th>6</th>\n",
       "      <td>AdaBoost Classifier</td>\n",
       "      <td>0.8014</td>\n",
       "    </tr>\n",
       "    <tr>\n",
       "      <th>7</th>\n",
       "      <td>Linear SVC</td>\n",
       "      <td>0.7739</td>\n",
       "    </tr>\n",
       "    <tr>\n",
       "      <th>8</th>\n",
       "      <td>Logistic Regression</td>\n",
       "      <td>0.7719</td>\n",
       "    </tr>\n",
       "    <tr>\n",
       "      <th>9</th>\n",
       "      <td>SGD Classifier</td>\n",
       "      <td>0.7655</td>\n",
       "    </tr>\n",
       "    <tr>\n",
       "      <th>10</th>\n",
       "      <td>Linear Discriminant Analysis</td>\n",
       "      <td>0.7641</td>\n",
       "    </tr>\n",
       "    <tr>\n",
       "      <th>11</th>\n",
       "      <td>Gaussian Naive Bayes</td>\n",
       "      <td>0.7087</td>\n",
       "    </tr>\n",
       "  </tbody>\n",
       "</table>\n",
       "</div>"
      ],
      "text/plain": [
       "                Classifier Names  Accuracy Score\n",
       "0       Random Forest Classifier          0.9154\n",
       "1       Decision Tree Classifier          0.8970\n",
       "2                 XGB Classifier          0.8945\n",
       "3                LGBM Classifier          0.8651\n",
       "4          KNeighbors Classifier          0.8339\n",
       "5   Gradient Boosting Classifier          0.8166\n",
       "6            AdaBoost Classifier          0.8014\n",
       "7                     Linear SVC          0.7739\n",
       "8            Logistic Regression          0.7719\n",
       "9                 SGD Classifier          0.7655\n",
       "10  Linear Discriminant Analysis          0.7641\n",
       "11          Gaussian Naive Bayes          0.7087"
      ]
     },
     "execution_count": 620,
     "metadata": {},
     "output_type": "execute_result"
    }
   ],
   "source": [
    "# Separate input features (X) and target variable (y)\n",
    "y_u = df_upsampled.Target\n",
    "X_u = df_upsampled.drop('Target', axis=1)\n",
    "\n",
    "train_clf_model(model_list, model_names, X_u, y_u)"
   ]
  },
  {
   "cell_type": "markdown",
   "id": "0e665d8b",
   "metadata": {},
   "source": [
    "The Random Forest Classifier did a better job on the training set after upsampling the minority class!\n",
    "\n",
    "Let's see the predictions."
   ]
  },
  {
   "cell_type": "code",
   "execution_count": 624,
   "id": "caaca11e",
   "metadata": {},
   "outputs": [
    {
     "name": "stdout",
     "output_type": "stream",
     "text": [
      "The accuracy score is 83.11%\n"
     ]
    }
   ],
   "source": [
    "#model selection\n",
    "model_u = RandomForestClassifier()\n",
    "\n",
    "#fitting it on the training set\n",
    "model_u.fit(X_u, y_u)\n",
    "\n",
    "#predict the y values based on X_test with and without the hyperparameter tuning:\n",
    "y_pred_u = model_u.predict(X_test)    \n",
    "\n",
    "#accuracy of the test set\n",
    "print('The accuracy score is {:.2f}%'.format(accuracy_score(Y_test, y_pred_u)*100))"
   ]
  },
  {
   "cell_type": "markdown",
   "id": "eb19569f",
   "metadata": {},
   "source": [
    "The accuracy has not improved. "
   ]
  },
  {
   "cell_type": "code",
   "execution_count": 625,
   "id": "b268dbaa",
   "metadata": {},
   "outputs": [
    {
     "name": "stdout",
     "output_type": "stream",
     "text": [
      "Confusion Matrix for Random Forest Classifier:\n",
      "[[ 377  222]\n",
      " [ 174 1571]]\n",
      "              precision    recall  f1-score   support\n",
      "\n",
      "         0.0       0.68      0.63      0.66       599\n",
      "         1.0       0.88      0.90      0.89      1745\n",
      "\n",
      "    accuracy                           0.83      2344\n",
      "   macro avg       0.78      0.76      0.77      2344\n",
      "weighted avg       0.83      0.83      0.83      2344\n",
      "\n"
     ]
    }
   ],
   "source": [
    "#Random Forest Confusion Matrix\n",
    "print(\"Confusion Matrix for Random Forest Classifier:\")\n",
    "cm = confusion_matrix(Y_test, y_pred_u)\n",
    "print(cm)\n",
    "print(classification_report(Y_test, y_pred_u))"
   ]
  },
  {
   "cell_type": "markdown",
   "id": "c32c9dc9",
   "metadata": {},
   "source": [
    "### Area Under the ROC Curve\n",
    "\n",
    "Since we have an imbalanced dataset, we can use other performance metrics for evaluating the model.\n",
    "\n",
    "For a general-purpose metric for classification, Area Under ROC Curve (AUROC) is generally recommended.\n",
    "\n",
    "AUROC represents the likelihood of the model distinguishing observations from two classes."
   ]
  },
  {
   "cell_type": "code",
   "execution_count": 631,
   "id": "6774a9dd",
   "metadata": {},
   "outputs": [
    {
     "name": "stdout",
     "output_type": "stream",
     "text": [
      "The accuracy score with the hyperparameter optimization is 83.28%\n"
     ]
    }
   ],
   "source": [
    "#model selection\n",
    "model = GradientBoostingClassifier(max_depth=5)\n",
    "\n",
    "#fitting it on the training set\n",
    "model.fit(X_train, Y_train)\n",
    "\n",
    "#predict the y values based on X_test with and without the hyperparameter tuning:\n",
    "y_pred = model.predict(X_test)    \n",
    "\n",
    "#accuracy of the test set\n",
    "print('The accuracy score with the hyperparameter optimization is {:.2f}%'.format(accuracy_score(Y_test, y_pred)*100))"
   ]
  },
  {
   "cell_type": "code",
   "execution_count": 648,
   "id": "553223d3",
   "metadata": {},
   "outputs": [],
   "source": [
    "predicted = model.predict_proba(X_test)\n",
    "fpr, tpr, thresholds = roc_curve(Y_test, predicted[:,1])"
   ]
  },
  {
   "cell_type": "code",
   "execution_count": 649,
   "id": "ddae4605",
   "metadata": {
    "scrolled": true
   },
   "outputs": [
    {
     "data": {
      "image/png": "[encoded data removed]",
      "text/plain": [
       "<Figure size 432x432 with 1 Axes>"
      ]
     },
     "metadata": {
      "needs_background": "light"
     },
     "output_type": "display_data"
    }
   ],
   "source": [
    "plt.figure()\n",
    "lw = 3\n",
    "plt.plot(\n",
    "    fpr,\n",
    "    tpr,\n",
    "    color=\"darkorange\",\n",
    "    lw=lw,\n",
    "    label=\"ROC curve (area = %0.2f)\" % roc_auc_score(Y_test, predicted[:,1]),\n",
    ")\n",
    "plt.plot([0, 1], [0, 1], color=\"navy\", lw=lw, linestyle=\"--\")\n",
    "plt.xlim([0.0, 1.02])\n",
    "plt.ylim([0.0, 1.05])\n",
    "plt.xlabel(\"False Positive Rate\")\n",
    "plt.ylabel(\"True Positive Rate\")\n",
    "plt.title(\"Receiver operating characteristic\")\n",
    "plt.legend(loc=\"lower right\")\n",
    "plt.show()"
   ]
  },
  {
   "cell_type": "markdown",
   "id": "177503c1",
   "metadata": {},
   "source": [
    "So, our score now is 88% based on AUROC!"
   ]
  },
  {
   "cell_type": "markdown",
   "id": "e0d0ce5e",
   "metadata": {},
   "source": [
    "### Precision-Recall curve\n"
   ]
  },
  {
   "cell_type": "markdown",
   "id": "9a026de0",
   "metadata": {},
   "source": [
    "Another alternative metric is Precision Recall Curve."
   ]
  },
  {
   "cell_type": "code",
   "execution_count": 652,
   "id": "c97304b4",
   "metadata": {},
   "outputs": [],
   "source": [
    "precision, recall, thresholds = precision_recall_curve(Y_test, predicted[:,1])"
   ]
  },
  {
   "cell_type": "code",
   "execution_count": 655,
   "id": "fc12d7a5",
   "metadata": {},
   "outputs": [
    {
     "data": {
      "image/png": "[encoded data removed]",
      "text/plain": [
       "<Figure size 432x432 with 1 Axes>"
      ]
     },
     "metadata": {
      "needs_background": "light"
     },
     "output_type": "display_data"
    }
   ],
   "source": [
    "plt.figure()\n",
    "lw = 2\n",
    "plt.plot(\n",
    "    recall,\n",
    "    precision,\n",
    "    color=\"green\",\n",
    "    lw=lw,\n",
    "    label=\"AUC: %0.2f\" % auc(recall, precision),\n",
    ")\n",
    "plt.plot([0, 1], [0.5, 0.5], color=\"navy\", lw=lw, linestyle=\"--\")\n",
    "plt.xlabel(\"Recall\")\n",
    "plt.ylabel(\"Precision\")\n",
    "plt.title(\"Precision-Recall Curve\")\n",
    "plt.legend(loc=\"lower left\")\n",
    "plt.show()"
   ]
  },
  {
   "cell_type": "markdown",
   "id": "1343098e",
   "metadata": {},
   "source": [
    "The the area under the Precision-Recall curve is 0.96, so our score is 96%."
   ]
  },
  {
   "cell_type": "code",
   "execution_count": null,
   "id": "2213254d",
   "metadata": {},
   "outputs": [],
   "source": []
  }
 ],
 "metadata": {
  "kernelspec": {
   "display_name": "Python 3 (ipykernel)",
   "language": "python",
   "name": "python3"
  },
  "language_info": {
   "codemirror_mode": {
    "name": "ipython",
    "version": 3
   },
   "file_extension": ".py",
   "mimetype": "text/x-python",
   "name": "python",
   "nbconvert_exporter": "python",
   "pygments_lexer": "ipython3",
   "version": "3.9.7"
  }
 },
 "nbformat": 4,
 "nbformat_minor": 5
}
